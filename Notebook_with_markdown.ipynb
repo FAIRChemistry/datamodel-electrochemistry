{
 "cells": [
  {
   "attachments": {},
   "cell_type": "markdown",
   "metadata": {},
   "source": [
    "# Workflow for e-chemistry \n",
    "Version (10.07.2023) (python version 3.10.6)\n",
    "\n",
    "This workspace is dedicated to e-chemistry, providing analysis tools for CP, CA, and CV. Please note that these tools are specifically designed to work with a particular file format.\n",
    "\n",
    "The CP class is developed and maintained by the Elias Klemm group at the University of Stuttgart. For CA and CV analysis, you can utilize the projects from the Kristina Tschulik group at the University of Bochum and the Biprajit Sarkar group at the University of Stuttgart."
   ]
  },
  {
   "attachments": {},
   "cell_type": "markdown",
   "metadata": {},
   "source": [
    "# Packages for the Analysis tools"
   ]
  },
  {
   "cell_type": "code",
   "execution_count": 1,
   "metadata": {},
   "outputs": [],
   "source": [
    "import pandas as pd\n",
    "import numpy as np\n",
    "import matplotlib.pyplot as plt\n",
    "import os\n",
    "import datetime\n",
    "import copy\n",
    "from scipy.optimize import curve_fit\n",
    "from sdRDM import DataModel\n",
    "from tabulate import tabulate\n",
    "from scipy.integrate import trapz\n",
    "import ipywidgets as widgets\n",
    "from ipywidgets import interact, interactive, fixed, interact_manual\n",
    "from IPython.display import display\n",
    "import json\n",
    "################################################################\n",
    "#imports the Analysis tools from the subfolder functions. They are in a Py file called Analysis\n",
    "from tools.analysis_tools import ReferenceCalculator,Chronopotentiometry,Chronoamperometry,CyclicVoltammetry\n",
    "%load_ext autoreload\n",
    "%autoreload 2"
   ]
  },
  {
   "attachments": {},
   "cell_type": "markdown",
   "metadata": {},
   "source": [
    "# Creation of the subfolders data and plots\n",
    "By exicuting the following cell two subfolder were created called data and plots. In the data folder you can store your measurement data and the plot folder is the folder were your plots get created. The plot folder is neccasary if you want to save your plots."
   ]
  },
  {
   "cell_type": "code",
   "execution_count": null,
   "metadata": {},
   "outputs": [],
   "source": [
    "path_program=os.getcwd()\n",
    "data=\"/data\"\n",
    "plots=\"/plots\"\n",
    "\n",
    "path_data= path_program + data\n",
    "path_plots=path_program+ plots\n",
    "if not os.path.exists(path_data):\n",
    "    os.makedirs(path_data)\n",
    "if not os.path.exists(path_plots):\n",
    "    os.makedirs(path_plots)\n"
   ]
  },
  {
   "attachments": {},
   "cell_type": "markdown",
   "metadata": {},
   "source": [
    "# Datamodel from GitHub\n",
    "The following cell loads the Datamodel from GitHub and stores it in the variable lib. The Datamodel is stored in e_chem."
   ]
  },
  {
   "cell_type": "code",
   "execution_count": 2,
   "metadata": {},
   "outputs": [],
   "source": [
    "\n",
    "lib = DataModel.from_markdown(\"specifications/Electrochemistry.md\")\n",
    "#lib=DataModel.from_git(url=\"https://github.com/FAIRChemistry/datamodel-electrochemistry.git\")\n",
    "# lib = DataModel.from_git(\n",
    "#     \"https://github.com/FAIRChemistry/datamodel-electrochemistry.git\",\n",
    "#     tag=\"develop\"\n",
    "# )\n",
    "e_chem=lib.Dataset()\n",
    "\n"
   ]
  },
  {
   "cell_type": "code",
   "execution_count": 11,
   "metadata": {},
   "outputs": [],
   "source": [
    "# e_chem.json()\n",
    "# json_file_path = \"./e_chem.json\"\n",
    "\n",
    "# # Die Daten in JSON konvertieren und in die Datei schreiben\n",
    "# with open(json_file_path, \"w\") as json_file:\n",
    "#     json.dump(e_chem.json(), json_file)"
   ]
  },
  {
   "cell_type": "code",
   "execution_count": 24,
   "metadata": {},
   "outputs": [],
   "source": [
    "#dataset = lib.Dataset()\n",
    "\n",
    "with open(\"./dataset.json\", \"w\") as f:\n",
    "    f.write(e_chem.json())\n",
    "    \n",
    "with open(\"./dataset_no_source.json\", \"w\") as f:\n",
    "    data = e_chem.to_dict()\n",
    "    \n",
    "    # Remove source for demo\n",
    "    del data[\"__source__\"]\n",
    "    \n",
    "    json.dump(data, f, indent=2)\n"
   ]
  },
  {
   "cell_type": "code",
   "execution_count": 25,
   "metadata": {},
   "outputs": [
    {
     "ename": "KeyError",
     "evalue": "'repo'",
     "output_type": "error",
     "traceback": [
      "\u001b[0;31m---------------------------------------------------------------------------\u001b[0m",
      "\u001b[0;31mKeyError\u001b[0m                                  Traceback (most recent call last)",
      "\u001b[1;32m/mnt/c/Github/datamodel-electrochemistry/Notebook_with_markdown.ipynb Cell 10\u001b[0m line \u001b[0;36m1\n\u001b[0;32m----> <a href='vscode-notebook-cell://wsl%2Bubuntu-22.04/mnt/c/Github/datamodel-electrochemistry/Notebook_with_markdown.ipynb#X12sdnNjb2RlLXJlbW90ZQ%3D%3D?line=0'>1</a>\u001b[0m dataset, _ \u001b[39m=\u001b[39m DataModel\u001b[39m.\u001b[39;49mparse(\u001b[39m\"\u001b[39;49m\u001b[39m./dataset.json\u001b[39;49m\u001b[39m\"\u001b[39;49m)\n\u001b[1;32m      <a href='vscode-notebook-cell://wsl%2Bubuntu-22.04/mnt/c/Github/datamodel-electrochemistry/Notebook_with_markdown.ipynb#X12sdnNjb2RlLXJlbW90ZQ%3D%3D?line=1'>2</a>\u001b[0m \u001b[39mprint\u001b[39m(dataset)\n",
      "File \u001b[0;32m/mnt/c/Github/software-driven-rdm/sdRDM/base/datamodel.py:501\u001b[0m, in \u001b[0;36mDataModel.parse\u001b[0;34m(cls, path, data, root_name, attr_replace)\u001b[0m\n\u001b[1;32m    498\u001b[0m     \u001b[39mreturn\u001b[39;00m root\u001b[39m.\u001b[39mfrom_dict(dataset), lib\n\u001b[1;32m    499\u001b[0m \u001b[39melse\u001b[39;00m:\n\u001b[1;32m    500\u001b[0m     \u001b[39m# Get source and build libary\u001b[39;00m\n\u001b[0;32m--> 501\u001b[0m     url \u001b[39m=\u001b[39m dataset\u001b[39m.\u001b[39;49mget(\u001b[39m\"\u001b[39;49m\u001b[39m__source__\u001b[39;49m\u001b[39m\"\u001b[39;49m)[\u001b[39m\"\u001b[39;49m\u001b[39mrepo\u001b[39;49m\u001b[39m\"\u001b[39;49m]\n\u001b[1;32m    502\u001b[0m     commit \u001b[39m=\u001b[39m dataset\u001b[39m.\u001b[39mget(\u001b[39m\"\u001b[39m\u001b[39m__source__\u001b[39m\u001b[39m\"\u001b[39m)[\u001b[39m\"\u001b[39m\u001b[39mcommit\u001b[39m\u001b[39m\"\u001b[39m]\n\u001b[1;32m    503\u001b[0m     root \u001b[39m=\u001b[39m dataset\u001b[39m.\u001b[39mget(\u001b[39m\"\u001b[39m\u001b[39m__source__\u001b[39m\u001b[39m\"\u001b[39m)[\u001b[39m\"\u001b[39m\u001b[39mroot\u001b[39m\u001b[39m\"\u001b[39m]\n",
      "\u001b[0;31mKeyError\u001b[0m: 'repo'"
     ]
    }
   ],
   "source": [
    "# dataset, _ = DataModel.parse(\"./dataset.json\")\n",
    "# print(dataset)"
   ]
  },
  {
   "cell_type": "code",
   "execution_count": 26,
   "metadata": {},
   "outputs": [
    {
     "name": "stdout",
     "output_type": "stream",
     "text": [
      "The dataset without source (Best to use with the target class's 'from_json' method\n",
      "\n",
      "{\n",
      "  \"id\": \"dataset0\",\n",
      "  \"experiments\": [\n",
      "    {\n",
      "      \"id\": \"experiment9\",\n",
      "      \"name\": \"Cu 12 nm\",\n",
      "      \"filename\": \"data/Cu12nm.DTA\",\n",
      "      \"electrode_setup\": {\n",
      "        \"id\": \"electrodesetup9\",\n",
      "        \"working_electrode\": \"Au\",\n",
      "        \"working_electrode_area\": 1.0,\n",
      "        \"working_electrode_area_unit\": \"cm^2\",\n",
      "        \"counter_electrode\": \"Pt\",\n",
      "        \"reference_electrode\": \"Hg/HgO\",\n",
      "        \"reference_electrode_salt\": \"KCl\",\n",
      "        \"reference_electrode_salt_concentration\": 1.0,\n",
      "        \"reference_electrode_salt_concentration_unit\": \"M\"\n",
      "      },\n",
      "      \"electrolyte\": {\n",
      "        \"id\": \"electrolyte9\",\n",
      "        \"solvent\": \"H$_2$O\",\n",
      "        \"conducting_salt\": \"KOH\",\n",
      "        \"conducting_salt_concentration\": 1.0,\n",
      "        \"conducting_salt_concentration_unit\": \"M\",\n",
      "        \"pH\": 10.0\n",
      "      },\n",
      "      \"analysis\": {\n",
      "        \"id\": \"analysis9\",\n",
      "        \"cp\": {\n",
      "          \"id\": \"cp2\",\n",
      "          \"measurement_potential_unit\": \"V\",\n",
      "          \"measurement_time_unit\": \"s\",\n",
      "          \"induced_current\": [\n",
      "            200.0\n",
      "          ],\n",
      "          \"induced_current_unit\": \"mA\"\n",
      "        }\n",
      "      },\n",
      "      \"type\": \"CP\"\n",
      "    },\n",
      "    {\n",
      "      \"id\": \"experiment10\",\n",
      "      \"name\": \"Cu 14 nm\",\n",
      "      \"filename\": \"data/Cu14nm.DTA\",\n",
      "      \"electrode_setup\": {\n",
      "        \"id\": \"electrodesetup10\",\n",
      "        \"working_electrode\": \"Au\",\n",
      "        \"working_electrode_area\": 1.0,\n",
      "        \"working_electrode_area_unit\": \"cm^2\",\n",
      "        \"counter_electrode\": \"Pt\",\n",
      "        \"reference_electrode\": \"Ag/AgCl\",\n",
      "        \"reference_electrode_salt\": \"KCl\",\n",
      "        \"reference_electrode_salt_concentration\": 1.0,\n",
      "        \"reference_electrode_salt_concentration_unit\": \"M\"\n",
      "      },\n",
      "      \"electrolyte\": {\n",
      "        \"id\": \"electrolyte10\",\n",
      "        \"solvent\": \"MeCN\",\n",
      "        \"conducting_salt\": \"KOH\",\n",
      "        \"conducting_salt_concentration\": 1.0,\n",
      "        \"conducting_salt_concentration_unit\": \"M\",\n",
      "        \"pH\": 10.0\n",
      "      },\n",
      "      \"analysis\": {\n",
      "        \"id\": \"analysis10\",\n",
      "        \"cp\": {\n",
      "          \"id\": \"cp3\",\n",
      "          \"measurement_potential_unit\": \"V\",\n",
      "          \"measurement_time_unit\": \"s\",\n",
      "          \"induced_current\": [\n",
      "            200.0\n",
      "          ],\n",
      "          \"induced_current_unit\": \"mA\"\n",
      "        }\n",
      "      },\n",
      "      \"type\": \"CP\"\n",
      "    },\n",
      "    {\n",
      "      \"id\": \"experiment11\",\n",
      "      \"name\": \"CA1\",\n",
      "      \"filename\": \"data/CA1.dat\",\n",
      "      \"electrode_setup\": {\n",
      "        \"id\": \"electrodesetup11\",\n",
      "        \"working_electrode_area\": 1.0,\n",
      "        \"working_electrode_area_unit\": \"cm^2\",\n",
      "        \"counter_electrode\": \"Pt\",\n",
      "        \"reference_electrode\": \"Hg/HgO\",\n",
      "        \"reference_electrode_salt\": \"KCl\",\n",
      "        \"reference_electrode_salt_concentration\": 1.0,\n",
      "        \"reference_electrode_salt_concentration_unit\": \"M\"\n",
      "      },\n",
      "      \"electrolyte\": {\n",
      "        \"id\": \"electrolyte11\",\n",
      "        \"solvent\": \"H$_2$O\",\n",
      "        \"conducting_salt\": \"KOH\",\n",
      "        \"conducting_salt_concentration\": 1.0,\n",
      "        \"conducting_salt_concentration_unit\": \"M\",\n",
      "        \"pH\": 10.0\n",
      "      },\n",
      "      \"analysis\": {\n",
      "        \"id\": \"analysis11\",\n",
      "        \"ca\": {\n",
      "          \"id\": \"ca2\",\n",
      "          \"measurement_current_unit\": \"A\",\n",
      "          \"measurement_time_unit\": \"s\",\n",
      "          \"induced_potential\": [\n",
      "            20.0\n",
      "          ],\n",
      "          \"induced_potential_unit\": \"V\"\n",
      "        }\n",
      "      },\n",
      "      \"type\": \"CA\"\n",
      "    },\n",
      "    {\n",
      "      \"id\": \"experiment12\",\n",
      "      \"name\": \"CA\",\n",
      "      \"filename\": \"data/CA_Sarkar.txt\",\n",
      "      \"electrode_setup\": {\n",
      "        \"id\": \"electrodesetup12\",\n",
      "        \"working_electrode_area\": 1.0,\n",
      "        \"working_electrode_area_unit\": \"cm^2\",\n",
      "        \"counter_electrode\": \"Pt\",\n",
      "        \"reference_electrode\": \"Ag/AgCl\",\n",
      "        \"reference_electrode_salt\": \"KCl\",\n",
      "        \"reference_electrode_salt_concentration\": 1.0,\n",
      "        \"reference_electrode_salt_concentration_unit\": \"M\"\n",
      "      },\n",
      "      \"electrolyte\": {\n",
      "        \"id\": \"electrolyte12\",\n",
      "        \"solvent\": \"MeCN\",\n",
      "        \"conducting_salt\": \"KOH\",\n",
      "        \"conducting_salt_concentration\": 1.0,\n",
      "        \"conducting_salt_concentration_unit\": \"M\",\n",
      "        \"pH\": 10.0\n",
      "      },\n",
      "      \"analysis\": {\n",
      "        \"id\": \"analysis12\",\n",
      "        \"ca\": {\n",
      "          \"id\": \"ca3\",\n",
      "          \"measurement_current_unit\": \"A\",\n",
      "          \"measurement_time_unit\": \"s\",\n",
      "          \"induced_potential\": [\n",
      "            20.0\n",
      "          ],\n",
      "          \"induced_potential_unit\": \"V\"\n",
      "        }\n",
      "      },\n",
      "      \"type\": \"CA\"\n",
      "    },\n",
      "    {\n",
      "      \"id\": \"experiment13\",\n",
      "      \"name\": \"CV\",\n",
      "      \"filename\": \"data/SarkarCV_utf8.csv\",\n",
      "      \"electrode_setup\": {\n",
      "        \"id\": \"electrodesetup13\",\n",
      "        \"working_electrode\": \"Au\",\n",
      "        \"working_electrode_area\": 2.0,\n",
      "        \"working_electrode_area_unit\": \"cm^2\",\n",
      "        \"counter_electrode\": \"Pt\",\n",
      "        \"reference_electrode\": \"Ag/AgCl\",\n",
      "        \"reference_electrode_salt\": \"KCl\",\n",
      "        \"reference_electrode_salt_concentration\": 1.0,\n",
      "        \"reference_electrode_salt_concentration_unit\": \"M\"\n",
      "      },\n",
      "      \"electrolyte\": {\n",
      "        \"id\": \"electrolyte13\",\n",
      "        \"solvent\": \"H$_2$O\",\n",
      "        \"conducting_salt\": \"KOH\",\n",
      "        \"conducting_salt_concentration\": 1.0,\n",
      "        \"conducting_salt_concentration_unit\": \"M\",\n",
      "        \"pH\": 10.0\n",
      "      },\n",
      "      \"analysis\": {\n",
      "        \"id\": \"analysis13\",\n",
      "        \"cv\": {\n",
      "          \"id\": \"cv5\",\n",
      "          \"measurement_current_unit\": \"\\u00b5A\",\n",
      "          \"measurement_potential_unit\": \"V\",\n",
      "          \"scan_rate\": 20.0,\n",
      "          \"scan_rate_unit\": \"mV/s\"\n",
      "        }\n",
      "      },\n",
      "      \"type\": \"CV\"\n",
      "    },\n",
      "    {\n",
      "      \"id\": \"experiment14\",\n",
      "      \"name\": \"CV\",\n",
      "      \"filename\": \"data/CV_all2.xlsx\",\n",
      "      \"electrode_setup\": {\n",
      "        \"id\": \"electrodesetup14\",\n",
      "        \"working_electrode\": \"Au\",\n",
      "        \"working_electrode_area\": 2.0,\n",
      "        \"working_electrode_area_unit\": \"cm^2\",\n",
      "        \"counter_electrode\": \"Pt\",\n",
      "        \"reference_electrode\": \"Ag/AgCl\",\n",
      "        \"reference_electrode_salt\": \"KCl\",\n",
      "        \"reference_electrode_salt_concentration\": 1.0,\n",
      "        \"reference_electrode_salt_concentration_unit\": \"M\"\n",
      "      },\n",
      "      \"electrolyte\": {\n",
      "        \"id\": \"electrolyte14\",\n",
      "        \"solvent\": \"MeCN\",\n",
      "        \"conducting_salt\": \"[Bu$_4$N][PF$_6$]\",\n",
      "        \"conducting_salt_concentration\": 1.0,\n",
      "        \"conducting_salt_concentration_unit\": \"M\",\n",
      "        \"pH\": 10.0\n",
      "      },\n",
      "      \"analysis\": {\n",
      "        \"id\": \"analysis14\",\n",
      "        \"cv\": {\n",
      "          \"id\": \"cv6\",\n",
      "          \"measurement_current_unit\": \"\\u00b5A\",\n",
      "          \"measurement_potential_unit\": \"V\",\n",
      "          \"scan_rate\": 20.0,\n",
      "          \"scan_rate_unit\": \"mV/s\"\n",
      "        }\n",
      "      },\n",
      "      \"type\": \"CV\"\n",
      "    },\n",
      "    {\n",
      "      \"id\": \"experiment15\",\n",
      "      \"name\": \"CV\",\n",
      "      \"filename\": \"data/CV_all.xlsx\",\n",
      "      \"electrode_setup\": {\n",
      "        \"id\": \"electrodesetup15\",\n",
      "        \"working_electrode\": \"Au\",\n",
      "        \"working_electrode_area\": 2.0,\n",
      "        \"working_electrode_area_unit\": \"cm^2\",\n",
      "        \"counter_electrode\": \"Pt\",\n",
      "        \"reference_electrode\": \"Ag/AgCl\",\n",
      "        \"reference_electrode_salt\": \"KCl\",\n",
      "        \"reference_electrode_salt_concentration\": 1.0,\n",
      "        \"reference_electrode_salt_concentration_unit\": \"M\"\n",
      "      },\n",
      "      \"electrolyte\": {\n",
      "        \"id\": \"electrolyte15\",\n",
      "        \"solvent\": \"H$_2$O\",\n",
      "        \"conducting_salt\": \"KOH\",\n",
      "        \"conducting_salt_concentration\": 1.0,\n",
      "        \"conducting_salt_concentration_unit\": \"M\",\n",
      "        \"pH\": 10.0\n",
      "      },\n",
      "      \"analysis\": {\n",
      "        \"id\": \"analysis15\",\n",
      "        \"cv\": {\n",
      "          \"id\": \"cv7\",\n",
      "          \"measurement_current_unit\": \"\\u00b5A\",\n",
      "          \"measurement_potential_unit\": \"V\",\n",
      "          \"scan_rate\": 20.0,\n",
      "          \"scan_rate_unit\": \"mV/s\"\n",
      "        }\n",
      "      },\n",
      "      \"type\": \"CV\"\n",
      "    },\n",
      "    {\n",
      "      \"id\": \"experiment16\",\n",
      "      \"name\": \"Re Complex\",\n",
      "      \"filename\": \"data/Ox_100mVs.csv\",\n",
      "      \"electrode_setup\": {\n",
      "        \"id\": \"electrodesetup16\",\n",
      "        \"working_electrode\": \"Au\",\n",
      "        \"working_electrode_area\": 2.0,\n",
      "        \"working_electrode_area_unit\": \"cm^2\",\n",
      "        \"counter_electrode\": \"Pt\",\n",
      "        \"reference_electrode\": \"Ag/AgCl\",\n",
      "        \"reference_electrode_salt\": \"KCl\",\n",
      "        \"reference_electrode_salt_concentration\": 1.0,\n",
      "        \"reference_electrode_salt_concentration_unit\": \"M\"\n",
      "      },\n",
      "      \"electrolyte\": {\n",
      "        \"id\": \"electrolyte16\",\n",
      "        \"solvent\": \"H$_2$O\",\n",
      "        \"conducting_salt\": \"KOH\",\n",
      "        \"conducting_salt_concentration\": 1.0,\n",
      "        \"conducting_salt_concentration_unit\": \"M\",\n",
      "        \"pH\": 10.0\n",
      "      },\n",
      "      \"analysis\": {\n",
      "        \"id\": \"analysis16\",\n",
      "        \"cv\": {\n",
      "          \"id\": \"cv8\",\n",
      "          \"measurement_current_unit\": \"\\u00b5A\",\n",
      "          \"measurement_potential_unit\": \"V\",\n",
      "          \"scan_rate\": 100.0,\n",
      "          \"scan_rate_unit\": \"mV/s\"\n",
      "        }\n",
      "      },\n",
      "      \"type\": \"CV\"\n",
      "    },\n",
      "    {\n",
      "      \"id\": \"experiment17\",\n",
      "      \"name\": \"Fc\",\n",
      "      \"filename\": \"data/Ref_Fc_100mVs.csv\",\n",
      "      \"electrode_setup\": {\n",
      "        \"id\": \"electrodesetup17\",\n",
      "        \"working_electrode\": \"Au\",\n",
      "        \"working_electrode_area\": 2.0,\n",
      "        \"working_electrode_area_unit\": \"cm^2\",\n",
      "        \"counter_electrode\": \"Pt\",\n",
      "        \"reference_electrode\": \"Ag/AgCl\",\n",
      "        \"reference_electrode_salt\": \"KCl\",\n",
      "        \"reference_electrode_salt_concentration\": 1.0,\n",
      "        \"reference_electrode_salt_concentration_unit\": \"M\"\n",
      "      },\n",
      "      \"electrolyte\": {\n",
      "        \"id\": \"electrolyte17\",\n",
      "        \"solvent\": \"H$_2$O\",\n",
      "        \"conducting_salt\": \"KOH\",\n",
      "        \"conducting_salt_concentration\": 1.0,\n",
      "        \"conducting_salt_concentration_unit\": \"M\",\n",
      "        \"pH\": 10.0\n",
      "      },\n",
      "      \"analysis\": {\n",
      "        \"id\": \"analysis17\",\n",
      "        \"cv\": {\n",
      "          \"id\": \"cv9\",\n",
      "          \"measurement_current_unit\": \"\\u00b5A\",\n",
      "          \"measurement_potential_unit\": \"V\",\n",
      "          \"scan_rate\": 100.0,\n",
      "          \"scan_rate_unit\": \"mV/s\"\n",
      "        }\n",
      "      },\n",
      "      \"type\": \"CV\"\n",
      "    }\n",
      "  ]\n",
      "}\n",
      "\n",
      "id='dataset0' general_information=None experiments=[Experiment(id='experiment9', name='Cu 12 nm', sample=None, filename='data/Cu12nm.DTA', information=None, electrode_setup=ElectrodeSetup(id='electrodesetup9', working_electrode='Au', working_electrode_area=1.0, working_electrode_area_unit='cm^2', counter_electrode='Pt', reference_electrode='Hg/HgO', reference_electrode_salt='KCl', reference_electrode_salt_concentration=1.0, reference_electrode_salt_concentration_unit='M'), electrolyte=Electrolyte(id='electrolyte9', solvent='H$_2$O', conducting_salt='KOH', conducting_salt_concentration=1.0, conducting_salt_concentration_unit='M', pH=10.0), purging=None, analysis=Analysis(id='analysis9', cp=CP(id='cp2', measurement_potential_unit='V', measurement_time_unit='s', induced_current=[200.0], induced_current_unit='mA', time_duration=None, time_duration_unit=None, potential_end_value=[], charge_density=[], change_potential=[]), ca=None, cv=None), type='CP'), Experiment(id='experiment10', name='Cu 14 nm', sample=None, filename='data/Cu14nm.DTA', information=None, electrode_setup=ElectrodeSetup(id='electrodesetup10', working_electrode='Au', working_electrode_area=1.0, working_electrode_area_unit='cm^2', counter_electrode='Pt', reference_electrode='Ag/AgCl', reference_electrode_salt='KCl', reference_electrode_salt_concentration=1.0, reference_electrode_salt_concentration_unit='M'), electrolyte=Electrolyte(id='electrolyte10', solvent='MeCN', conducting_salt='KOH', conducting_salt_concentration=1.0, conducting_salt_concentration_unit='M', pH=10.0), purging=None, analysis=Analysis(id='analysis10', cp=CP(id='cp3', measurement_potential_unit='V', measurement_time_unit='s', induced_current=[200.0], induced_current_unit='mA', time_duration=None, time_duration_unit=None, potential_end_value=[], charge_density=[], change_potential=[]), ca=None, cv=None), type='CP'), Experiment(id='experiment11', name='CA1', sample=None, filename='data/CA1.dat', information=None, electrode_setup=ElectrodeSetup(id='electrodesetup11', working_electrode=None, working_electrode_area=1.0, working_electrode_area_unit='cm^2', counter_electrode='Pt', reference_electrode='Hg/HgO', reference_electrode_salt='KCl', reference_electrode_salt_concentration=1.0, reference_electrode_salt_concentration_unit='M'), electrolyte=Electrolyte(id='electrolyte11', solvent='H$_2$O', conducting_salt='KOH', conducting_salt_concentration=1.0, conducting_salt_concentration_unit='M', pH=10.0), purging=None, analysis=Analysis(id='analysis11', cp=None, ca=CA(id='ca2', measurement_current_unit='A', measurement_time_unit='s', induced_potential=[20.0], induced_potential_unit='V', time_duration=None, time_duration_unit=None, current_end_value=None), cv=None), type='CA'), Experiment(id='experiment12', name='CA', sample=None, filename='data/CA_Sarkar.txt', information=None, electrode_setup=ElectrodeSetup(id='electrodesetup12', working_electrode=None, working_electrode_area=1.0, working_electrode_area_unit='cm^2', counter_electrode='Pt', reference_electrode='Ag/AgCl', reference_electrode_salt='KCl', reference_electrode_salt_concentration=1.0, reference_electrode_salt_concentration_unit='M'), electrolyte=Electrolyte(id='electrolyte12', solvent='MeCN', conducting_salt='KOH', conducting_salt_concentration=1.0, conducting_salt_concentration_unit='M', pH=10.0), purging=None, analysis=Analysis(id='analysis12', cp=None, ca=CA(id='ca3', measurement_current_unit='A', measurement_time_unit='s', induced_potential=[20.0], induced_potential_unit='V', time_duration=None, time_duration_unit=None, current_end_value=None), cv=None), type='CA'), Experiment(id='experiment13', name='CV', sample=None, filename='data/SarkarCV_utf8.csv', information=None, electrode_setup=ElectrodeSetup(id='electrodesetup13', working_electrode='Au', working_electrode_area=2.0, working_electrode_area_unit='cm^2', counter_electrode='Pt', reference_electrode='Ag/AgCl', reference_electrode_salt='KCl', reference_electrode_salt_concentration=1.0, reference_electrode_salt_concentration_unit='M'), electrolyte=Electrolyte(id='electrolyte13', solvent='H$_2$O', conducting_salt='KOH', conducting_salt_concentration=1.0, conducting_salt_concentration_unit='M', pH=10.0), purging=None, analysis=Analysis(id='analysis13', cp=None, ca=None, cv=CV(id='cv5', changing_potential=[], changing_potential_unit=None, ferrocene_potential=None, measurement_current_unit='µA', measurement_potential_unit='V', scan_rate=20.0, scan_rate_unit='mV/s', start_potential=None, stop_potential=None, potential_lower_limit=None, potential_upper_limit=None, change_potential=[], cycles=[])), type='CV'), Experiment(id='experiment14', name='CV', sample=None, filename='data/CV_all2.xlsx', information=None, electrode_setup=ElectrodeSetup(id='electrodesetup14', working_electrode='Au', working_electrode_area=2.0, working_electrode_area_unit='cm^2', counter_electrode='Pt', reference_electrode='Ag/AgCl', reference_electrode_salt='KCl', reference_electrode_salt_concentration=1.0, reference_electrode_salt_concentration_unit='M'), electrolyte=Electrolyte(id='electrolyte14', solvent='MeCN', conducting_salt='[Bu$_4$N][PF$_6$]', conducting_salt_concentration=1.0, conducting_salt_concentration_unit='M', pH=10.0), purging=None, analysis=Analysis(id='analysis14', cp=None, ca=None, cv=CV(id='cv6', changing_potential=[], changing_potential_unit=None, ferrocene_potential=None, measurement_current_unit='µA', measurement_potential_unit='V', scan_rate=20.0, scan_rate_unit='mV/s', start_potential=None, stop_potential=None, potential_lower_limit=None, potential_upper_limit=None, change_potential=[], cycles=[])), type='CV'), Experiment(id='experiment15', name='CV', sample=None, filename='data/CV_all.xlsx', information=None, electrode_setup=ElectrodeSetup(id='electrodesetup15', working_electrode='Au', working_electrode_area=2.0, working_electrode_area_unit='cm^2', counter_electrode='Pt', reference_electrode='Ag/AgCl', reference_electrode_salt='KCl', reference_electrode_salt_concentration=1.0, reference_electrode_salt_concentration_unit='M'), electrolyte=Electrolyte(id='electrolyte15', solvent='H$_2$O', conducting_salt='KOH', conducting_salt_concentration=1.0, conducting_salt_concentration_unit='M', pH=10.0), purging=None, analysis=Analysis(id='analysis15', cp=None, ca=None, cv=CV(id='cv7', changing_potential=[], changing_potential_unit=None, ferrocene_potential=None, measurement_current_unit='µA', measurement_potential_unit='V', scan_rate=20.0, scan_rate_unit='mV/s', start_potential=None, stop_potential=None, potential_lower_limit=None, potential_upper_limit=None, change_potential=[], cycles=[])), type='CV'), Experiment(id='experiment16', name='Re Complex', sample=None, filename='data/Ox_100mVs.csv', information=None, electrode_setup=ElectrodeSetup(id='electrodesetup16', working_electrode='Au', working_electrode_area=2.0, working_electrode_area_unit='cm^2', counter_electrode='Pt', reference_electrode='Ag/AgCl', reference_electrode_salt='KCl', reference_electrode_salt_concentration=1.0, reference_electrode_salt_concentration_unit='M'), electrolyte=Electrolyte(id='electrolyte16', solvent='H$_2$O', conducting_salt='KOH', conducting_salt_concentration=1.0, conducting_salt_concentration_unit='M', pH=10.0), purging=None, analysis=Analysis(id='analysis16', cp=None, ca=None, cv=CV(id='cv8', changing_potential=[], changing_potential_unit=None, ferrocene_potential=None, measurement_current_unit='µA', measurement_potential_unit='V', scan_rate=100.0, scan_rate_unit='mV/s', start_potential=None, stop_potential=None, potential_lower_limit=None, potential_upper_limit=None, change_potential=[], cycles=[])), type='CV'), Experiment(id='experiment17', name='Fc', sample=None, filename='data/Ref_Fc_100mVs.csv', information=None, electrode_setup=ElectrodeSetup(id='electrodesetup17', working_electrode='Au', working_electrode_area=2.0, working_electrode_area_unit='cm^2', counter_electrode='Pt', reference_electrode='Ag/AgCl', reference_electrode_salt='KCl', reference_electrode_salt_concentration=1.0, reference_electrode_salt_concentration_unit='M'), electrolyte=Electrolyte(id='electrolyte17', solvent='H$_2$O', conducting_salt='KOH', conducting_salt_concentration=1.0, conducting_salt_concentration_unit='M', pH=10.0), purging=None, analysis=Analysis(id='analysis17', cp=None, ca=None, cv=CV(id='cv9', changing_potential=[], changing_potential_unit=None, ferrocene_potential=None, measurement_current_unit='µA', measurement_potential_unit='V', scan_rate=100.0, scan_rate_unit='mV/s', start_potential=None, stop_potential=None, potential_lower_limit=None, potential_upper_limit=None, change_potential=[], cycles=[])), type='CV')]\n"
     ]
    }
   ],
   "source": [
    "print(\"The dataset without source (Best to use with the target class's 'from_json' method\", end=\"\\n\\n\")\n",
    "print(open(\"./dataset_no_source.json\").read(), end=\"\\n\\n\")\n",
    "\n",
    "dataset_no_source = lib.Dataset.from_json(open(\"./dataset_no_source.json\"))\n",
    "print(dataset_no_source)"
   ]
  },
  {
   "cell_type": "markdown",
   "metadata": {},
   "source": [
    "# Data formats\n",
    "## Chronopotentiometry\n",
    "The Chronopotentiometry class works with the formats: \n",
    "- .DTA \n",
    "## Chronoamperometry \n",
    "The Chronoamperometry class accepts the formats:\n",
    "- .csv (group Tschulik)\n",
    "- .dat (group Tschulik)\n",
    "- .txt (group Sarkar)\n",
    "### Cyclic Voltammetry \n",
    "The CyclicVoltammetry class accepts the formats:\n",
    "- .csv (group Tschulik & Sarkar)\n",
    "- .xlsx (group Sarkar)\n",
    "  \n",
    "Please note that the CSV file needs to be saved in UTF-8 format. To ensure this, open the CSV file in an editor like Excel and save it as a UTF-8 CSV file. This step is necessary to properly handle special characters and encoding. However, this encoding consideration is not required for XLSX files.\n",
    "\n",
    "Unlike CSV files, XLSX files do not require specific encoding considerations. They inherently support a wider range of characters, including special characters, without the need for explicit encoding settings. Additionally, the data parser for XLSX files often works faster due to its utilization of the \"C\" engine."
   ]
  },
  {
   "cell_type": "markdown",
   "metadata": {},
   "source": [
    "# Input in the data model\n",
    "The following shows how to store your data in the datamodel. If you want to see which variable are in an object of the model you can use the `.__dict__` command. \n",
    "For example, if you want to see which object the electrode_setup was executed on use:\n",
    "\n",
    "`lib.ElectrodeSetup().__dict__`"
   ]
  },
  {
   "cell_type": "code",
   "execution_count": 4,
   "metadata": {},
   "outputs": [
    {
     "data": {
      "text/plain": [
       "{'id': 'electrodesetup0',\n",
       " 'working_electrode': None,\n",
       " 'working_electrode_area': None,\n",
       " 'working_electrode_area_unit': None,\n",
       " 'counter_electrode': None,\n",
       " 'reference_electrode': None,\n",
       " 'reference_electrode_salt': None,\n",
       " 'reference_electrode_salt_concentration': None,\n",
       " 'reference_electrode_salt_concentration_unit': None}"
      ]
     },
     "execution_count": 4,
     "metadata": {},
     "output_type": "execute_result"
    }
   ],
   "source": [
    "lib.ElectrodeSetup().__dict__"
   ]
  },
  {
   "cell_type": "code",
   "execution_count": 12,
   "metadata": {},
   "outputs": [
    {
     "data": {
      "text/plain": [
       "{'id': 'dataset0',\n",
       " 'general_information': GeneralInformation(id='generalinformation7', title='Test', information=None, author=[], date_of_work=None),\n",
       " 'experiments': []}"
      ]
     },
     "execution_count": 12,
     "metadata": {},
     "output_type": "execute_result"
    }
   ],
   "source": [
    "lib.Dataset().__dict__\n",
    "e_chem.general_information=lib.GeneralInformation(title=\"Test\")\n",
    "e_chem.__dict__"
   ]
  },
  {
   "cell_type": "markdown",
   "metadata": {},
   "source": [
    "If the filename object in lib.Experiments requires the path along with the filename, you should provide the path accordingly. Here are the guidelines:\n",
    "\n",
    "If your experiment files are located in the same directory as your notebook, you can simply use the filename without any path.\n",
    "Example: filename = \"experiment.csv\"\n",
    "\n",
    "If you store your experiment files in a subfolder named \"data\", you should include the path \"data/\" along with the filename.\n",
    "- Example: filename = \"data/experiment.csv\"\n",
    "\n",
    "Make sure to adjust the path and filename according to the actual location of your experiment files"
   ]
  },
  {
   "cell_type": "code",
   "execution_count": 3,
   "metadata": {},
   "outputs": [],
   "source": [
    "\"\"\"The following shows ho to store experiments into the list of experiments\"\"\"\n",
    "experiment0=lib.Experiment(name=\"Cu 12 nm\",filename=\"data/Cu12nm.DTA\",type=\"CP\")\n",
    "experiment1=lib.Experiment(name=\"Cu 14 nm\",filename=\"data/Cu14nm.DTA\",type=\"CP\")\n",
    "experiment2=lib.Experiment(name=\"CA1\",filename=\"data/CA1.dat\",type=\"CA\")\n",
    "experiment3=lib.Experiment(name=\"CA\",filename=\"data/CA_Sarkar.txt\",type=\"CA\")\n",
    "experiment4=lib.Experiment(name=\"CV\",filename=\"data/SarkarCV_utf8.csv\",type=\"CV\")\n",
    "experiment5=lib.Experiment(name=\"CV\",filename=\"data/CV_all2.xlsx\",type=\"CV\")\n",
    "experiment6=lib.Experiment(name=\"CV\",filename=\"data/CV_all.xlsx\",type=\"CV\")\n",
    "experiment7=lib.Experiment(name=\"Re Complex\",filename=\"data/Ox_100mVs.csv\",type=\"CV\")\n",
    "experiment8=lib.Experiment(name=\"Fc\",filename=\"data/Ref_Fc_100mVs.csv\",type=\"CV\")\n",
    "e_chem.experiments=[experiment0,experiment1,experiment2,experiment3,experiment4,experiment5,experiment6,experiment7,experiment8]\n",
    "#### CP\n",
    "e_chem.experiments[0].electrode_setup=lib.ElectrodeSetup(counter_electrode=\"Pt\",reference_electrode=\"Hg/HgO\",reference_electrode_salt=\"KCl\",reference_electrode_salt_concentration=1,reference_electrode_salt_concentration_unit=\"M\",working_electrode=\"Au\",working_electrode_area=1,working_electrode_area_unit=\"cm^2\")\n",
    "e_chem.experiments[1].electrode_setup=lib.ElectrodeSetup(counter_electrode=\"Pt\",reference_electrode=\"Ag/AgCl\",reference_electrode_salt=\"KCl\",reference_electrode_salt_concentration=1,reference_electrode_salt_concentration_unit=\"M\",working_electrode=\"Au\",working_electrode_area=1,working_electrode_area_unit=\"cm^2\")\n",
    "e_chem.experiments[0].electrolyte=lib.Electrolyte(solvent=\"H$_2$O\",conducting_salt=\"KOH\",conducting_salt_concentration=1,conducting_salt_concentration_unit=lib.enums.ConcentrationUnits.MOLAR,pH=10)\n",
    "e_chem.experiments[1].electrolyte=lib.Electrolyte(solvent=\"MeCN\",conducting_salt=\"KOH\",conducting_salt_concentration=1,conducting_salt_concentration_unit=\"M\",pH=10)\n",
    "e_chem.experiments[0].analysis=lib.Analysis(cp=lib.CP(induced_current=[200],induced_current_unit=\"mA\",measurement_potential_unit=\"V\",measurement_time_unit=\"s\"))\n",
    "e_chem.experiments[1].analysis=lib.Analysis(cp=lib.CP(induced_current=[200],induced_current_unit=\"mA\",measurement_potential_unit=\"V\",measurement_time_unit=\"s\"))\n",
    "#### CA\n",
    "e_chem.experiments[2].electrode_setup=lib.ElectrodeSetup(working_electrode_area=1,working_electrode_area_unit=\"cm^2\",counter_electrode=\"Pt\",reference_electrode=\"Hg/HgO\",reference_electrode_salt=\"KCl\",reference_electrode_salt_concentration=1,reference_electrode_salt_concentration_unit=\"M\")\n",
    "e_chem.experiments[3].electrode_setup=lib.ElectrodeSetup(working_electrode_area=1,working_electrode_area_unit=\"cm^2\",counter_electrode=\"Pt\",reference_electrode=\"Ag/AgCl\",reference_electrode_salt=\"KCl\",reference_electrode_salt_concentration=1,reference_electrode_salt_concentration_unit=\"M\")\n",
    "e_chem.experiments[2].electrolyte=lib.Electrolyte(solvent=\"H$_2$O\",conducting_salt=\"KOH\",conducting_salt_concentration=1,conducting_salt_concentration_unit=\"M\",pH=10)\n",
    "e_chem.experiments[3].electrolyte=lib.Electrolyte(solvent=\"MeCN\",conducting_salt=\"KOH\",conducting_salt_concentration=1,conducting_salt_concentration_unit=\"M\",pH=10)\n",
    "e_chem.experiments[2].analysis=lib.Analysis(ca=lib.CA(induced_potential=[20],induced_potential_unit=\"V\",measurement_current_unit=\"A\",measurement_time_unit=\"s\"))\n",
    "e_chem.experiments[3].analysis=lib.Analysis(ca=lib.CA(induced_potential=[20],induced_potential_unit=\"V\",measurement_current_unit=\"A\",measurement_time_unit=\"s\"))\n",
    "#### CV\n",
    "e_chem.experiments[4].electrode_setup=lib.ElectrodeSetup(working_electrode=\"Au\",working_electrode_area=2,working_electrode_area_unit=\"cm^2\",counter_electrode=\"Pt\",reference_electrode=\"Ag/AgCl\",reference_electrode_salt=\"KCl\",reference_electrode_salt_concentration=1,reference_electrode_salt_concentration_unit=\"M\")\n",
    "e_chem.experiments[4].electrolyte=lib.Electrolyte(solvent=\"H$_2$O\",conducting_salt=\"KOH\",conducting_salt_concentration=1,conducting_salt_concentration_unit=\"M\",pH=10)\n",
    "e_chem.experiments[4].analysis=lib.Analysis(cv=lib.CV(scan_rate=20,scan_rate_unit=\"mV/s\",measurement_current_unit=\"µA\",measurement_potential_unit=\"V\"))\n",
    "e_chem.experiments[5].electrode_setup=lib.ElectrodeSetup(working_electrode=\"Au\",working_electrode_area=2,working_electrode_area_unit=\"cm^2\",counter_electrode=\"Pt\",reference_electrode=\"Ag/AgCl\",reference_electrode_salt=\"KCl\",reference_electrode_salt_concentration=1,reference_electrode_salt_concentration_unit=\"M\")\n",
    "e_chem.experiments[5].electrolyte=lib.Electrolyte(solvent=\"MeCN\",conducting_salt=\"[Bu$_4$N][PF$_6$]\",conducting_salt_concentration=1,conducting_salt_concentration_unit=\"M\",pH=10)\n",
    "e_chem.experiments[5].analysis=lib.Analysis(cv=lib.CV(scan_rate=20,scan_rate_unit=\"mV/s\",measurement_current_unit=\"µA\",measurement_potential_unit=\"V\"))\n",
    "e_chem.experiments[6].electrode_setup=lib.ElectrodeSetup(working_electrode=\"Au\",working_electrode_area=2,working_electrode_area_unit=\"cm^2\",counter_electrode=\"Pt\",reference_electrode=\"Ag/AgCl\",reference_electrode_salt=\"KCl\",reference_electrode_salt_concentration=1,reference_electrode_salt_concentration_unit=\"M\")\n",
    "e_chem.experiments[6].electrolyte=lib.Electrolyte(solvent=\"H$_2$O\",conducting_salt=\"KOH\",conducting_salt_concentration=1,conducting_salt_concentration_unit=\"M\",pH=10)\n",
    "e_chem.experiments[6].analysis=lib.Analysis(cv=lib.CV(scan_rate=20,scan_rate_unit=\"mV/s\",measurement_current_unit=\"µA\",measurement_potential_unit=\"V\"))\n",
    "e_chem.experiments[7].electrode_setup=lib.ElectrodeSetup(working_electrode=\"Au\",working_electrode_area=2,working_electrode_area_unit=\"cm^2\",counter_electrode=\"Pt\",reference_electrode=\"Ag/AgCl\",reference_electrode_salt=\"KCl\",reference_electrode_salt_concentration=1,reference_electrode_salt_concentration_unit=\"M\")\n",
    "e_chem.experiments[7].electrolyte=lib.Electrolyte(solvent=\"H$_2$O\",conducting_salt=\"KOH\",conducting_salt_concentration=1,conducting_salt_concentration_unit=\"M\",pH=10)\n",
    "e_chem.experiments[7].analysis=lib.Analysis(cv=lib.CV(scan_rate=100,scan_rate_unit=\"mV/s\",measurement_current_unit=\"µA\",measurement_potential_unit=\"V\"))\n",
    "e_chem.experiments[8].electrode_setup=lib.ElectrodeSetup(working_electrode=\"Au\",working_electrode_area=2,working_electrode_area_unit=\"cm^2\",counter_electrode=\"Pt\",reference_electrode=\"Ag/AgCl\",reference_electrode_salt=\"KCl\",reference_electrode_salt_concentration=1,reference_electrode_salt_concentration_unit=\"M\")\n",
    "e_chem.experiments[8].electrolyte=lib.Electrolyte(solvent=\"H$_2$O\",conducting_salt=\"KOH\",conducting_salt_concentration=1,conducting_salt_concentration_unit=\"M\",pH=10)\n",
    "e_chem.experiments[8].analysis=lib.Analysis(cv=lib.CV(scan_rate=100,scan_rate_unit=\"mV/s\",measurement_current_unit=\"µA\",measurement_potential_unit=\"V\"))"
   ]
  },
  {
   "cell_type": "code",
   "execution_count": 27,
   "metadata": {},
   "outputs": [
    {
     "data": {
      "text/plain": [
       "[]"
      ]
     },
     "execution_count": 27,
     "metadata": {},
     "output_type": "execute_result"
    }
   ],
   "source": [
    "e_chem.experiments[0].analysis.cp.potential_end_value"
   ]
  },
  {
   "cell_type": "code",
   "execution_count": 8,
   "metadata": {},
   "outputs": [
    {
     "name": "stdout",
     "output_type": "stream",
     "text": [
      "[]\n"
     ]
    }
   ],
   "source": [
    "\n",
    "#e_chem.experiments[4].analysis.cv.cycles=[]\n",
    "print(e_chem.experiments[4].analysis.cv.cycles)"
   ]
  },
  {
   "cell_type": "code",
   "execution_count": 10,
   "metadata": {},
   "outputs": [
    {
     "data": {
      "text/plain": [
       "True"
      ]
     },
     "execution_count": 10,
     "metadata": {},
     "output_type": "execute_result"
    }
   ],
   "source": [
    "e_chem.experiments[0].type==\"CP\""
   ]
  },
  {
   "attachments": {},
   "cell_type": "markdown",
   "metadata": {},
   "source": [
    "# Change the style and parameter of the plots\n",
    "The following cell is not needed only if you want to change some parameters of your plots"
   ]
  },
  {
   "cell_type": "code",
   "execution_count": 8,
   "metadata": {},
   "outputs": [],
   "source": [
    "plt.rcParams.update({\n",
    "    'figure.figsize': (6.4,4.8),     # 4:3 aspect ratio. You can change the figure size here\n",
    "    'font.size' : 12,                   # Set font size to 12pt\n",
    "    'axes.labelsize': 12,               # -> axis labels\n",
    "    'legend.fontsize': 12,              # -> legends\n",
    "    'font.family': 'serif',             # -> font family  \n",
    "    'font.sans-serif': 'Times New Roman',\n",
    "    'text.usetex': False,              # Latex plot rendering. If True,your plots will be rendered with Latex. But this needs extra time for rendering\n",
    "     'text.latex.preamble':            # LaTeX preamble\n",
    "         r'\\usepackage{mlmodern}'\n",
    "         #mathptmx = Times\n",
    "         #... more packages if needed\n",
    "})\n",
    "####################\n",
    "#Here u can also use an other matplotlib style, like ggplot\n",
    "#plt.style.use('ggplot') # You can choose ure matplotlib style"
   ]
  },
  {
   "attachments": {},
   "cell_type": "markdown",
   "metadata": {},
   "source": [
    "# If you prefere plotstyle like Origin use the following code:"
   ]
  },
  {
   "cell_type": "code",
   "execution_count": 18,
   "metadata": {},
   "outputs": [],
   "source": [
    "##### \"\"\"\" For Plotstyle like Origin:\n",
    "from matplotlib import  cycler\n",
    "plt.rcParams['font.family'] = 'sans-serif'\n",
    "plt.rcParams['font.sans-serif'] = ['Arial', 'Helvetica', 'Verdana', 'DejaVu Sans']\n",
    "plt.rcParams['font.size'] = 15\n",
    "plt.rcParams['axes.linewidth'] = 1.1\n",
    "plt.rcParams['axes.labelpad'] = 5.0\n",
    "plot_color_cycle = cycler('color', [ '0000FE', 'FE0000', '008001', 'FD8000', '8c564b', 'e377c2', '7f7f7f', 'bcbd22', '17becf','000000'])\n",
    "plt.rcParams['axes.prop_cycle'] = plot_color_cycle\n"
   ]
  },
  {
   "attachments": {},
   "cell_type": "markdown",
   "metadata": {},
   "source": [
    "# Analytic tools\n",
    "## ReferenceCalculator class \n",
    "The ReferenceCalculator class includes a list of different reference potentials and a reference_difference function. \n",
    "- (Reference: https://www.edaq.com/wiki/Reference_Electrode_Potentials (visited on 03.08.23),\n",
    " http://www.globalanalitik.com.tr/product/hg-hgo-reference-electrode-cs902/ (visited on 08.08.23)\n",
    "- for ferrocene: Adv. Mater. 2011, 23, 2367–2371, DOI: 10.1002/adma.201004554). \n",
    "\n",
    "This can be used to calculate the difference between two reference potentials. The reference_difference function is an interactive calculator."
   ]
  },
  {
   "cell_type": "code",
   "execution_count": 5,
   "metadata": {},
   "outputs": [
    {
     "name": "stdout",
     "output_type": "stream",
     "text": [
      "Reference                         Potential vs. (NHE) (V)\n",
      "------------------------------  -------------------------\n",
      "SHE                                                0\n",
      "RHE                                               -0.0591\n",
      "Hg/Hg2Cl2 (0.1 M KCl)                              0.334\n",
      "Hg/Hg2Cl2 (1 M KCl)                                0.28\n",
      "Hg/Hg2Cl2 (3.5 M KCl)                              0.25\n",
      "Hg/Hg2Cl2 (sat. KCl)                               0.241\n",
      "Hg/Hg2SO4 (0.5 M H2SO4)                            0.682\n",
      "Hg/Hg2SO4 (1 M H2SO4)                              0.674\n",
      "Hg/Hg2SO4 (sat. K2SO4)                             0.65\n",
      "Ag/AgCl (0.1 M KCl)                                0.2881\n",
      "Ag/AgCl (3 M KCl)                                  0.21\n",
      "Ag/AgCl (3.5 M KCl)                                0.205\n",
      "Ag/AgCl (sat. KCl)                                 0.199\n",
      "Ag/Ag2SO4 (0.5 M H2SO4)                            0.72\n",
      "Ag/Ag2SO4 (1 M H2SO4)                              0.71\n",
      "Ag/Ag2SO4 (sat. K2SO4)                             0.68\n",
      "Hg/HgO (0.1 M NaOH)                                0.165\n",
      "Hg/HgO (1 M NaOH)                                  0.14\n",
      "Hg/HgO (1 M KOH)                                   0.098\n",
      "Fc/Fc+ (0.05 M  nBu4NPF6/MeCN)                     0.64\n"
     ]
    },
    {
     "data": {
      "application/vnd.jupyter.widget-view+json": {
       "model_id": "653b47ad78c7490ea67c88ea708d188e",
       "version_major": 2,
       "version_minor": 0
      },
      "text/plain": [
       "interactive(children=(Dropdown(description='old_reference', index=12, options=('SHE', 'RHE', 'Hg/Hg2Cl2 (0.1 M…"
      ]
     },
     "metadata": {},
     "output_type": "display_data"
    },
    {
     "name": "stdout",
     "output_type": "stream",
     "text": [
      "Potential value: -0.6900000000000001 RHE was saved to experiment: 0\n",
      "Potential value: -0.6900000000000001 RHE was saved to experiment: 1\n"
     ]
    }
   ],
   "source": [
    "calculator=ReferenceCalculator(e_chem=e_chem,experiment_list=[0,1])\n",
    "calculator.reference_list()\n",
    "calculator.reference_difference()"
   ]
  },
  {
   "attachments": {},
   "cell_type": "markdown",
   "metadata": {},
   "source": [
    "# Chronopotentiometry\n",
    "- Chronopotentiometry(e_chem,experiment_list,add_potential_value=None,new_reference_name=None,change_reference=False)\n",
    "\n",
    "This class specifically requires a list of Chronopotentiometry experiments as input. For example, you can pass in [0, 1] to indicate using the first and second experiments that you defined earlier. By setting change_reference=True and specifying a value in add_potential_value, you can conveniently adjust your reference and perform calculations in the new reference scale. Additionally, you have the option to customize the label of your y-axis by defining new_reference_name. It's important to note that this functionality only works when change_reference=True."
   ]
  },
  {
   "attachments": {},
   "cell_type": "markdown",
   "metadata": {},
   "source": [
    "The CP class has the following functions:\n",
    "- quick_plot() -> shows all relevant data: $E$ vs time, $I$ vs. time and $E$ of the mess cell vs time. It is only to check if your data looks good or not\n",
    "- plot() -> return a plot $E$ vs time. \n",
    "- end_value()\n",
    "- end_value_fit()"
   ]
  },
  {
   "attachments": {},
   "cell_type": "markdown",
   "metadata": {},
   "source": [
    "To determine the last potential, you have two options:\n",
    "\n",
    "Using end_value(): This function returns the average of the last 75 values of your measurement by default. However, you can also specify a different range, up to the last 200 values, based on your choice. This method is suitable for general measurements.\n",
    "\n",
    "Using end_value_fit(): This alternative method determines the last potential through a fit function. It can be particularly useful for handling oscillating measurement data or cases where a fit provides a more accurate representation of the last potential.\n",
    "\n",
    "By utilizing either end_value() or end_value_fit(), you can determine the last potential in your measurement based on your specific needs and the characteristics of your data."
   ]
  },
  {
   "cell_type": "code",
   "execution_count": 9,
   "metadata": {},
   "outputs": [
    {
     "data": {
      "application/vnd.jupyter.widget-view+json": {
       "model_id": "bd23066c36cd4d3aa854d7b9d1163ce3",
       "version_major": 2,
       "version_minor": 0
      },
      "text/plain": [
       "interactive(children=(Text(value='$t$ (s)', description='xlabel'), Text(value='$E$ vs. RHE (V)', description='…"
      ]
     },
     "metadata": {},
     "output_type": "display_data"
    }
   ],
   "source": [
    "cp=Chronopotentiometry(e_chem=e_chem,experiment_list=[0,1],change_reference_list_index=0,change_reference=True)\n",
    "# cp.quick_plot()\n",
    "cp.plot()\n",
    "#cp.end_value()\n",
    "#cp.end_value_fit()"
   ]
  },
  {
   "attachments": {},
   "cell_type": "markdown",
   "metadata": {},
   "source": [
    "# Chronoamperometry\n",
    "- Chronoamperometry(e_chem,experiment_list,current_density=False)\n",
    "\n",
    "This class is very similar to the ChronoPotentiometry class; it has the same input parameter experiment_list. However, it has an additional attribute called current_density, which is set to False by default. By setting current_density to True, you will be able to work with the current density instead of the current in your calculations or analysis."
   ]
  },
  {
   "attachments": {},
   "cell_type": "markdown",
   "metadata": {},
   "source": [
    "The CA class has the following functions:\n",
    "- plot() -> return a plot $I$ vs time\n",
    "- end_value()\n",
    "- end_value_fit()"
   ]
  },
  {
   "cell_type": "code",
   "execution_count": 5,
   "metadata": {},
   "outputs": [
    {
     "data": {
      "application/vnd.jupyter.widget-view+json": {
       "model_id": "636842ea689a4385b072cf331819a7d5",
       "version_major": 2,
       "version_minor": 0
      },
      "text/plain": [
       "interactive(children=(Text(value='$t$ (s)', description='xlabel'), Text(value='$J$ (A/cm$^2$)', description='y…"
      ]
     },
     "metadata": {},
     "output_type": "display_data"
    }
   ],
   "source": [
    "ca=Chronoamperometry(e_chem=e_chem,experiment_list=[2],current_density=True)\n",
    "ca.plot()\n",
    "#ca.end_value()\n",
    "# ca.end_value_fit()"
   ]
  },
  {
   "attachments": {},
   "cell_type": "markdown",
   "metadata": {},
   "source": [
    "# CyclicVoltammetry \n",
    "- CyclicVoltammetry(e_chem,experiment,cycles,add_potential_value,new_reference_name,current_density=False,change_reference=False)\n",
    "\n",
    "The CyclicVoltammetry class is for Cyclic Voltammetry. By set cycles=`None` it automatically uses all cycles which are in your datafile.\n",
    "It has the following methods:\n",
    "- plot()\n",
    "- peaks() \n",
    "- integration() \n",
    "- ferrocene_reference(experiment2) # This method requires a second experiment. This experiment should involve using your sample without the ferrocene measurement, while using the ferrocene experiment as the initialization step.\n"
   ]
  },
  {
   "cell_type": "code",
   "execution_count": 4,
   "metadata": {},
   "outputs": [
    {
     "data": {
      "application/vnd.jupyter.widget-view+json": {
       "model_id": "f344bcaa66034dd888d8f5b571433e85",
       "version_major": 2,
       "version_minor": 0
      },
      "text/plain": [
       "interactive(children=(FloatSlider(value=-1.49903, description='E_Min', max=0.299962, min=-1.49903), FloatSlide…"
      ]
     },
     "metadata": {},
     "output_type": "display_data"
    }
   ],
   "source": [
    "\n",
    "cv=CyclicVoltammetry(e_chem=e_chem,experiment=4,cycles=[1],change_reference_list_index=None,current_density=False,change_reference=False)\n",
    "#cv.plot()\n",
    "cv.peaks()\n",
    "#cv.integration()\n",
    "#cv.ferrocene_reference(experiment2=6)\n",
    "#cv.integration()\n"
   ]
  },
  {
   "cell_type": "code",
   "execution_count": 35,
   "metadata": {},
   "outputs": [
    {
     "data": {
      "text/plain": [
       "[Cycle(id='cycle0', number=1, scan_rate=20.0, scan_rate_unit='mV/s', current_vertex=-9.09213, y_unit_vertex='µA', change_reference_potential=0.0, reference_name='Ag/AgCl', potential_vertex=-9.09213, peaks_and_half_potential=[], peak_integration=[]),\n",
       " Cycle(id='cycle1', number=2, scan_rate=20.0, scan_rate_unit='mV/s', current_vertex=None, y_unit_vertex=None, change_reference_potential=None, reference_name=None, potential_vertex=None, peaks_and_half_potential=[], peak_integration=[])]"
      ]
     },
     "execution_count": 35,
     "metadata": {},
     "output_type": "execute_result"
    }
   ],
   "source": [
    "e_chem.experiments[4].analysis.cv.cycles"
   ]
  },
  {
   "cell_type": "code",
   "execution_count": 21,
   "metadata": {},
   "outputs": [
    {
     "data": {
      "application/vnd.jupyter.widget-view+json": {
       "model_id": "e0f36a5cd17c49038d24223c5aabee09",
       "version_major": 2,
       "version_minor": 0
      },
      "text/plain": [
       "interactive(children=(Text(value='$E$ vs. Fc / Fc$^{+}$ (V)', description='xlabel'), Text(value='$J$ (µA / cm$…"
      ]
     },
     "metadata": {},
     "output_type": "display_data"
    }
   ],
   "source": [
    "cv=CyclicVoltammetry(e_chem=e_chem,experiment=6,cycles=[1],add_potential_value=-0.360544,change_reference=True,current_density=True)\n",
    "cv.plot()"
   ]
  },
  {
   "cell_type": "code",
   "execution_count": 12,
   "metadata": {},
   "outputs": [
    {
     "name": "stdout",
     "output_type": "stream",
     "text": [
      "[Cycle(id='cycle0', cycle_number=[], peak_maxima=[], peak_minima=[], half_wave_potential=[])]\n",
      "[Cycle(id='cycle0', cycle_number=[], peak_maxima=[], peak_minima=[], half_wave_potential=[]), Cycle(id='cycle1', cycle_number=[], peak_maxima=[], peak_minima=[], half_wave_potential=[])]\n"
     ]
    },
    {
     "data": {
      "application/vnd.jupyter.widget-view+json": {
       "model_id": "bde3df73297a464ca85cfbfa05a6a934",
       "version_major": 2,
       "version_minor": 0
      },
      "text/plain": [
       "interactive(children=(FloatSlider(value=-1.49903, description='E_Min', max=0.299962, min=-1.49903), FloatSlide…"
      ]
     },
     "metadata": {},
     "output_type": "display_data"
    }
   ],
   "source": [
    "cv=CyclicVoltammetry(e_chem=e_chem,experiment=4,cycles=[1],add_potential_value=None,new_reference_name=None,current_density=True,change_reference=False)\n",
    "#cv.plot()\n",
    "cv.peaks()"
   ]
  },
  {
   "cell_type": "code",
   "execution_count": null,
   "metadata": {},
   "outputs": [],
   "source": []
  }
 ],
 "metadata": {
  "kernelspec": {
   "display_name": "Python 3 (ipykernel)",
   "language": "python",
   "name": "python3"
  },
  "language_info": {
   "codemirror_mode": {
    "name": "ipython",
    "version": 3
   },
   "file_extension": ".py",
   "mimetype": "text/x-python",
   "name": "python",
   "nbconvert_exporter": "python",
   "pygments_lexer": "ipython3",
   "version": "3.10.12"
  }
 },
 "nbformat": 4,
 "nbformat_minor": 4
}
