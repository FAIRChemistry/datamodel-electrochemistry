{
 "cells": [
  {
   "attachments": {},
   "cell_type": "markdown",
   "metadata": {},
   "source": [
    "# Workspace for e-chemistry \n",
    "This is the workspace for e-chemistry for the B07 and A03 project. The workspace includes CP, CA and CV analysis tools, but they only work with a special file format.\n",
    "The CP class can be used from the Elias Klemm group of the University of Stuttgart and the CA and CV project from the Kristina Tschulik group of the University of Bochum."
   ]
  },
  {
   "attachments": {},
   "cell_type": "markdown",
   "metadata": {},
   "source": [
    "# Packages for the Analysis tools"
   ]
  },
  {
   "cell_type": "code",
   "execution_count": 2,
   "metadata": {},
   "outputs": [],
   "source": [
    "import pandas as pd\n",
    "import numpy as np\n",
    "import matplotlib.pyplot as plt\n",
    "import os\n",
    "import datetime\n",
    "from scipy.optimize import curve_fit\n",
    "#import scipy.integrate as spi\n",
    "from sdRDM import DataModel\n",
    "from tabulate import tabulate\n",
    "from scipy.integrate import trapz\n",
    "import ipywidgets as widgets\n",
    "from ipywidgets import interact, interactive, fixed, interact_manual\n",
    "\n",
    "\n",
    "\n",
    "\n",
    "################################################################\n",
    "#imports the Analysis tools from the subfolder functions. They are in a Py file called Analysis\n",
    "from functions.Analysis import Analysis,ChronoPotentiometry,MultiChronoPotentiometry,ChronoAmperometry,MultiChronoAmperometry,CyclicVoltammetry\n"
   ]
  },
  {
   "attachments": {},
   "cell_type": "markdown",
   "metadata": {},
   "source": [
    "# Datamodel from GitHub\n",
    "The following cell loads the Datamodel from GitHub and stores it in the variable lib. The working with a Datamodel is until now (05.05.2023) only a β-phase. In future versions the working with a Datamodel gets more features."
   ]
  },
  {
   "cell_type": "code",
   "execution_count": 3,
   "metadata": {},
   "outputs": [],
   "source": [
    "\n",
    "lib = DataModel.from_markdown(\"specifications/Electrochemistry.md\")\n",
    "e_chem=lib.Dataset()\n",
    "#lib=DataModel.from_git(url=\"https://github.com/FAIRChemistry/datamodel-electrochemistry.git\")"
   ]
  },
  {
   "cell_type": "code",
   "execution_count": 4,
   "metadata": {},
   "outputs": [],
   "source": [
    "\n",
    "#e_chem.analysis = [cp]\n",
    "\n",
    "#e_chem.electrode_setup=lib.ElectrodeSetup(CE=\"Pt\",RE=\"Hg/HgO\",RE_salt=\"KCl\",RE_salt_concentration=1,RE_salt_concentration_unit=lib.enums.ConcentrationUnits.MOLAR.value)\n",
    "#experiment1=lib.Experiment(experiment_name=\"Cu12\",experiment_filename=\"Cu12nm.DTA\")\n",
    "#e_chem.experiments=model.Experiment(experiment_name=\"test\")\n",
    "#e_chem.add_to_experiments([])\n",
    "#lib.CP(cp_experiments=[lib.Experiment(experiment_name=\"exp1\",experiment_filename=\"test.txt\"),lib.Experiment(experiment_name=\"exp2\",experiment_filename=\"test2.txt\")])\n",
    "#e_chem.experiments=[experiment1]\n",
    "\n",
    "\n",
    "\n",
    "# analysis1=lib.Analysis(cp=[cp1,cp2])\n",
    "# analysis2=lib.Analysis(ca=[cp1,cp2])\n",
    "#cp_experiments=[lib.Experiment(experiment_name=\"exp1\",experiment_filename=\"test.txt\"),lib.Experiment(experiment_name=\"exp2\",experiment_filename=\"test2.txt\")]\n",
    "# e_chem.analysis=analysis1\n",
    "# e_chem.analysis=analysis2\n",
    "#print(e_chem.analysis.yaml())"
   ]
  },
  {
   "cell_type": "code",
   "execution_count": 3,
   "metadata": {},
   "outputs": [],
   "source": [
    "experiment1=lib.Experiment(name=\"Cu12\",filename=\"data/Cu12nm.DTA\",type=lib.enums.Experiment_type.CP.value)\n",
    "experiment2=lib.Experiment(name=\"Cu14\",filename=\"data/Cu14nm.DTA\",type=lib.enums.Experiment_type.CP.value)\n",
    "#e_chem.experiments.append([experiment1,experiment2])\n",
    "e_chem.solvent=(\"H$_2$O\")\n",
    "e_chem.conducting_salt=(\"KOH\")\n",
    "e_chem.conducting_salt_concentration=(1)\n",
    "e_chem.conducting_salt_concentration_unit=(lib.enums.ConcentrationUnits.MOLAR.value)\n",
    "e_chem.experiments=[experiment1,experiment2]\n",
    "#print(e_chem.experiments)\n",
    "e_chem.experiments[0].electrode_setup=lib.ElectrodeSetup(counter_electrode=\"Pt\",reference_electrode=\"Hg/HgO\",reference_electrode_salt=\"KCl\",reference_electrode_salt_concentration=1,reference_electrode_salt_concentration_unit=lib.enums.ConcentrationUnits.MOLAR.value)\n",
    "e_chem.experiments[1].electrode_setup=lib.ElectrodeSetup(counter_electrode=\"Pt\",reference_electrode=\"Ag/AgCl\",reference_electrode_salt=\"KCl\",reference_electrode_salt_concentration=1,reference_electrode_salt_concentration_unit=lib.enums.ConcentrationUnits.MOLAR.value)\n",
    "e_chem.experiments[0].electrolyte=lib.Electrolyte(solvent=\"H$_2$O\",conducting_salt=\"KOH\",conducting_salt_concentration=1,conducting_salt_concentration_unit=lib.enums.ConcentrationUnits.MOLAR)\n",
    "e_chem.experiments[1].electrolyte=lib.Electrolyte(solvent=\"MeCN\",conducting_salt=\"KOH\",conducting_salt_concentration=1,conducting_salt_concentration_unit=lib.enums.ConcentrationUnits.MOLAR)"
   ]
  },
  {
   "cell_type": "code",
   "execution_count": 4,
   "metadata": {},
   "outputs": [
    {
     "data": {
      "text/plain": [
       "Analysis(id='analysis0', cv=None, ca=None, cp=CP(id='cp0', induced_current=[], induced_current_unit='A', induced_current_second=None, time_duration=None, potential_end_value=None, charge_density=[], cp_experiments=[]))"
      ]
     },
     "execution_count": 4,
     "metadata": {},
     "output_type": "execute_result"
    }
   ],
   "source": [
    "cp1=lib.CP(induced_current_first=[1],induced_current_unit=lib.enums.CurrentUnits.AMPERE)\n",
    "lib.Analysis(cp=cp1)\n",
    "#lib.Dataset(analysis_methode=Analysis(cp1))"
   ]
  },
  {
   "cell_type": "code",
   "execution_count": 14,
   "metadata": {},
   "outputs": [
    {
     "name": "stdout",
     "output_type": "stream",
     "text": [
      "{\n",
      "  \"id\": \"dataset0\",\n",
      "  \"solvent\": \"H$_2$O\",\n",
      "  \"conducting_salt\": \"KOH\",\n",
      "  \"conducting_salt_concentration\": 1.0,\n",
      "  \"conducting_salt_concentration_unit\": \"M\",\n",
      "  \"experiments\": [\n",
      "    {\n",
      "      \"id\": \"experiment6\",\n",
      "      \"name\": \"Cu12\",\n",
      "      \"filename\": \"data/Cu12nm.DTA\",\n",
      "      \"electrode_setup\": {\n",
      "        \"id\": \"electrodesetup4\",\n",
      "        \"reference_electrode\": \"Hg/HgO\",\n",
      "        \"reference_electrode_salt\": \"KCl\",\n",
      "        \"reference_electrode_salt_concentration\": 1.0,\n",
      "        \"reference_electrode_salt_concentration_unit\": \"M\"\n",
      "      },\n",
      "      \"electrolyte\": {\n",
      "        \"id\": \"electrolyte3\",\n",
      "        \"solvent\": \"H$_2$O\",\n",
      "        \"conducting_salt\": \"KOH\",\n",
      "        \"conducting_salt_concentration\": 1.0,\n",
      "        \"conducting_salt_concentration_unit\": \"M\"\n",
      "      },\n",
      "      \"type\": \"CP\"\n",
      "    },\n",
      "    {\n",
      "      \"id\": \"experiment7\",\n",
      "      \"name\": \"Cu14\",\n",
      "      \"filename\": \"data/Cu14nm.DTA\",\n",
      "      \"electrode_setup\": {\n",
      "        \"id\": \"electrodesetup5\",\n",
      "        \"reference_electrode\": \"Ag/AgCl\",\n",
      "        \"reference_electrode_salt\": \"KCl\",\n",
      "        \"reference_electrode_salt_concentration\": 1.0,\n",
      "        \"reference_electrode_salt_concentration_unit\": \"M\"\n",
      "      },\n",
      "      \"type\": \"CP\"\n",
      "    }\n",
      "  ],\n",
      "  \"__source__\": {\n",
      "    \"root\": \"Dataset\"\n",
      "  }\n",
      "}\n"
     ]
    },
    {
     "name": "stderr",
     "output_type": "stream",
     "text": [
      "/home/dimitrios/.local/lib/python3.10/site-packages/sdRDM/base/datamodel.py:213: UserWarning: No 'URL' and 'Commit' specified. This model might not be re-usable.\n",
      "  warnings.warn(\n"
     ]
    }
   ],
   "source": [
    "print(e_chem.json())\n",
    "#print(e_chem.experiments[1].electrode_setup)"
   ]
  },
  {
   "cell_type": "code",
   "execution_count": null,
   "metadata": {},
   "outputs": [],
   "source": []
  },
  {
   "cell_type": "code",
   "execution_count": null,
   "metadata": {},
   "outputs": [],
   "source": []
  },
  {
   "cell_type": "code",
   "execution_count": 8,
   "metadata": {},
   "outputs": [
    {
     "data": {
      "application/javascript": "/* Put everything inside the global mpl namespace */\n/* global mpl */\nwindow.mpl = {};\n\nmpl.get_websocket_type = function () {\n    if (typeof WebSocket !== 'undefined') {\n        return WebSocket;\n    } else if (typeof MozWebSocket !== 'undefined') {\n        return MozWebSocket;\n    } else {\n        alert(\n            'Your browser does not have WebSocket support. ' +\n                'Please try Chrome, Safari or Firefox ≥ 6. ' +\n                'Firefox 4 and 5 are also supported but you ' +\n                'have to enable WebSockets in about:config.'\n        );\n    }\n};\n\nmpl.figure = function (figure_id, websocket, ondownload, parent_element) {\n    this.id = figure_id;\n\n    this.ws = websocket;\n\n    this.supports_binary = this.ws.binaryType !== undefined;\n\n    if (!this.supports_binary) {\n        var warnings = document.getElementById('mpl-warnings');\n        if (warnings) {\n            warnings.style.display = 'block';\n            warnings.textContent =\n                'This browser does not support binary websocket messages. ' +\n                'Performance may be slow.';\n        }\n    }\n\n    this.imageObj = new Image();\n\n    this.context = undefined;\n    this.message = undefined;\n    this.canvas = undefined;\n    this.rubberband_canvas = undefined;\n    this.rubberband_context = undefined;\n    this.format_dropdown = undefined;\n\n    this.image_mode = 'full';\n\n    this.root = document.createElement('div');\n    this.root.setAttribute('style', 'display: inline-block');\n    this._root_extra_style(this.root);\n\n    parent_element.appendChild(this.root);\n\n    this._init_header(this);\n    this._init_canvas(this);\n    this._init_toolbar(this);\n\n    var fig = this;\n\n    this.waiting = false;\n\n    this.ws.onopen = function () {\n        fig.send_message('supports_binary', { value: fig.supports_binary });\n        fig.send_message('send_image_mode', {});\n        if (fig.ratio !== 1) {\n            fig.send_message('set_device_pixel_ratio', {\n                device_pixel_ratio: fig.ratio,\n            });\n        }\n        fig.send_message('refresh', {});\n    };\n\n    this.imageObj.onload = function () {\n        if (fig.image_mode === 'full') {\n            // Full images could contain transparency (where diff images\n            // almost always do), so we need to clear the canvas so that\n            // there is no ghosting.\n            fig.context.clearRect(0, 0, fig.canvas.width, fig.canvas.height);\n        }\n        fig.context.drawImage(fig.imageObj, 0, 0);\n    };\n\n    this.imageObj.onunload = function () {\n        fig.ws.close();\n    };\n\n    this.ws.onmessage = this._make_on_message_function(this);\n\n    this.ondownload = ondownload;\n};\n\nmpl.figure.prototype._init_header = function () {\n    var titlebar = document.createElement('div');\n    titlebar.classList =\n        'ui-dialog-titlebar ui-widget-header ui-corner-all ui-helper-clearfix';\n    var titletext = document.createElement('div');\n    titletext.classList = 'ui-dialog-title';\n    titletext.setAttribute(\n        'style',\n        'width: 100%; text-align: center; padding: 3px;'\n    );\n    titlebar.appendChild(titletext);\n    this.root.appendChild(titlebar);\n    this.header = titletext;\n};\n\nmpl.figure.prototype._canvas_extra_style = function (_canvas_div) {};\n\nmpl.figure.prototype._root_extra_style = function (_canvas_div) {};\n\nmpl.figure.prototype._init_canvas = function () {\n    var fig = this;\n\n    var canvas_div = (this.canvas_div = document.createElement('div'));\n    canvas_div.setAttribute('tabindex', '0');\n    canvas_div.setAttribute(\n        'style',\n        'border: 1px solid #ddd;' +\n            'box-sizing: content-box;' +\n            'clear: both;' +\n            'min-height: 1px;' +\n            'min-width: 1px;' +\n            'outline: 0;' +\n            'overflow: hidden;' +\n            'position: relative;' +\n            'resize: both;' +\n            'z-index: 2;'\n    );\n\n    function on_keyboard_event_closure(name) {\n        return function (event) {\n            return fig.key_event(event, name);\n        };\n    }\n\n    canvas_div.addEventListener(\n        'keydown',\n        on_keyboard_event_closure('key_press')\n    );\n    canvas_div.addEventListener(\n        'keyup',\n        on_keyboard_event_closure('key_release')\n    );\n\n    this._canvas_extra_style(canvas_div);\n    this.root.appendChild(canvas_div);\n\n    var canvas = (this.canvas = document.createElement('canvas'));\n    canvas.classList.add('mpl-canvas');\n    canvas.setAttribute(\n        'style',\n        'box-sizing: content-box;' +\n            'pointer-events: none;' +\n            'position: relative;' +\n            'z-index: 0;'\n    );\n\n    this.context = canvas.getContext('2d');\n\n    var backingStore =\n        this.context.backingStorePixelRatio ||\n        this.context.webkitBackingStorePixelRatio ||\n        this.context.mozBackingStorePixelRatio ||\n        this.context.msBackingStorePixelRatio ||\n        this.context.oBackingStorePixelRatio ||\n        this.context.backingStorePixelRatio ||\n        1;\n\n    this.ratio = (window.devicePixelRatio || 1) / backingStore;\n\n    var rubberband_canvas = (this.rubberband_canvas = document.createElement(\n        'canvas'\n    ));\n    rubberband_canvas.setAttribute(\n        'style',\n        'box-sizing: content-box;' +\n            'left: 0;' +\n            'pointer-events: none;' +\n            'position: absolute;' +\n            'top: 0;' +\n            'z-index: 1;'\n    );\n\n    // Apply a ponyfill if ResizeObserver is not implemented by browser.\n    if (this.ResizeObserver === undefined) {\n        if (window.ResizeObserver !== undefined) {\n            this.ResizeObserver = window.ResizeObserver;\n        } else {\n            var obs = _JSXTOOLS_RESIZE_OBSERVER({});\n            this.ResizeObserver = obs.ResizeObserver;\n        }\n    }\n\n    this.resizeObserverInstance = new this.ResizeObserver(function (entries) {\n        var nentries = entries.length;\n        for (var i = 0; i < nentries; i++) {\n            var entry = entries[i];\n            var width, height;\n            if (entry.contentBoxSize) {\n                if (entry.contentBoxSize instanceof Array) {\n                    // Chrome 84 implements new version of spec.\n                    width = entry.contentBoxSize[0].inlineSize;\n                    height = entry.contentBoxSize[0].blockSize;\n                } else {\n                    // Firefox implements old version of spec.\n                    width = entry.contentBoxSize.inlineSize;\n                    height = entry.contentBoxSize.blockSize;\n                }\n            } else {\n                // Chrome <84 implements even older version of spec.\n                width = entry.contentRect.width;\n                height = entry.contentRect.height;\n            }\n\n            // Keep the size of the canvas and rubber band canvas in sync with\n            // the canvas container.\n            if (entry.devicePixelContentBoxSize) {\n                // Chrome 84 implements new version of spec.\n                canvas.setAttribute(\n                    'width',\n                    entry.devicePixelContentBoxSize[0].inlineSize\n                );\n                canvas.setAttribute(\n                    'height',\n                    entry.devicePixelContentBoxSize[0].blockSize\n                );\n            } else {\n                canvas.setAttribute('width', width * fig.ratio);\n                canvas.setAttribute('height', height * fig.ratio);\n            }\n            /* This rescales the canvas back to display pixels, so that it\n             * appears correct on HiDPI screens. */\n            canvas.style.width = width + 'px';\n            canvas.style.height = height + 'px';\n\n            rubberband_canvas.setAttribute('width', width);\n            rubberband_canvas.setAttribute('height', height);\n\n            // And update the size in Python. We ignore the initial 0/0 size\n            // that occurs as the element is placed into the DOM, which should\n            // otherwise not happen due to the minimum size styling.\n            if (fig.ws.readyState == 1 && width != 0 && height != 0) {\n                fig.request_resize(width, height);\n            }\n        }\n    });\n    this.resizeObserverInstance.observe(canvas_div);\n\n    function on_mouse_event_closure(name) {\n        /* User Agent sniffing is bad, but WebKit is busted:\n         * https://bugs.webkit.org/show_bug.cgi?id=144526\n         * https://bugs.webkit.org/show_bug.cgi?id=181818\n         * The worst that happens here is that they get an extra browser\n         * selection when dragging, if this check fails to catch them.\n         */\n        var UA = navigator.userAgent;\n        var isWebKit = /AppleWebKit/.test(UA) && !/Chrome/.test(UA);\n        if(isWebKit) {\n            return function (event) {\n                /* This prevents the web browser from automatically changing to\n                 * the text insertion cursor when the button is pressed. We\n                 * want to control all of the cursor setting manually through\n                 * the 'cursor' event from matplotlib */\n                event.preventDefault()\n                return fig.mouse_event(event, name);\n            };\n        } else {\n            return function (event) {\n                return fig.mouse_event(event, name);\n            };\n        }\n    }\n\n    canvas_div.addEventListener(\n        'mousedown',\n        on_mouse_event_closure('button_press')\n    );\n    canvas_div.addEventListener(\n        'mouseup',\n        on_mouse_event_closure('button_release')\n    );\n    canvas_div.addEventListener(\n        'dblclick',\n        on_mouse_event_closure('dblclick')\n    );\n    // Throttle sequential mouse events to 1 every 20ms.\n    canvas_div.addEventListener(\n        'mousemove',\n        on_mouse_event_closure('motion_notify')\n    );\n\n    canvas_div.addEventListener(\n        'mouseenter',\n        on_mouse_event_closure('figure_enter')\n    );\n    canvas_div.addEventListener(\n        'mouseleave',\n        on_mouse_event_closure('figure_leave')\n    );\n\n    canvas_div.addEventListener('wheel', function (event) {\n        if (event.deltaY < 0) {\n            event.step = 1;\n        } else {\n            event.step = -1;\n        }\n        on_mouse_event_closure('scroll')(event);\n    });\n\n    canvas_div.appendChild(canvas);\n    canvas_div.appendChild(rubberband_canvas);\n\n    this.rubberband_context = rubberband_canvas.getContext('2d');\n    this.rubberband_context.strokeStyle = '#000000';\n\n    this._resize_canvas = function (width, height, forward) {\n        if (forward) {\n            canvas_div.style.width = width + 'px';\n            canvas_div.style.height = height + 'px';\n        }\n    };\n\n    // Disable right mouse context menu.\n    canvas_div.addEventListener('contextmenu', function (_e) {\n        event.preventDefault();\n        return false;\n    });\n\n    function set_focus() {\n        canvas.focus();\n        canvas_div.focus();\n    }\n\n    window.setTimeout(set_focus, 100);\n};\n\nmpl.figure.prototype._init_toolbar = function () {\n    var fig = this;\n\n    var toolbar = document.createElement('div');\n    toolbar.classList = 'mpl-toolbar';\n    this.root.appendChild(toolbar);\n\n    function on_click_closure(name) {\n        return function (_event) {\n            return fig.toolbar_button_onclick(name);\n        };\n    }\n\n    function on_mouseover_closure(tooltip) {\n        return function (event) {\n            if (!event.currentTarget.disabled) {\n                return fig.toolbar_button_onmouseover(tooltip);\n            }\n        };\n    }\n\n    fig.buttons = {};\n    var buttonGroup = document.createElement('div');\n    buttonGroup.classList = 'mpl-button-group';\n    for (var toolbar_ind in mpl.toolbar_items) {\n        var name = mpl.toolbar_items[toolbar_ind][0];\n        var tooltip = mpl.toolbar_items[toolbar_ind][1];\n        var image = mpl.toolbar_items[toolbar_ind][2];\n        var method_name = mpl.toolbar_items[toolbar_ind][3];\n\n        if (!name) {\n            /* Instead of a spacer, we start a new button group. */\n            if (buttonGroup.hasChildNodes()) {\n                toolbar.appendChild(buttonGroup);\n            }\n            buttonGroup = document.createElement('div');\n            buttonGroup.classList = 'mpl-button-group';\n            continue;\n        }\n\n        var button = (fig.buttons[name] = document.createElement('button'));\n        button.classList = 'mpl-widget';\n        button.setAttribute('role', 'button');\n        button.setAttribute('aria-disabled', 'false');\n        button.addEventListener('click', on_click_closure(method_name));\n        button.addEventListener('mouseover', on_mouseover_closure(tooltip));\n\n        var icon_img = document.createElement('img');\n        icon_img.src = '_images/' + image + '.png';\n        icon_img.srcset = '_images/' + image + '_large.png 2x';\n        icon_img.alt = tooltip;\n        button.appendChild(icon_img);\n\n        buttonGroup.appendChild(button);\n    }\n\n    if (buttonGroup.hasChildNodes()) {\n        toolbar.appendChild(buttonGroup);\n    }\n\n    var fmt_picker = document.createElement('select');\n    fmt_picker.classList = 'mpl-widget';\n    toolbar.appendChild(fmt_picker);\n    this.format_dropdown = fmt_picker;\n\n    for (var ind in mpl.extensions) {\n        var fmt = mpl.extensions[ind];\n        var option = document.createElement('option');\n        option.selected = fmt === mpl.default_extension;\n        option.innerHTML = fmt;\n        fmt_picker.appendChild(option);\n    }\n\n    var status_bar = document.createElement('span');\n    status_bar.classList = 'mpl-message';\n    toolbar.appendChild(status_bar);\n    this.message = status_bar;\n};\n\nmpl.figure.prototype.request_resize = function (x_pixels, y_pixels) {\n    // Request matplotlib to resize the figure. Matplotlib will then trigger a resize in the client,\n    // which will in turn request a refresh of the image.\n    this.send_message('resize', { width: x_pixels, height: y_pixels });\n};\n\nmpl.figure.prototype.send_message = function (type, properties) {\n    properties['type'] = type;\n    properties['figure_id'] = this.id;\n    this.ws.send(JSON.stringify(properties));\n};\n\nmpl.figure.prototype.send_draw_message = function () {\n    if (!this.waiting) {\n        this.waiting = true;\n        this.ws.send(JSON.stringify({ type: 'draw', figure_id: this.id }));\n    }\n};\n\nmpl.figure.prototype.handle_save = function (fig, _msg) {\n    var format_dropdown = fig.format_dropdown;\n    var format = format_dropdown.options[format_dropdown.selectedIndex].value;\n    fig.ondownload(fig, format);\n};\n\nmpl.figure.prototype.handle_resize = function (fig, msg) {\n    var size = msg['size'];\n    if (size[0] !== fig.canvas.width || size[1] !== fig.canvas.height) {\n        fig._resize_canvas(size[0], size[1], msg['forward']);\n        fig.send_message('refresh', {});\n    }\n};\n\nmpl.figure.prototype.handle_rubberband = function (fig, msg) {\n    var x0 = msg['x0'] / fig.ratio;\n    var y0 = (fig.canvas.height - msg['y0']) / fig.ratio;\n    var x1 = msg['x1'] / fig.ratio;\n    var y1 = (fig.canvas.height - msg['y1']) / fig.ratio;\n    x0 = Math.floor(x0) + 0.5;\n    y0 = Math.floor(y0) + 0.5;\n    x1 = Math.floor(x1) + 0.5;\n    y1 = Math.floor(y1) + 0.5;\n    var min_x = Math.min(x0, x1);\n    var min_y = Math.min(y0, y1);\n    var width = Math.abs(x1 - x0);\n    var height = Math.abs(y1 - y0);\n\n    fig.rubberband_context.clearRect(\n        0,\n        0,\n        fig.canvas.width / fig.ratio,\n        fig.canvas.height / fig.ratio\n    );\n\n    fig.rubberband_context.strokeRect(min_x, min_y, width, height);\n};\n\nmpl.figure.prototype.handle_figure_label = function (fig, msg) {\n    // Updates the figure title.\n    fig.header.textContent = msg['label'];\n};\n\nmpl.figure.prototype.handle_cursor = function (fig, msg) {\n    fig.canvas_div.style.cursor = msg['cursor'];\n};\n\nmpl.figure.prototype.handle_message = function (fig, msg) {\n    fig.message.textContent = msg['message'];\n};\n\nmpl.figure.prototype.handle_draw = function (fig, _msg) {\n    // Request the server to send over a new figure.\n    fig.send_draw_message();\n};\n\nmpl.figure.prototype.handle_image_mode = function (fig, msg) {\n    fig.image_mode = msg['mode'];\n};\n\nmpl.figure.prototype.handle_history_buttons = function (fig, msg) {\n    for (var key in msg) {\n        if (!(key in fig.buttons)) {\n            continue;\n        }\n        fig.buttons[key].disabled = !msg[key];\n        fig.buttons[key].setAttribute('aria-disabled', !msg[key]);\n    }\n};\n\nmpl.figure.prototype.handle_navigate_mode = function (fig, msg) {\n    if (msg['mode'] === 'PAN') {\n        fig.buttons['Pan'].classList.add('active');\n        fig.buttons['Zoom'].classList.remove('active');\n    } else if (msg['mode'] === 'ZOOM') {\n        fig.buttons['Pan'].classList.remove('active');\n        fig.buttons['Zoom'].classList.add('active');\n    } else {\n        fig.buttons['Pan'].classList.remove('active');\n        fig.buttons['Zoom'].classList.remove('active');\n    }\n};\n\nmpl.figure.prototype.updated_canvas_event = function () {\n    // Called whenever the canvas gets updated.\n    this.send_message('ack', {});\n};\n\n// A function to construct a web socket function for onmessage handling.\n// Called in the figure constructor.\nmpl.figure.prototype._make_on_message_function = function (fig) {\n    return function socket_on_message(evt) {\n        if (evt.data instanceof Blob) {\n            var img = evt.data;\n            if (img.type !== 'image/png') {\n                /* FIXME: We get \"Resource interpreted as Image but\n                 * transferred with MIME type text/plain:\" errors on\n                 * Chrome.  But how to set the MIME type?  It doesn't seem\n                 * to be part of the websocket stream */\n                img.type = 'image/png';\n            }\n\n            /* Free the memory for the previous frames */\n            if (fig.imageObj.src) {\n                (window.URL || window.webkitURL).revokeObjectURL(\n                    fig.imageObj.src\n                );\n            }\n\n            fig.imageObj.src = (window.URL || window.webkitURL).createObjectURL(\n                img\n            );\n            fig.updated_canvas_event();\n            fig.waiting = false;\n            return;\n        } else if (\n            typeof evt.data === 'string' &&\n            evt.data.slice(0, 21) === 'data:image/png;base64'\n        ) {\n            fig.imageObj.src = evt.data;\n            fig.updated_canvas_event();\n            fig.waiting = false;\n            return;\n        }\n\n        var msg = JSON.parse(evt.data);\n        var msg_type = msg['type'];\n\n        // Call the  \"handle_{type}\" callback, which takes\n        // the figure and JSON message as its only arguments.\n        try {\n            var callback = fig['handle_' + msg_type];\n        } catch (e) {\n            console.log(\n                \"No handler for the '\" + msg_type + \"' message type: \",\n                msg\n            );\n            return;\n        }\n\n        if (callback) {\n            try {\n                // console.log(\"Handling '\" + msg_type + \"' message: \", msg);\n                callback(fig, msg);\n            } catch (e) {\n                console.log(\n                    \"Exception inside the 'handler_\" + msg_type + \"' callback:\",\n                    e,\n                    e.stack,\n                    msg\n                );\n            }\n        }\n    };\n};\n\nfunction getModifiers(event) {\n    var mods = [];\n    if (event.ctrlKey) {\n        mods.push('ctrl');\n    }\n    if (event.altKey) {\n        mods.push('alt');\n    }\n    if (event.shiftKey) {\n        mods.push('shift');\n    }\n    if (event.metaKey) {\n        mods.push('meta');\n    }\n    return mods;\n}\n\n/*\n * return a copy of an object with only non-object keys\n * we need this to avoid circular references\n * https://stackoverflow.com/a/24161582/3208463\n */\nfunction simpleKeys(original) {\n    return Object.keys(original).reduce(function (obj, key) {\n        if (typeof original[key] !== 'object') {\n            obj[key] = original[key];\n        }\n        return obj;\n    }, {});\n}\n\nmpl.figure.prototype.mouse_event = function (event, name) {\n    if (name === 'button_press') {\n        this.canvas.focus();\n        this.canvas_div.focus();\n    }\n\n    // from https://stackoverflow.com/q/1114465\n    var boundingRect = this.canvas.getBoundingClientRect();\n    var x = (event.clientX - boundingRect.left) * this.ratio;\n    var y = (event.clientY - boundingRect.top) * this.ratio;\n\n    this.send_message(name, {\n        x: x,\n        y: y,\n        button: event.button,\n        step: event.step,\n        modifiers: getModifiers(event),\n        guiEvent: simpleKeys(event),\n    });\n\n    return false;\n};\n\nmpl.figure.prototype._key_event_extra = function (_event, _name) {\n    // Handle any extra behaviour associated with a key event\n};\n\nmpl.figure.prototype.key_event = function (event, name) {\n    // Prevent repeat events\n    if (name === 'key_press') {\n        if (event.key === this._key) {\n            return;\n        } else {\n            this._key = event.key;\n        }\n    }\n    if (name === 'key_release') {\n        this._key = null;\n    }\n\n    var value = '';\n    if (event.ctrlKey && event.key !== 'Control') {\n        value += 'ctrl+';\n    }\n    else if (event.altKey && event.key !== 'Alt') {\n        value += 'alt+';\n    }\n    else if (event.shiftKey && event.key !== 'Shift') {\n        value += 'shift+';\n    }\n\n    value += 'k' + event.key;\n\n    this._key_event_extra(event, name);\n\n    this.send_message(name, { key: value, guiEvent: simpleKeys(event) });\n    return false;\n};\n\nmpl.figure.prototype.toolbar_button_onclick = function (name) {\n    if (name === 'download') {\n        this.handle_save(this, null);\n    } else {\n        this.send_message('toolbar_button', { name: name });\n    }\n};\n\nmpl.figure.prototype.toolbar_button_onmouseover = function (tooltip) {\n    this.message.textContent = tooltip;\n};\n\n///////////////// REMAINING CONTENT GENERATED BY embed_js.py /////////////////\n// prettier-ignore\nvar _JSXTOOLS_RESIZE_OBSERVER=function(A){var t,i=new WeakMap,n=new WeakMap,a=new WeakMap,r=new WeakMap,o=new Set;function s(e){if(!(this instanceof s))throw new TypeError(\"Constructor requires 'new' operator\");i.set(this,e)}function h(){throw new TypeError(\"Function is not a constructor\")}function c(e,t,i,n){e=0 in arguments?Number(arguments[0]):0,t=1 in arguments?Number(arguments[1]):0,i=2 in arguments?Number(arguments[2]):0,n=3 in arguments?Number(arguments[3]):0,this.right=(this.x=this.left=e)+(this.width=i),this.bottom=(this.y=this.top=t)+(this.height=n),Object.freeze(this)}function d(){t=requestAnimationFrame(d);var s=new WeakMap,p=new Set;o.forEach((function(t){r.get(t).forEach((function(i){var r=t instanceof window.SVGElement,o=a.get(t),d=r?0:parseFloat(o.paddingTop),f=r?0:parseFloat(o.paddingRight),l=r?0:parseFloat(o.paddingBottom),u=r?0:parseFloat(o.paddingLeft),g=r?0:parseFloat(o.borderTopWidth),m=r?0:parseFloat(o.borderRightWidth),w=r?0:parseFloat(o.borderBottomWidth),b=u+f,F=d+l,v=(r?0:parseFloat(o.borderLeftWidth))+m,W=g+w,y=r?0:t.offsetHeight-W-t.clientHeight,E=r?0:t.offsetWidth-v-t.clientWidth,R=b+v,z=F+W,M=r?t.width:parseFloat(o.width)-R-E,O=r?t.height:parseFloat(o.height)-z-y;if(n.has(t)){var k=n.get(t);if(k[0]===M&&k[1]===O)return}n.set(t,[M,O]);var S=Object.create(h.prototype);S.target=t,S.contentRect=new c(u,d,M,O),s.has(i)||(s.set(i,[]),p.add(i)),s.get(i).push(S)}))})),p.forEach((function(e){i.get(e).call(e,s.get(e),e)}))}return s.prototype.observe=function(i){if(i instanceof window.Element){r.has(i)||(r.set(i,new Set),o.add(i),a.set(i,window.getComputedStyle(i)));var n=r.get(i);n.has(this)||n.add(this),cancelAnimationFrame(t),t=requestAnimationFrame(d)}},s.prototype.unobserve=function(i){if(i instanceof window.Element&&r.has(i)){var n=r.get(i);n.has(this)&&(n.delete(this),n.size||(r.delete(i),o.delete(i))),n.size||r.delete(i),o.size||cancelAnimationFrame(t)}},A.DOMRectReadOnly=c,A.ResizeObserver=s,A.ResizeObserverEntry=h,A}; // eslint-disable-line\nmpl.toolbar_items = [[\"Home\", \"Reset original view\", \"fa fa-home\", \"home\"], [\"Back\", \"Back to previous view\", \"fa fa-arrow-left\", \"back\"], [\"Forward\", \"Forward to next view\", \"fa fa-arrow-right\", \"forward\"], [\"\", \"\", \"\", \"\"], [\"Pan\", \"Left button pans, Right button zooms\\nx/y fixes axis, CTRL fixes aspect\", \"fa fa-arrows\", \"pan\"], [\"Zoom\", \"Zoom to rectangle\\nx/y fixes axis\", \"fa fa-square-o\", \"zoom\"], [\"\", \"\", \"\", \"\"], [\"Download\", \"Download plot\", \"fa fa-floppy-o\", \"download\"]];\n\nmpl.extensions = [\"eps\", \"jpeg\", \"pgf\", \"pdf\", \"png\", \"ps\", \"raw\", \"svg\", \"tif\", \"webp\"];\n\nmpl.default_extension = \"png\";/* global mpl */\n\nvar comm_websocket_adapter = function (comm) {\n    // Create a \"websocket\"-like object which calls the given IPython comm\n    // object with the appropriate methods. Currently this is a non binary\n    // socket, so there is still some room for performance tuning.\n    var ws = {};\n\n    ws.binaryType = comm.kernel.ws.binaryType;\n    ws.readyState = comm.kernel.ws.readyState;\n    function updateReadyState(_event) {\n        if (comm.kernel.ws) {\n            ws.readyState = comm.kernel.ws.readyState;\n        } else {\n            ws.readyState = 3; // Closed state.\n        }\n    }\n    comm.kernel.ws.addEventListener('open', updateReadyState);\n    comm.kernel.ws.addEventListener('close', updateReadyState);\n    comm.kernel.ws.addEventListener('error', updateReadyState);\n\n    ws.close = function () {\n        comm.close();\n    };\n    ws.send = function (m) {\n        //console.log('sending', m);\n        comm.send(m);\n    };\n    // Register the callback with on_msg.\n    comm.on_msg(function (msg) {\n        //console.log('receiving', msg['content']['data'], msg);\n        var data = msg['content']['data'];\n        if (data['blob'] !== undefined) {\n            data = {\n                data: new Blob(msg['buffers'], { type: data['blob'] }),\n            };\n        }\n        // Pass the mpl event to the overridden (by mpl) onmessage function.\n        ws.onmessage(data);\n    });\n    return ws;\n};\n\nmpl.mpl_figure_comm = function (comm, msg) {\n    // This is the function which gets called when the mpl process\n    // starts-up an IPython Comm through the \"matplotlib\" channel.\n\n    var id = msg.content.data.id;\n    // Get hold of the div created by the display call when the Comm\n    // socket was opened in Python.\n    var element = document.getElementById(id);\n    var ws_proxy = comm_websocket_adapter(comm);\n\n    function ondownload(figure, _format) {\n        window.open(figure.canvas.toDataURL());\n    }\n\n    var fig = new mpl.figure(id, ws_proxy, ondownload, element);\n\n    // Call onopen now - mpl needs it, as it is assuming we've passed it a real\n    // web socket which is closed, not our websocket->open comm proxy.\n    ws_proxy.onopen();\n\n    fig.parent_element = element;\n    fig.cell_info = mpl.find_output_cell(\"<div id='\" + id + \"'></div>\");\n    if (!fig.cell_info) {\n        console.error('Failed to find cell for figure', id, fig);\n        return;\n    }\n    fig.cell_info[0].output_area.element.on(\n        'cleared',\n        { fig: fig },\n        fig._remove_fig_handler\n    );\n};\n\nmpl.figure.prototype.handle_close = function (fig, msg) {\n    var width = fig.canvas.width / fig.ratio;\n    fig.cell_info[0].output_area.element.off(\n        'cleared',\n        fig._remove_fig_handler\n    );\n    fig.resizeObserverInstance.unobserve(fig.canvas_div);\n\n    // Update the output cell to use the data from the current canvas.\n    fig.push_to_output();\n    var dataURL = fig.canvas.toDataURL();\n    // Re-enable the keyboard manager in IPython - without this line, in FF,\n    // the notebook keyboard shortcuts fail.\n    IPython.keyboard_manager.enable();\n    fig.parent_element.innerHTML =\n        '<img src=\"' + dataURL + '\" width=\"' + width + '\">';\n    fig.close_ws(fig, msg);\n};\n\nmpl.figure.prototype.close_ws = function (fig, msg) {\n    fig.send_message('closing', msg);\n    // fig.ws.close()\n};\n\nmpl.figure.prototype.push_to_output = function (_remove_interactive) {\n    // Turn the data on the canvas into data in the output cell.\n    var width = this.canvas.width / this.ratio;\n    var dataURL = this.canvas.toDataURL();\n    this.cell_info[1]['text/html'] =\n        '<img src=\"' + dataURL + '\" width=\"' + width + '\">';\n};\n\nmpl.figure.prototype.updated_canvas_event = function () {\n    // Tell IPython that the notebook contents must change.\n    IPython.notebook.set_dirty(true);\n    this.send_message('ack', {});\n    var fig = this;\n    // Wait a second, then push the new image to the DOM so\n    // that it is saved nicely (might be nice to debounce this).\n    setTimeout(function () {\n        fig.push_to_output();\n    }, 1000);\n};\n\nmpl.figure.prototype._init_toolbar = function () {\n    var fig = this;\n\n    var toolbar = document.createElement('div');\n    toolbar.classList = 'btn-toolbar';\n    this.root.appendChild(toolbar);\n\n    function on_click_closure(name) {\n        return function (_event) {\n            return fig.toolbar_button_onclick(name);\n        };\n    }\n\n    function on_mouseover_closure(tooltip) {\n        return function (event) {\n            if (!event.currentTarget.disabled) {\n                return fig.toolbar_button_onmouseover(tooltip);\n            }\n        };\n    }\n\n    fig.buttons = {};\n    var buttonGroup = document.createElement('div');\n    buttonGroup.classList = 'btn-group';\n    var button;\n    for (var toolbar_ind in mpl.toolbar_items) {\n        var name = mpl.toolbar_items[toolbar_ind][0];\n        var tooltip = mpl.toolbar_items[toolbar_ind][1];\n        var image = mpl.toolbar_items[toolbar_ind][2];\n        var method_name = mpl.toolbar_items[toolbar_ind][3];\n\n        if (!name) {\n            /* Instead of a spacer, we start a new button group. */\n            if (buttonGroup.hasChildNodes()) {\n                toolbar.appendChild(buttonGroup);\n            }\n            buttonGroup = document.createElement('div');\n            buttonGroup.classList = 'btn-group';\n            continue;\n        }\n\n        button = fig.buttons[name] = document.createElement('button');\n        button.classList = 'btn btn-default';\n        button.href = '#';\n        button.title = name;\n        button.innerHTML = '<i class=\"fa ' + image + ' fa-lg\"></i>';\n        button.addEventListener('click', on_click_closure(method_name));\n        button.addEventListener('mouseover', on_mouseover_closure(tooltip));\n        buttonGroup.appendChild(button);\n    }\n\n    if (buttonGroup.hasChildNodes()) {\n        toolbar.appendChild(buttonGroup);\n    }\n\n    // Add the status bar.\n    var status_bar = document.createElement('span');\n    status_bar.classList = 'mpl-message pull-right';\n    toolbar.appendChild(status_bar);\n    this.message = status_bar;\n\n    // Add the close button to the window.\n    var buttongrp = document.createElement('div');\n    buttongrp.classList = 'btn-group inline pull-right';\n    button = document.createElement('button');\n    button.classList = 'btn btn-mini btn-primary';\n    button.href = '#';\n    button.title = 'Stop Interaction';\n    button.innerHTML = '<i class=\"fa fa-power-off icon-remove icon-large\"></i>';\n    button.addEventListener('click', function (_evt) {\n        fig.handle_close(fig, {});\n    });\n    button.addEventListener(\n        'mouseover',\n        on_mouseover_closure('Stop Interaction')\n    );\n    buttongrp.appendChild(button);\n    var titlebar = this.root.querySelector('.ui-dialog-titlebar');\n    titlebar.insertBefore(buttongrp, titlebar.firstChild);\n};\n\nmpl.figure.prototype._remove_fig_handler = function (event) {\n    var fig = event.data.fig;\n    if (event.target !== this) {\n        // Ignore bubbled events from children.\n        return;\n    }\n    fig.close_ws(fig, {});\n};\n\nmpl.figure.prototype._root_extra_style = function (el) {\n    el.style.boxSizing = 'content-box'; // override notebook setting of border-box.\n};\n\nmpl.figure.prototype._canvas_extra_style = function (el) {\n    // this is important to make the div 'focusable\n    el.setAttribute('tabindex', 0);\n    // reach out to IPython and tell the keyboard manager to turn it's self\n    // off when our div gets focus\n\n    // location in version 3\n    if (IPython.notebook.keyboard_manager) {\n        IPython.notebook.keyboard_manager.register_events(el);\n    } else {\n        // location in version 2\n        IPython.keyboard_manager.register_events(el);\n    }\n};\n\nmpl.figure.prototype._key_event_extra = function (event, _name) {\n    // Check for shift+enter\n    if (event.shiftKey && event.which === 13) {\n        this.canvas_div.blur();\n        // select the cell after this one\n        var index = IPython.notebook.find_cell_index(this.cell_info[0]);\n        IPython.notebook.select(index + 1);\n    }\n};\n\nmpl.figure.prototype.handle_save = function (fig, _msg) {\n    fig.ondownload(fig, null);\n};\n\nmpl.find_output_cell = function (html_output) {\n    // Return the cell and output element which can be found *uniquely* in the notebook.\n    // Note - this is a bit hacky, but it is done because the \"notebook_saving.Notebook\"\n    // IPython event is triggered only after the cells have been serialised, which for\n    // our purposes (turning an active figure into a static one), is too late.\n    var cells = IPython.notebook.get_cells();\n    var ncells = cells.length;\n    for (var i = 0; i < ncells; i++) {\n        var cell = cells[i];\n        if (cell.cell_type === 'code') {\n            for (var j = 0; j < cell.output_area.outputs.length; j++) {\n                var data = cell.output_area.outputs[j];\n                if (data.data) {\n                    // IPython >= 3 moved mimebundle to data attribute of output\n                    data = data.data;\n                }\n                if (data['text/html'] === html_output) {\n                    return [cell, data, j];\n                }\n            }\n        }\n    }\n};\n\n// Register the function which deals with the matplotlib target/channel.\n// The kernel may be null if the page has been refreshed.\nif (IPython.notebook.kernel !== null) {\n    IPython.notebook.kernel.comm_manager.register_target(\n        'matplotlib',\n        mpl.mpl_figure_comm\n    );\n}\n",
      "text/plain": [
       "<IPython.core.display.Javascript object>"
      ]
     },
     "metadata": {},
     "output_type": "display_data"
    },
    {
     "data": {
      "text/html": [
       "<div id='426854c4-5aac-47d5-ba8b-ba487e0242f0'></div>"
      ],
      "text/plain": [
       "<IPython.core.display.HTML object>"
      ]
     },
     "metadata": {},
     "output_type": "display_data"
    }
   ],
   "source": []
  },
  {
   "cell_type": "code",
   "execution_count": null,
   "metadata": {},
   "outputs": [],
   "source": [
    "\n"
   ]
  },
  {
   "cell_type": "code",
   "execution_count": null,
   "metadata": {},
   "outputs": [],
   "source": []
  },
  {
   "cell_type": "code",
   "execution_count": null,
   "metadata": {},
   "outputs": [],
   "source": []
  },
  {
   "cell_type": "code",
   "execution_count": null,
   "metadata": {},
   "outputs": [],
   "source": []
  },
  {
   "cell_type": "code",
   "execution_count": null,
   "metadata": {},
   "outputs": [],
   "source": []
  },
  {
   "attachments": {},
   "cell_type": "markdown",
   "metadata": {},
   "source": [
    "# Change the style and parameter of the plots\n",
    "The following cell is not needed only if you want to change some parameters of your plots"
   ]
  },
  {
   "cell_type": "code",
   "execution_count": 23,
   "metadata": {},
   "outputs": [],
   "source": [
    "plt.rcParams.update({\n",
    "    'figure.figsize': (6.4,4.8),     # 4:3 aspect ratio. You can change the figure size here\n",
    "    'font.size' : 12,                   # Set font size to 12pt\n",
    "    'axes.labelsize': 12,               # -> axis labels\n",
    "    'legend.fontsize': 12,              # -> legends\n",
    "    'font.family': 'serif',             # -> font family \n",
    "    'text.usetex': False,              # Latex plot rendering. If True,your plots will be rendered with Latex. But this needs extra time for rendering\n",
    "     'text.latex.preamble':            # LaTeX preamble\n",
    "         r'\\usepackage{mlmodern}'\n",
    "         #... more packages if needed\n",
    "})\n",
    "####################\n",
    "\n",
    "#plt.style.use('ggplot') # You can choose ure matplotlib style"
   ]
  },
  {
   "attachments": {},
   "cell_type": "markdown",
   "metadata": {},
   "source": [
    "# If you prefere plotstyle like Origin use the following code:"
   ]
  },
  {
   "cell_type": "code",
   "execution_count": 44,
   "metadata": {},
   "outputs": [],
   "source": [
    "##### \"\"\"\" For Plotstyle like Origin:\n",
    "# from matplotlib import  cycler\n",
    "# plt.rcParams['font.family'] = 'sans-serif'\n",
    "# plt.rcParams['font.sans-serif'] = ['Arial', 'Helvetica', 'Verdana', 'DejaVu Sans']\n",
    "# plt.rcParams['font.size'] = 15\n",
    "# plt.rcParams['axes.linewidth'] = 1.1\n",
    "# plt.rcParams['axes.labelpad'] = 5.0\n",
    "# plot_color_cycle = cycler('color', [ '0000FE', 'FE0000', '008001', 'FD8000', '8c564b', 'e377c2', '7f7f7f', 'bcbd22', '17becf','000000'])\n",
    "# plt.rcParams['axes.prop_cycle'] = plot_color_cycle\n",
    "# plt.rcParams['axes.xmargin'] = 0\n",
    "# plt.rcParams['axes.ymargin'] = 0"
   ]
  },
  {
   "attachments": {},
   "cell_type": "markdown",
   "metadata": {},
   "source": [
    "# Analytic tools\n",
    "## Analysis class \n",
    "The Analysis class includes a list of different reference potentials and a reference_difference function. This can be used to calculate the difference between two reference potentials. The reference_difference function needs 2 strings from the reference_list() as input. If the RHE scale is involved, a new windows pops up and you need also to enter the pH value."
   ]
  },
  {
   "cell_type": "code",
   "execution_count": 35,
   "metadata": {},
   "outputs": [
    {
     "name": "stdout",
     "output_type": "stream",
     "text": [
      "Reference              Potential (V)\n",
      "-------------------  ---------------\n",
      "SHE                            0\n",
      "RHE                           -0.059\n",
      "Calomel (sat. KCl)             0.241\n",
      "Calomel (3.5 M KCl)            0.25\n",
      "Calomel (1 M KCl)              0.28\n",
      "Calomel (0.1 M KCl)            0.334\n",
      "Ag/AgCl (sat. KCl)             0.199\n",
      "Ag/AgCl (3.5 M KCl)            0.205\n",
      "Hg/HgO (1 M KOH)               0.14\n",
      "Hg/HgO (0.1 M KOH)             0.165\n",
      "Fc/Fc+                         0.4\n"
     ]
    },
    {
     "data": {
      "text/plain": [
       "0.0592"
      ]
     },
     "execution_count": 35,
     "metadata": {},
     "output_type": "execute_result"
    }
   ],
   "source": [
    "Ana=Analysis()\n",
    "Ana.reference_list()\n",
    "Ana.reference_difference(\"SHE\",\"RHE\")"
   ]
  },
  {
   "attachments": {},
   "cell_type": "markdown",
   "metadata": {},
   "source": [
    "# Input of your metadata\n",
    "The following is an example how you store your information for a measurement. It is necessary for the plot and calculation functions. GSTATIC(Potentiostat).DTA is the filename which are in the subfolder data. If your file is somewhere else you need to give the full path as input. Windows makes a lot of problems in terms of working with paths. I highly recommend you to store your data in the data subfolder. Linux and MacOs should't make any problems. "
   ]
  },
  {
   "cell_type": "code",
   "execution_count": 121,
   "metadata": {},
   "outputs": [],
   "source": [
    "cp_sample1=lib.DatasetForPlots(filename=\"data/Cu14nm.DTA\",reference=\"Hg/HgO\",name=\"Cu 12 nm\",conducting_salt=\"KOH\",concentration=\"0.1 M\",solvent=\"H$_2$O\",pH=\"pH 10\")\n"
   ]
  },
  {
   "attachments": {},
   "cell_type": "markdown",
   "metadata": {},
   "source": [
    "print your stored data with:\n"
   ]
  },
  {
   "cell_type": "code",
   "execution_count": 8,
   "metadata": {},
   "outputs": [
    {
     "data": {
      "text/plain": [
       "{'id': 'datasetforplots0',\n",
       " 'filename': 'data/Cu12nm.DTA',\n",
       " 'reference': 'Hg/HgO',\n",
       " 'name': 'Cu 12 nm',\n",
       " 'conducting_salt': 'KOH',\n",
       " 'concentration': '0.1 M',\n",
       " 'solvent': 'H$_2$O',\n",
       " 'pH': 'pH 10',\n",
       " 'scan_rate': None,\n",
       " 'substrate': None}"
      ]
     },
     "execution_count": 8,
     "metadata": {},
     "output_type": "execute_result"
    }
   ],
   "source": [
    "cp_sample1.__dict__"
   ]
  },
  {
   "attachments": {},
   "cell_type": "markdown",
   "metadata": {},
   "source": [
    "# ChronoPotentiometry class/ ChronoPotentiometry(metadata,change_reference=False)\n",
    "This class needs the metadata from above as input. You also have the choice to change your reference system by setting change_reference=True. A windows opens up and you need to give the reference difference as input and the new reference name. By doing this all your Potential values will be changed to the new system."
   ]
  },
  {
   "cell_type": "code",
   "execution_count": 122,
   "metadata": {},
   "outputs": [],
   "source": [
    "cp_normal=ChronoPotentiometry(cp_sample1)\n"
   ]
  },
  {
   "cell_type": "code",
   "execution_count": 10,
   "metadata": {},
   "outputs": [],
   "source": [
    "cp_change_ref=ChronoPotentiometry(cp_sample1,change_referene=False)"
   ]
  },
  {
   "attachments": {},
   "cell_type": "markdown",
   "metadata": {},
   "source": [
    "The CP class has the following functions:\n",
    "- quick_plot() -> shows all relevant data: $U$ vs time, $I$ vs. time and $U$ of the mess cell vs time. It is only to check if your data looks good or not\n",
    "- plot(save=False,label=False) -> return a plot $U$ vs time. It can be saved by setting save=True. The x and y labels can also be changed with label=True\n",
    "- end_value()\n",
    "- end_value_fit()"
   ]
  },
  {
   "cell_type": "code",
   "execution_count": 7,
   "metadata": {},
   "outputs": [
    {
     "ename": "NameError",
     "evalue": "name 'cp_normal' is not defined",
     "output_type": "error",
     "traceback": [
      "\u001b[0;31m---------------------------------------------------------------------------\u001b[0m",
      "\u001b[0;31mNameError\u001b[0m                                 Traceback (most recent call last)",
      "Cell \u001b[0;32mIn[7], line 1\u001b[0m\n\u001b[0;32m----> 1\u001b[0m cp_normal\u001b[39m.\u001b[39mquick_plot()\n",
      "\u001b[0;31mNameError\u001b[0m: name 'cp_normal' is not defined"
     ]
    }
   ],
   "source": [
    "cp_normal.quick_plot()"
   ]
  },
  {
   "cell_type": "code",
   "execution_count": 34,
   "metadata": {},
   "outputs": [
    {
     "data": {
      "image/png": "[encoded data removed]",
      "text/plain": [
       "<Figure size 640x480 with 1 Axes>"
      ]
     },
     "metadata": {},
     "output_type": "display_data"
    }
   ],
   "source": [
    "cp_normal.plot()\n",
    "#cp_change_ref.plot()\n",
    "#change the axis labels:\n",
    "#cp_normal.plot(label=True)\n",
    "#save it with:\n",
    "#cp_normal.plot(save=True)"
   ]
  },
  {
   "attachments": {},
   "cell_type": "markdown",
   "metadata": {},
   "source": [
    "determine the last potential with end_value(), which return the average of the last 20 values of your measurement or with end_value_fit() which determines it via a fit function.\n",
    "The end_value_fit() can be better for oscillating measurements data"
   ]
  },
  {
   "cell_type": "code",
   "execution_count": 123,
   "metadata": {},
   "outputs": [
    {
     "name": "stderr",
     "output_type": "stream",
     "text": [
      "/home/dimitrios/.local/lib/python3.10/site-packages/scipy/optimize/_minpack_py.py:906: OptimizeWarning: Covariance of the parameters could not be estimated\n",
      "  warnings.warn('Covariance of the parameters could not be estimated',\n"
     ]
    },
    {
     "data": {
      "image/png": "[encoded data removed]",
      "text/plain": [
       "<Figure size 640x480 with 1 Axes>"
      ]
     },
     "metadata": {},
     "output_type": "display_data"
    },
    {
     "data": {
      "text/plain": [
       "-1.8212116666666414"
      ]
     },
     "execution_count": 123,
     "metadata": {},
     "output_type": "execute_result"
    }
   ],
   "source": [
    "#cp_normal.end_value()\n",
    "cp_normal.end_value_fit()\n",
    "#cp_change_ref.end_value_fit()"
   ]
  },
  {
   "attachments": {},
   "cell_type": "markdown",
   "metadata": {},
   "source": [
    "# MultiChronoPotentiometry class/ MultiChronoPotentiometry([metadata,metadata2],change_reference=False)\n",
    "The MultiCP class is for plotting multiple data in a single figure. It needs a list of metadata as input and has the same change_reference attribute. It only has a plot function with the same attributes (save=False and labels=False) like all plot functions.\n"
   ]
  },
  {
   "cell_type": "code",
   "execution_count": 31,
   "metadata": {},
   "outputs": [],
   "source": [
    "cp_sample2=lib.DatasetForPlots(filename=\"data/Cu14nm.DTA\",reference=\"Hg/HgO\",name=\"Cu 14 nm\",conducting_salt=\"KOH\",concentration=\"0.1 M\",solvent=\"H$_2$O\",pH=\"pH 10\")"
   ]
  },
  {
   "cell_type": "code",
   "execution_count": 36,
   "metadata": {},
   "outputs": [
    {
     "data": {
      "image/png": "[encoded data removed]",
      "text/plain": [
       "<Figure size 640x480 with 1 Axes>"
      ]
     },
     "metadata": {},
     "output_type": "display_data"
    }
   ],
   "source": [
    "multicp=MultiChronoPotentiometry([cp_sample1,cp_sample2])\n",
    "multicp.plot(save=False)"
   ]
  },
  {
   "attachments": {},
   "cell_type": "markdown",
   "metadata": {},
   "source": [
    "# ChronoAmperometry class/ ChronoAmperometry(metadata,current_density=False)\n",
    "This class is very similar to the ChronoPotentiometry class it has the same input but another attribute current_density=False. By setting this on True you will be able to work with the current density instead of the current."
   ]
  },
  {
   "cell_type": "code",
   "execution_count": 10,
   "metadata": {},
   "outputs": [],
   "source": [
    "ca_sample1=lib.DatasetForPlots(filename=\"data/CA.csv\",reference=\"Ag/AgCl\",name=\"Sample1\",conducting_salt=\"KOH\",concentration=\"0.1 M\",solvent=\"H$_2$O\",pH=\"pH 7\")\n",
    "ca_sample2=lib.DatasetForPlots(filename=\"data/CA1.dat\",reference=\"Ag/AgCl\",name=\"PtMe\",conducting_salt=\"LiCLO4\",concentration=\"5 mM\",solvent=\"H$_2$O\",)"
   ]
  },
  {
   "cell_type": "code",
   "execution_count": 11,
   "metadata": {},
   "outputs": [],
   "source": [
    "ca=ChronoAmperometry(ca_sample2,current_density=True)"
   ]
  },
  {
   "attachments": {},
   "cell_type": "markdown",
   "metadata": {},
   "source": [
    "The CA class has the following functions:\n",
    "- plot(save=False,label=False) -> return a plot $I$ vs time. It can be saved by setting save=True. The x and y labels can also be changed with label=True\n",
    "- end_value()\n",
    "- end_value_fit()"
   ]
  },
  {
   "cell_type": "code",
   "execution_count": 13,
   "metadata": {},
   "outputs": [
    {
     "data": {
      "image/png": "[encoded data removed]",
      "text/plain": [
       "<Figure size 640x480 with 1 Axes>"
      ]
     },
     "metadata": {},
     "output_type": "display_data"
    },
    {
     "data": {
      "image/png": "[encoded data removed]",
      "text/plain": [
       "<Figure size 640x480 with 1 Axes>"
      ]
     },
     "metadata": {},
     "output_type": "display_data"
    },
    {
     "data": {
      "text/plain": [
       "-3.796379999999999e-09"
      ]
     },
     "execution_count": 13,
     "metadata": {},
     "output_type": "execute_result"
    }
   ],
   "source": [
    "ca.plot()\n",
    "ca.end_value(save=False)\n",
    "#ca.end_value_fit()"
   ]
  },
  {
   "attachments": {},
   "cell_type": "markdown",
   "metadata": {},
   "source": [
    "# MultiChronoAmperometry class/ MultiChronoAmperometry([metadata,metadata2],change_reference=False)\n",
    "The MultiChronoAmperometry class is for plotting multiple data in a single figure. It needs a list of metadata as input and has the same current_density attribute. It only has a plot function with the same attributes (save=False and labels=False) like all plot functions. It is similar to the MultiChronoPotentiometry class."
   ]
  },
  {
   "cell_type": "code",
   "execution_count": 9,
   "metadata": {},
   "outputs": [],
   "source": [
    "# multica=MultiChronoAmperometry([ca_sample2])\n",
    "# multica.plot()"
   ]
  },
  {
   "attachments": {},
   "cell_type": "markdown",
   "metadata": {},
   "source": [
    "# CyclicVoltammetry class\n",
    "## CyclicVoltammetry(metadata,[cycles]=None,change_reference=False,current_density=False)\n",
    "The CyclicVoltammetry class is for Cyclic Voltammetry and needs also a metadata as input. An optional input are the cycles as a list. If you don't give a cycle as input then all cycles will be used. It has also the change_reference and current_density attributes as previously mentioned. The functions are:\n",
    "- plot(legendposition(x,y),save=False,label=False)\n",
    "- peaks(range=None) # By default it will be used the whole electrochemical windows, but you can put a range here.\n",
    "- integration() # This integrates the for- and back cycle separately\n"
   ]
  },
  {
   "cell_type": "code",
   "execution_count": 142,
   "metadata": {},
   "outputs": [],
   "source": [
    "cv_sample=lib.DatasetForPlots(filename=\"data/CV.csv\",reference=\"Ag/AgCl\",name=\"Sample1\",conducting_salt=\"KOH\",concentration=\"0.1 M\",solvent=\"H$_2$O\",pH=\"pH 7\",substrate=\"Au\",scan_rate=\"20 mV/s\")"
   ]
  },
  {
   "cell_type": "code",
   "execution_count": 10,
   "metadata": {},
   "outputs": [],
   "source": [
    "cv=CyclicVoltammetry(cv_sample,[1],change_reference=False)\n",
    "\n",
    "#cv.integration()"
   ]
  },
  {
   "cell_type": "code",
   "execution_count": 11,
   "metadata": {},
   "outputs": [
    {
     "data": {
      "image/png": "[encoded data removed]",
      "text/plain": [
       "<Figure size 640x480 with 1 Axes>"
      ]
     },
     "metadata": {},
     "output_type": "display_data"
    }
   ],
   "source": [
    "cv.plot()\n",
    "peaks1=cv.peaks((-1,-0.5))\n",
    "peaks2=cv.peaks((-0,5,-0))"
   ]
  },
  {
   "cell_type": "code",
   "execution_count": 12,
   "metadata": {},
   "outputs": [
    {
     "data": {
      "text/html": [
       "<div>\n",
       "<style scoped>\n",
       "    .dataframe tbody tr th:only-of-type {\n",
       "        vertical-align: middle;\n",
       "    }\n",
       "\n",
       "    .dataframe tbody tr th {\n",
       "        vertical-align: top;\n",
       "    }\n",
       "\n",
       "    .dataframe thead th {\n",
       "        text-align: right;\n",
       "    }\n",
       "</style>\n",
       "<table border=\"1\" class=\"dataframe\">\n",
       "  <thead>\n",
       "    <tr style=\"text-align: right;\">\n",
       "      <th></th>\n",
       "      <th>Cycles</th>\n",
       "      <th>E min</th>\n",
       "      <th>E max</th>\n",
       "      <th>I min</th>\n",
       "      <th>I max</th>\n",
       "      <th>E1/2</th>\n",
       "      <th>I_vertex</th>\n",
       "    </tr>\n",
       "  </thead>\n",
       "  <tbody>\n",
       "    <tr>\n",
       "      <th>0</th>\n",
       "      <td>Cycle: 1</td>\n",
       "      <td>-0.859417</td>\n",
       "      <td>-0.769495</td>\n",
       "      <td>-10.9003</td>\n",
       "      <td>2.47754</td>\n",
       "      <td>-0.814456</td>\n",
       "      <td>-8.61851</td>\n",
       "    </tr>\n",
       "  </tbody>\n",
       "</table>\n",
       "</div>"
      ],
      "text/plain": [
       "     Cycles     E min     E max    I min    I max      E1/2  I_vertex\n",
       "0  Cycle: 1 -0.859417 -0.769495 -10.9003  2.47754 -0.814456  -8.61851"
      ]
     },
     "execution_count": 12,
     "metadata": {},
     "output_type": "execute_result"
    }
   ],
   "source": [
    "peaks1\n"
   ]
  },
  {
   "cell_type": "code",
   "execution_count": 36,
   "metadata": {},
   "outputs": [
    {
     "data": {
      "text/html": [
       "<div>\n",
       "<style scoped>\n",
       "    .dataframe tbody tr th:only-of-type {\n",
       "        vertical-align: middle;\n",
       "    }\n",
       "\n",
       "    .dataframe tbody tr th {\n",
       "        vertical-align: top;\n",
       "    }\n",
       "\n",
       "    .dataframe thead th {\n",
       "        text-align: right;\n",
       "    }\n",
       "</style>\n",
       "<table border=\"1\" class=\"dataframe\">\n",
       "  <thead>\n",
       "    <tr style=\"text-align: right;\">\n",
       "      <th></th>\n",
       "      <th>Cycles</th>\n",
       "      <th>E min</th>\n",
       "      <th>E max</th>\n",
       "      <th>I min</th>\n",
       "      <th>I max</th>\n",
       "      <th>E1/2</th>\n",
       "      <th>I_vertex</th>\n",
       "    </tr>\n",
       "  </thead>\n",
       "  <tbody>\n",
       "    <tr>\n",
       "      <th>0</th>\n",
       "      <td>Cycle: 1</td>\n",
       "      <td>0.000117</td>\n",
       "      <td>0.000117</td>\n",
       "      <td>-2.07976</td>\n",
       "      <td>5.17299</td>\n",
       "      <td>0.000117</td>\n",
       "      <td>-8.61851</td>\n",
       "    </tr>\n",
       "  </tbody>\n",
       "</table>\n",
       "</div>"
      ],
      "text/plain": [
       "     Cycles     E min     E max    I min    I max      E1/2  I_vertex\n",
       "0  Cycle: 1  0.000117  0.000117 -2.07976  5.17299  0.000117  -8.61851"
      ]
     },
     "execution_count": 36,
     "metadata": {},
     "output_type": "execute_result"
    }
   ],
   "source": [
    "peaks2"
   ]
  },
  {
   "cell_type": "code",
   "execution_count": 5,
   "metadata": {},
   "outputs": [
    {
     "data": {
      "image/png": "[encoded data removed]",
      "text/plain": [
       "<Figure size 640x480 with 1 Axes>"
      ]
     },
     "metadata": {},
     "output_type": "display_data"
    }
   ],
   "source": [
    "#from sklearn.linear_model import LinearRegression\n",
    "cv_sample=lib.DatasetForPlots(filename=\"data/CV.csv\",reference=\"Ag/AgCl\",name=\"Sample1\",conducting_salt=\"KOH\",concentration=\"0.1 M\",solvent=\"H$_2$O\",pH=\"pH 7\",substrate=\"Au\",scan_rate=\"20 mV/s\")\n",
    "class CyclicVoltammetry(Analysis):\n",
    "    def __init__(self,metadata,cycles=None,current_density=False,change_reference=False):\n",
    "        self.df = pd.read_csv(metadata.filename,header=5,skipfooter=1,engine=\"python\")\n",
    "        self.total_cycles=len(self.df. columns) // 2\n",
    "        self.all_cycles_list= [i for i in range(1,self.total_cycles+1)]\n",
    "        self.solvent = metadata.solvent if metadata.solvent is not None else \"MeCN\"\n",
    "        self.cycles= cycles if cycles is not None else self.all_cycles_list\n",
    "        self.concentration = metadata.concentration if  metadata.concentration is not None else \"0.1 M\"\n",
    "        self.conducting_salt =  metadata.conducting_salt if metadata.conducting_salt is not None else \" KOH\"\n",
    "        self.substrate= metadata.substrate if metadata.substrate is not None else \"Au\"\n",
    "        self.scan_rate= metadata.scan_rate if metadata.scan_rate is not None else \"20 mV/s\"\n",
    "        self.reference = metadata.reference if metadata.reference is not None else \"Ag/AgCl\"\n",
    "        self.name= metadata.name if metadata.name is not None else \"\" \n",
    "        self.E = [\"E\" for i in range(self.total_cycles)]\n",
    "        self.I = [\"I\" for i in range(self.total_cycles)]\n",
    "        self.df.columns = [name for pair in zip(self.E, self.I) for name in pair]\n",
    "        self.num_cycles = int(self.df.shape[1] / 2)\n",
    "        self.cycle_df = np.array_split(self.df, self.num_cycles, axis=1)\n",
    "        self.cycles = [cycle-1 for cycle in self.cycles]\n",
    "        if change_reference:\n",
    "            delta_E=float(input(\"Enter the reference differnce: \"))\n",
    "            self.reference= input(\"Enter the reference name: \")\n",
    "            for df in self.cycle_df:\n",
    "                df['E'] = df['E'] + delta_E\n",
    "        self.xlabel= f\"$E$ vs. {self.reference}  (V)\"\n",
    "        self.ylabel= r\"$I$  ($\\mathrm{\\mu}$A)\" ### \\textmu if latex rendering\n",
    "        if current_density:\n",
    "            A=float(input(\"Enter the WE area:\"))\n",
    "            J_unit= input(\"Enter the unit of your current density (Use $ symbols for exponent eg. A/cm$^2$ ): \")\n",
    "            self.df[\"I\"] = self.df[\"I\"] / A\n",
    "            self.ylabel= f\"$J$  ({J_unit}) \"\n",
    "            for df in self.cycle_df:\n",
    "                df['I'] = df['I'] / A\n",
    "        #pass\n",
    "    def plot(self,xy=None,save=False,label=False):\n",
    "        xy= xy if xy is not None else (0.75,.02)\n",
    "        fig, ax=plt.subplots()\n",
    "        xlabel=self.xlabel\n",
    "        ylabel=self.ylabel\n",
    "        if label:\n",
    "            xlabel= input(\"enter new xlabel: \")\n",
    "            ylabel= input(r\"enter new ylabel: \")\n",
    "        ax.annotate(f\"{self.concentration} {self.conducting_salt}/{self.substrate}\\n$v$ = {self.scan_rate}\", xy=xy, xycoords=\"axes fraction\")\n",
    "        for i in self.cycles: \n",
    "            ax.plot(self.cycle_df[i][\"E\"],self.cycle_df[i][\"I\"],label=\"Cycle: {}\".format(i+1))\n",
    "            ax.set_xlabel(xlabel)\n",
    "            ax.set_ylabel(ylabel)\n",
    "            ax.legend(loc=\"best\",frameon=False)\n",
    "        plt.show()\n",
    "\n",
    "        if save:\n",
    "            plotname=input(\"Enter the name of the plot: \")\n",
    "            fig.savefig(plotname,bbox_inches='tight')\n",
    "    def peaks(self,range=None):\n",
    "        E_min=[]\n",
    "        E_max=[]\n",
    "        E_hwp=[]\n",
    "        Cycles=[]\n",
    "        I_max=[]\n",
    "        I_min=[]\n",
    "        I_vertex_list=[]\n",
    "        x_max = self.cycle_df[0]['E'].max()\n",
    "        x_min = self.cycle_df[0]['E'].min()\n",
    "        range= range if range is not None else (x_min,x_max) \n",
    "        for i in self.cycles:\n",
    "            Cycles.append(\"Cycle: {}\".format(i+1))\n",
    "            indices = np.where((self.cycle_df[i][\"E\"] >= range[0]) & (self.cycle_df[i][\"E\"] <= range[1]))[0]\n",
    "            max_index = indices[np.argmax(self.cycle_df[i][\"I\"][indices])]\n",
    "            pot_at_max = self.cycle_df[i][\"E\"][max_index]\n",
    "            current_at_max = self.cycle_df[i][\"I\"][max_index]\n",
    "            min_index = indices[np.argmin(self.cycle_df[i][\"I\"][indices])]\n",
    "            pot_at_min = self.cycle_df[i][\"E\"][min_index]\n",
    "            current_at_min = self.cycle_df[i][\"I\"][min_index]\n",
    "            max_E= np.argmax(self.cycle_df[i][\"E\"])\n",
    "            min_E= np.argmin(self.cycle_df[i][\"E\"])\n",
    "            I_at_max_E=self.cycle_df[i][\"I\"][max_E]\n",
    "            I_at_min_E=self.cycle_df[i][\"I\"][min_E]\n",
    "            I_start=self.cycle_df[i][\"I\"][0]\n",
    "            if self.cycle_df[0][\"E\"][0]< self.cycle_df[0][\"E\"][10]:\n",
    "                I_vertex=I_at_max_E-I_start\n",
    "            else:\n",
    "                I_vertex=I_at_min_E-I_start\n",
    "            E_max.append(pot_at_max)\n",
    "            E_min.append(pot_at_min)\n",
    "            E_hwp.append((pot_at_max+pot_at_min)/2 )\n",
    "            I_min.append(current_at_min)\n",
    "            I_max.append(current_at_max)\n",
    "            I_vertex_list.append(I_vertex)\n",
    "            df = pd.DataFrame(list(zip(Cycles,E_min,E_max,I_min,I_max,E_hwp,I_vertex_list)), columns=[\"Cycles\",'E min','E max',\"I min\",\"I max\",\"E1/2\",\"I_vertex\"])   \n",
    "        return  df   \n",
    "\n",
    "    def integration(self):\n",
    "        x_max = self.cycle_df[0]['E'].max()\n",
    "        x_min = self.cycle_df[0]['E'].min()\n",
    "        xlabel=self.xlabel\n",
    "        ylabel=self.ylabel\n",
    "        def interactive(E_min=(x_min-0.1,x_max,0.01),E_max=(x_min,x_max,0.01),E_min_back=(x_min-0.1,x_max,0.01),E_max_back=(x_min,x_max,0.01),savename=\"integration_plot.pdf\",save=False):\n",
    "            Cycles=[]\n",
    "            Integral=[]\n",
    "            #fig, ax =plt.subplots()\n",
    "            global dataframe_integration\n",
    "            for i in self.cycles:\n",
    "                    Cycles.append(\"Cycle: {}\".format(i+1)) \n",
    "                    fig,ax=plt.subplots()\n",
    "                    df=self.cycle_df[i]\n",
    "                    half= len(df)//2\n",
    "                    forward_cycle=df.iloc[:half,:]\n",
    "                    backward_cycle=df.iloc[half:,:]\n",
    "                    forward_cycle_peak = forward_cycle[(forward_cycle['E'] >= E_min) & (forward_cycle['E'] <= E_max)]\n",
    "                    #new regression\n",
    "                    start_value = forward_cycle_peak.iloc[0]['E']\n",
    "                    end_value = forward_cycle_peak.iloc[-1]['E']\n",
    "                    forward_slope = (forward_cycle_peak.iloc[-1]['I'] - forward_cycle_peak.iloc[0]['I']) / (end_value - start_value)\n",
    "                    intercept = forward_cycle_peak.iloc[0]['I'] - forward_slope * start_value\n",
    "                    def line_func(x):\n",
    "                        return forward_slope * x + intercept\n",
    "                    y_pred3 = line_func(forward_cycle_peak['E'].values)\n",
    "                    area_forward = trapz(forward_cycle_peak['I'] - y_pred3.flatten(), forward_cycle_peak['E'])\n",
    "                    ax.plot(forward_cycle_peak['E'], y_pred3.flatten(),color=\"black\", linestyle='--')\n",
    "                    #ax.fill_between(forward_cycle_peak['E'], forward_cycle_peak['I'], y_pred3.flatten(), where=(forward_cycle_peak['I'] > y_pred3.flatten()), alpha=0.3)\n",
    "                    ax.fill_between(forward_cycle_peak['E'], forward_cycle_peak['I'], y_pred3.flatten(), alpha=0.3)\n",
    "                    backward_cycle_peak = backward_cycle[(backward_cycle['E'] >= E_min_back) & (backward_cycle['E'] <= E_max_back)]\n",
    "                    start_value_back = backward_cycle_peak.iloc[0]['E']\n",
    "                    end_value_back = backward_cycle_peak.iloc[-1]['E']\n",
    "                    backward_slope = (backward_cycle_peak.iloc[-1]['I'] - backward_cycle_peak.iloc[0]['I']) / (end_value_back - start_value_back)\n",
    "                    intercept_back = backward_cycle_peak.iloc[0]['I'] - backward_slope * start_value_back\n",
    "                    def line_func_back(x):\n",
    "                        return backward_slope * x + intercept_back\n",
    "                    y_pred2 = line_func_back(backward_cycle_peak['E'].values)\n",
    "                    area_backward = trapz(backward_cycle_peak['I'] - y_pred2.flatten(), backward_cycle_peak['E'])\n",
    "                    ax.plot(backward_cycle_peak['E'], y_pred2.flatten(), color='black', linestyle='--')\n",
    "                    ax.fill_between(backward_cycle_peak['E'], backward_cycle_peak['I'], y_pred2.flatten(), where=(backward_cycle_peak['I'] > y_pred2.flatten()), alpha=0.3)\n",
    "                    backward_cycle_peak = backward_cycle[(backward_cycle['E'] >= E_min_back) & (backward_cycle['E'] <= E_max_back)]\n",
    "                    start_value_back = backward_cycle_peak.iloc[0]['E']\n",
    "                    end_value_back = backward_cycle_peak.iloc[-1]['E']\n",
    "                    backward_slope = (backward_cycle_peak.iloc[-1]['I'] - backward_cycle_peak.iloc[0]['I']) / (end_value_back - start_value_back)\n",
    "                    intercept_back = backward_cycle_peak.iloc[0]['I'] - backward_slope * start_value_back\n",
    "\n",
    "                    # def line_func_back(x):\n",
    "                    #     return backward_slope * x + intercept_back\n",
    "\n",
    "                    y_pred2 = line_func_back(backward_cycle_peak['E'].values)\n",
    "                    area_backward = trapz(backward_cycle_peak['I'] - y_pred2.flatten(), backward_cycle_peak['E'])\n",
    "                    ax.fill_between(backward_cycle_peak['E'], backward_cycle_peak['I'], y_pred2.flatten(), alpha=0.3)# where=(backward_cycle_peak['I'] < y_pred2.flatten())\n",
    "   \n",
    "                    Integral.append((area_forward,area_backward))\n",
    "\n",
    "                    ax.plot(df[\"E\"],df[\"I\"],label=\"Cycle: {}\".format(i+1))\n",
    "                    ax.set_xlabel(xlabel)\n",
    "                    ax.set_ylabel(ylabel)\n",
    "                    ax.legend(frameon=False)\n",
    "                    if save:\n",
    "                        fig.savefig(\"plots/\" +\"Cycle{}_\".format(i+1)+savename)\n",
    "                    #ax.set_title(\"Cycle: {}\".format(i+1))\n",
    "                    dataframe_integration= pd.DataFrame(zip(Cycles,Integral), columns=[\"Cycles\",\"Integration Area\"])\n",
    "                    #self.interactive_dataframe = dataframe\n",
    "            return dataframe_integration\n",
    "\n",
    "        widgets.interact(interactive)\n",
    "        #return dataframe_integration\n",
    "\n",
    "cv=CyclicVoltammetry(cv_sample,[1,2])\n",
    "cv.plot()\n",
    "#result=cv.integration()\n"
   ]
  },
  {
   "cell_type": "code",
   "execution_count": 15,
   "metadata": {},
   "outputs": [
    {
     "name": "stdout",
     "output_type": "stream",
     "text": [
      "     Cycles                            Integration Area\n",
      "0  Cycle: 1  (21.511618740000017, -0.44335198349999744)\n",
      "1  Cycle: 2       (50.56917374945, -0.3455534350000027)\n"
     ]
    }
   ],
   "source": [
    "print(dataframe_integration)\n",
    "#print(result)"
   ]
  },
  {
   "attachments": {},
   "cell_type": "markdown",
   "metadata": {},
   "source": [
    "# CV Interactive"
   ]
  },
  {
   "cell_type": "code",
   "execution_count": 8,
   "metadata": {},
   "outputs": [
    {
     "data": {
      "application/vnd.jupyter.widget-view+json": {
       "model_id": "1cb0b1ec37d549209dff6e19f3dc132e",
       "version_major": 2,
       "version_minor": 0
      },
      "text/plain": [
       "interactive(children=(FloatSlider(value=-1.49903, description='E_Min', max=0.299962, min=-1.49903), FloatSlide…"
      ]
     },
     "metadata": {},
     "output_type": "display_data"
    },
    {
     "data": {
      "application/vnd.jupyter.widget-view+json": {
       "model_id": "0b5c450bfd474aa9b9ee18c4626a57a7",
       "version_major": 2,
       "version_minor": 0
      },
      "text/plain": [
       "interactive(children=(FloatSlider(value=-0.6590300000000001, description='E_min', max=0.299962, min=-1.5990300…"
      ]
     },
     "metadata": {},
     "output_type": "display_data"
    }
   ],
   "source": [
    "#from IPython.display import display, HTML\n",
    "cv_sample=lib.DatasetForPlots(filename=\"data/SarkarCV_utf8.csv\",reference=\"Ag/AgCl\",name=\"Sample1\",conducting_salt=\"KOH\",concentration=\"0.1 M\",solvent=\"H$_2$O\",pH=\"pH 7\",substrate=\"Au\",scan_rate=\"20 mV/s\")\n",
    "class CyclicVoltammetry(Analysis):\n",
    "    def __init__(self,metadata,cycles=None,current_density=False,change_reference=False):\n",
    "        self.df = pd.read_csv(metadata.filename,header=5,skipfooter=1,engine=\"python\")\n",
    "        self.total_cycles=len(self.df. columns) // 2\n",
    "        self.all_cycles_list= [i for i in range(1,self.total_cycles+1)]\n",
    "        self.solvent = metadata.solvent if metadata.solvent is not None else \"MeCN\"\n",
    "        self.cycles= cycles if cycles is not None else self.all_cycles_list\n",
    "        self.concentration = metadata.concentration if  metadata.concentration is not None else \"0.1 M\"\n",
    "        self.conducting_salt =  metadata.conducting_salt if metadata.conducting_salt is not None else \" KOH\"\n",
    "        self.substrate= metadata.substrate if metadata.substrate is not None else \"Au\"\n",
    "        self.scan_rate= metadata.scan_rate if metadata.scan_rate is not None else \"20 mV/s\"\n",
    "        self.reference = metadata.reference if metadata.reference is not None else \"Ag/AgCl\"\n",
    "        self.name= metadata.name if metadata.name is not None else \"\" \n",
    "        self.E = [\"E\" for i in range(self.total_cycles)]\n",
    "        self.I = [\"I\" for i in range(self.total_cycles)]\n",
    "        self.df.columns = [name for pair in zip(self.E, self.I) for name in pair]\n",
    "        self.num_cycles = int(self.df.shape[1] / 2)\n",
    "        self.cycle_df = np.array_split(self.df, self.num_cycles, axis=1)\n",
    "        self.cycles = [cycle -1 for cycle in self.cycles]\n",
    "        if change_reference:\n",
    "            delta_E=float(input(\"Enter the reference differnce: \"))\n",
    "            self.reference= input(\"Enter the reference name: \")\n",
    "            for df in self.cycle_df:\n",
    "                df['E'] = df['E'] + delta_E\n",
    "        self.xlabel= f\"$E$ vs. {self.reference}  (V)\"\n",
    "        self.ylabel= r\"$I$  ($\\mathrm{\\mu}$A)\" ### \\textmu if latex rendering\n",
    "        if current_density:\n",
    "            A=float(input(\"Enter the WE area:\"))\n",
    "            J_unit= input(\"Enter the unit of your current density (Use $ symbols for exponent eg. A/cm$^2$ ): \")\n",
    "            self.df[\"I\"] = self.df[\"I\"] / A\n",
    "            self.ylabel= f\"$J$  ({J_unit}) \"\n",
    "            for df in self.cycle_df:\n",
    "                df['I'] = df['I'] / A\n",
    "    def plot(self,xy=None,save=False,label=False):\n",
    "        xy= xy if xy is not None else (0.75,.02)\n",
    "        #fig, ax=plt.subplots()\n",
    "        xlabel=self.xlabel\n",
    "        ylabel=self.ylabel\n",
    "        def interactive(xlabel=xlabel, ylabel=ylabel,savename=\"CV_plot.pdf\",text_xcoord=0.8,text_ycoord=0.05,annotate_text=widgets.Textarea(value=f\"{self.concentration} {self.conducting_salt}/{self.substrate} \\n$v$ = {self.scan_rate}\"),save=False,annotate=True,legend=True,arrow=True,y_arrow_position=(self.cycle_df[0]['I'].min(),self.cycle_df[0]['I'].max()),arrow_end=15):\n",
    "            fig, ax = plt.subplots()\n",
    "            for i in self.cycles: \n",
    "                ax.plot(self.cycle_df[i][\"E\"],self.cycle_df[i][\"I\"],label=\"Cycle: {}\".format(i+1))\n",
    "                ax.set_xlabel(xlabel)\n",
    "                ax.set_ylabel(ylabel)\n",
    "            if legend:\n",
    "                ax.legend(loc=\"best\",frameon=False)\n",
    "            if save:\n",
    "                fig.savefig(\"plots/\" + savename)\n",
    "            if annotate:\n",
    "                ax.annotate(annotate_text, xy=(text_xcoord,text_ycoord), xycoords=\"axes fraction\")\n",
    "                #ax.text(xcoord, ycoord, annotate_text, ha='left', va='bottom', transform=ax.transAxes)\n",
    "            if arrow:\n",
    "                ax.arrow(self.cycle_df[0]['E'][0],y_arrow_position, dx=self.cycle_df[0]['E'][arrow_end]-self.cycle_df[0]['E'][0], dy=0, head_width=(self.cycle_df[0]['I'].max()-self.cycle_df[0]['I'].min())/25, head_length=(self.cycle_df[0]['E'].max()-self.cycle_df[0]['E'].min())/14, fc='black', ec='black')\n",
    "        widgets.interact(interactive,text_xcoord=(0,1.2,0.05),text_ycoord=(0,1.2,0.05),arrow_end=(1,100,1))\n",
    "    def peaks(self,range=None):\n",
    "        x_max = self.cycle_df[0]['E'].max()\n",
    "        x_min = self.cycle_df[0]['E'].min()\n",
    "        xlabel=self.xlabel\n",
    "        ylabel=self.ylabel\n",
    "        #df=pd.DataFrame()\n",
    "        range= range if range is not None else (x_min,x_max)  \n",
    "        def interactive(E_Min=x_min,E_Max=x_max,vertex_line=False, E_hwp_average=False): \n",
    "            E_min=[]\n",
    "            E_max=[]\n",
    "            E_hwp=[]\n",
    "            E_hwp_mean=[]\n",
    "            Cycles=[]\n",
    "            I_max=[]\n",
    "            I_min=[]\n",
    "            I_vertex_list=[]\n",
    "            for i in self.cycles:\n",
    "                fig, ax=plt.subplots()\n",
    "                ax.set_xlabel(xlabel)\n",
    "                ax.set_ylabel(ylabel)\n",
    "                ax.plot(self.cycle_df[i][\"E\"],self.cycle_df[i][\"I\"],label=\"Cycle: {}\".format(i+1))\n",
    "                Cycles.append(\"Cycle: {}\".format(i+1))\n",
    "                indices = np.where((self.cycle_df[i][\"E\"] >= E_Min) & (self.cycle_df[i][\"E\"] <= E_Max))[0]\n",
    "                max_index = indices[np.argmax(self.cycle_df[i][\"I\"][indices])]\n",
    "                pot_at_max = self.cycle_df[i][\"E\"][max_index]\n",
    "                current_at_max = self.cycle_df[i][\"I\"][max_index]\n",
    "                min_index = indices[np.argmin(self.cycle_df[i][\"I\"][indices])]\n",
    "                pot_at_min = self.cycle_df[i][\"E\"][min_index]\n",
    "                current_at_min = self.cycle_df[i][\"I\"][min_index]\n",
    "                max_E= np.argmax(self.cycle_df[i][\"E\"])\n",
    "                min_E= np.argmin(self.cycle_df[i][\"E\"])\n",
    "                I_at_max_E=self.cycle_df[i][\"I\"][max_E]\n",
    "                I_at_min_E=self.cycle_df[i][\"I\"][min_E]\n",
    "                I_start=self.cycle_df[i][\"I\"][0]\n",
    "                ax.axvline(x=(pot_at_max+pot_at_min)/2 , color='red', linestyle='--',linewidth=2)\n",
    "                ax.axvline(x=pot_at_min , color='darkgreen', linestyle=':',linewidth=2)\n",
    "                ax.axvline(x=pot_at_max , color='orange', linestyle=':')\n",
    "                ax.legend(frameon=False)\n",
    "                if self.cycle_df[0][\"E\"][0]< self.cycle_df[0][\"E\"][10]:\n",
    "                #I_vertex=I_at_max_E-I_start\n",
    "                    I_vertex=I_at_max_E\n",
    "                else:\n",
    "                #I_vertex=I_at_min_E-I_start\n",
    "                    I_vertex=I_at_min_E\n",
    "                E_max.append(pot_at_max)\n",
    "                E_min.append(pot_at_min)\n",
    "                E_hwp.append((pot_at_max+pot_at_min)/2 )\n",
    "                average_hwp = np.average(E_hwp)\n",
    "                I_min.append(current_at_min)\n",
    "                I_max.append(current_at_max)\n",
    "                I_vertex_list.append(I_vertex)\n",
    "                if vertex_line:\n",
    "                    ax.axhline(y=I_vertex , color='black', linestyle='-')\n",
    "            if E_hwp_average:\n",
    "                print(average_hwp)\n",
    "            self.df_peaks = pd.DataFrame(list(zip(Cycles,E_min,I_min,E_max,I_max,E_hwp,I_vertex_list)), columns=[\"Cycles\",'E_at_min',\"I min\",'E_at_max',\"I max\",\"E1/2\",\"I_vertex\"])  \n",
    "\n",
    "            return self.df_peaks  \n",
    "        widgets.interact(interactive,E_Min=(x_min,x_max),E_Max=(x_min,x_max))\n",
    "        \n",
    "        return self.df_peaks\n",
    "    def integration(self):\n",
    "        x_max = self.cycle_df[0]['E'].max()\n",
    "        x_min = self.cycle_df[0]['E'].min()\n",
    "        xlabel=self.xlabel\n",
    "        ylabel=self.ylabel\n",
    "        def interactive(E_min=(x_min-0.1,x_max,0.01),E_max=(x_min,x_max,0.01),E_min_back=(x_min-0.1,x_max,0.01),E_max_back=(x_min,x_max,0.01),savename=\"integration_plot.pdf\",save=False):\n",
    "            Cycles=[]\n",
    "            Integral_forward=[]\n",
    "            Integral_backward=[]\n",
    "            for i in self.cycles:\n",
    "                    Cycles.append(\"Cycle: {}\".format(i+1)) \n",
    "                    fig,ax=plt.subplots()\n",
    "                    df=self.cycle_df[i]\n",
    "                    half= len(df)//2\n",
    "                    forward_cycle=df.iloc[:half,:]\n",
    "                    backward_cycle=df.iloc[half:,:]\n",
    "                    forward_cycle_peak = forward_cycle[(forward_cycle['E'] >= E_min) & (forward_cycle['E'] <= E_max)]\n",
    "                    #new regression\n",
    "                    start_value = forward_cycle_peak.iloc[0]['E']\n",
    "                    end_value = forward_cycle_peak.iloc[-1]['E']\n",
    "                    forward_slope = (forward_cycle_peak.iloc[-1]['I'] - forward_cycle_peak.iloc[0]['I']) / (end_value - start_value)\n",
    "                    intercept = forward_cycle_peak.iloc[0]['I'] - forward_slope * start_value\n",
    "                    def line_func(x):\n",
    "                        return forward_slope * x + intercept\n",
    "                    y_pred3 = line_func(forward_cycle_peak['E'].values)\n",
    "                    area_forward = trapz(forward_cycle_peak['I'] - y_pred3.flatten(), forward_cycle_peak['E'])\n",
    "                    ax.plot(forward_cycle_peak['E'], y_pred3.flatten(),color=\"black\", linestyle='--')\n",
    "                    #ax.fill_between(forward_cycle_peak['E'], forward_cycle_peak['I'], y_pred3.flatten(), where=(forward_cycle_peak['I'] > y_pred3.flatten()), alpha=0.3)\n",
    "                    ax.fill_between(forward_cycle_peak['E'], forward_cycle_peak['I'], y_pred3.flatten(), alpha=0.3)\n",
    "                    backward_cycle_peak = backward_cycle[(backward_cycle['E'] >= E_min_back) & (backward_cycle['E'] <= E_max_back)]\n",
    "                    start_value_back = backward_cycle_peak.iloc[0]['E']\n",
    "                    end_value_back = backward_cycle_peak.iloc[-1]['E']\n",
    "                    backward_slope = (backward_cycle_peak.iloc[-1]['I'] - backward_cycle_peak.iloc[0]['I']) / (end_value_back - start_value_back)\n",
    "                    intercept_back = backward_cycle_peak.iloc[0]['I'] - backward_slope * start_value_back\n",
    "                    def line_func_back(x):\n",
    "                        return backward_slope * x + intercept_back\n",
    "                    y_pred2 = line_func_back(backward_cycle_peak['E'].values)\n",
    "                    area_backward = trapz(backward_cycle_peak['I'] - y_pred2.flatten(), backward_cycle_peak['E'])\n",
    "                    ax.plot(backward_cycle_peak['E'], y_pred2.flatten(), color='black', linestyle='--')\n",
    "                    ax.fill_between(backward_cycle_peak['E'], backward_cycle_peak['I'], y_pred2.flatten(), where=(backward_cycle_peak['I'] > y_pred2.flatten()), alpha=0.3)\n",
    "                    backward_cycle_peak = backward_cycle[(backward_cycle['E'] >= E_min_back) & (backward_cycle['E'] <= E_max_back)]\n",
    "                    start_value_back = backward_cycle_peak.iloc[0]['E']\n",
    "                    end_value_back = backward_cycle_peak.iloc[-1]['E']\n",
    "                    backward_slope = (backward_cycle_peak.iloc[-1]['I'] - backward_cycle_peak.iloc[0]['I']) / (end_value_back - start_value_back)\n",
    "                    intercept_back = backward_cycle_peak.iloc[0]['I'] - backward_slope * start_value_back\n",
    "\n",
    "                    ax.fill_between(backward_cycle_peak['E'], backward_cycle_peak['I'], y_pred2.flatten(), alpha=0.3)# where=(backward_cycle_peak['I'] < y_pred2.flatten())\n",
    "   \n",
    "                    Integral_forward.append(area_forward)\n",
    "                    Integral_backward.append(area_backward)\n",
    "\n",
    "                    ax.plot(df[\"E\"],df[\"I\"],label=\"Cycle: {}\".format(i+1))\n",
    "                    ax.set_xlabel(xlabel)\n",
    "                    ax.set_ylabel(ylabel)\n",
    "                    ax.legend(frameon=False)\n",
    "                    if save:\n",
    "                        fig.savefig(\"plots/\" +\"Cycle{}_\".format(i+1)+savename)\n",
    "                    #ax.set_title(\"Cycle: {}\".format(i+1))\n",
    "                    df= pd.DataFrame(zip(Cycles,Integral_forward,Integral_backward), columns=[\"Cycles\",\"Integration Area forward\",\"Integration Area backward\"])\n",
    "                    #self.interactive_dataframe = dataframe\n",
    "            return df\n",
    "\n",
    "        widgets.interact(interactive)\n",
    "        #return dataframe_integration\n",
    "\n",
    "cv=CyclicVoltammetry(cv_sample)\n",
    "#cv.plot()\n",
    "test=cv.peaks()\n",
    "#cv.peaks((-1,-0.5))\n",
    "#cv.integration()\n",
    "#print(test)"
   ]
  },
  {
   "cell_type": "code",
   "execution_count": 16,
   "metadata": {},
   "outputs": [
    {
     "name": "stdout",
     "output_type": "stream",
     "text": [
      "     Cycles  E_at_min     I min  E_at_max    I max      E1/2  I_vertex\n",
      "0  Cycle: 1 -0.859417 -10.90030 -0.159805  6.77707 -0.509611  -9.09213\n",
      "1  Cycle: 2 -0.859417  -8.52469 -0.159805  7.41890 -0.509611  -6.97401\n"
     ]
    }
   ],
   "source": [
    "print(test)"
   ]
  },
  {
   "cell_type": "code",
   "execution_count": 7,
   "metadata": {},
   "outputs": [
    {
     "data": {
      "application/vnd.jupyter.widget-view+json": {
       "model_id": "10385df2c4304a11997c38ac883e4204",
       "version_major": 2,
       "version_minor": 0
      },
      "text/plain": [
       "interactive(children=(Text(value='Title', description='z'), Text(value='y label', description='y_label'), Outp…"
      ]
     },
     "metadata": {},
     "output_type": "display_data"
    },
    {
     "data": {
      "text/plain": [
       "<function __main__.update_plot(z='Title', y_label='y label')>"
      ]
     },
     "execution_count": 7,
     "metadata": {},
     "output_type": "execute_result"
    }
   ],
   "source": [
    "import ipywidgets as widgets\n",
    "#from IPython.display import display\n",
    "\n",
    "x = [0, 1]\n",
    "y = [1, 3]\n",
    "#fig, ax= plt.subplots()\n",
    "def update_plot(z=\"Title\",y_label=\"y label\"):\n",
    "    plt.title(z)\n",
    "    plt.ylabel(y_label)\n",
    "    plt.plot(x, y)\n",
    "\n",
    "widgets.interact(update_plot)\n",
    "\n",
    "#plt.plot(x, y)\n",
    "#plt.show()"
   ]
  },
  {
   "cell_type": "code",
   "execution_count": null,
   "metadata": {},
   "outputs": [],
   "source": [
    "\n"
   ]
  },
  {
   "cell_type": "code",
   "execution_count": 94,
   "metadata": {},
   "outputs": [
    {
     "data": {
      "text/plain": [
       "'Ag/AgCl'"
      ]
     },
     "execution_count": 94,
     "metadata": {},
     "output_type": "execute_result"
    }
   ],
   "source": [
    "e_chem.experiments[1].electrode_setup.RE"
   ]
  },
  {
   "cell_type": "code",
   "execution_count": 8,
   "metadata": {},
   "outputs": [
    {
     "data": {
      "application/vnd.jupyter.widget-view+json": {
       "model_id": "70234e8b0854455db4642db2edad5fbe",
       "version_major": 2,
       "version_minor": 0
      },
      "text/plain": [
       "interactive(children=(Text(value='$t$ (s)', description='xlabel'), Text(value='$E$ vs. Hg/HgO (V)', descriptio…"
      ]
     },
     "metadata": {},
     "output_type": "display_data"
    },
    {
     "data": {
      "image/png": "[encoded data removed]",
      "text/plain": [
       "<Figure size 640x480 with 1 Axes>"
      ]
     },
     "metadata": {},
     "output_type": "display_data"
    },
    {
     "data": {
      "text/html": [
       "<div>\n",
       "<style scoped>\n",
       "    .dataframe tbody tr th:only-of-type {\n",
       "        vertical-align: middle;\n",
       "    }\n",
       "\n",
       "    .dataframe tbody tr th {\n",
       "        vertical-align: top;\n",
       "    }\n",
       "\n",
       "    .dataframe thead th {\n",
       "        text-align: right;\n",
       "    }\n",
       "</style>\n",
       "<table border=\"1\" class=\"dataframe\">\n",
       "  <thead>\n",
       "    <tr style=\"text-align: right;\">\n",
       "      <th></th>\n",
       "      <th>Name</th>\n",
       "      <th>Average (last 50 point)</th>\n",
       "    </tr>\n",
       "  </thead>\n",
       "  <tbody>\n",
       "    <tr>\n",
       "      <th>0</th>\n",
       "      <td>Cu12</td>\n",
       "      <td>-1.60056</td>\n",
       "    </tr>\n",
       "    <tr>\n",
       "      <th>1</th>\n",
       "      <td>Cu14</td>\n",
       "      <td>-1.81256</td>\n",
       "    </tr>\n",
       "  </tbody>\n",
       "</table>\n",
       "</div>"
      ],
      "text/plain": [
       "   Name  Average (last 50 point)\n",
       "0  Cu12                 -1.60056\n",
       "1  Cu14                 -1.81256"
      ]
     },
     "execution_count": 8,
     "metadata": {},
     "output_type": "execute_result"
    }
   ],
   "source": [
    "\n",
    "class ChronoPotentiometry:\n",
    "    def __init__(self,e_chem,experiment_list,change_reference=False):\n",
    "        self.reference = e_chem.experiments[experiment_list[0]].electrode_setup.reference_electrode\n",
    "        self.e_chem = e_chem\n",
    "        self.experiment_list=experiment_list\n",
    "        self.df_liste=[]\n",
    "        for experiment in range(0,len(e_chem.experiments)):\n",
    "            if e_chem.experiments[experiment].type==\"CP\":\n",
    "                df = pd.read_csv(e_chem.experiments[experiment].filename, sep=\"\\t\", header=56, skiprows=[57], usecols=[2,3,4,5],names=[\"t\",\"E\",\"I\",\"V\"])\n",
    "                self.df_liste.append(df)\n",
    "            else:\n",
    "                pass\n",
    "        if change_reference:\n",
    "            self.delta_E=float(input(\"Enter the reference differnce: \"))\n",
    "            self.reference= input(\"Enter the reference name: \")\n",
    "            for df in self.df_liste:\n",
    "                df['E'] = df['E'] + self.delta_E\n",
    "        else:\n",
    "            pass\n",
    "    def quick_plot(self):\n",
    "        for experiment in self.experiment_list:\n",
    "            f, (ax,ax2,ax3) = plt.subplots(3,1)\n",
    "            f.suptitle(e_chem.experiments[experiment].name)\n",
    "            ax.plot(self.df_liste[experiment][\"t\"], self.df_liste[experiment][\"E\"])\n",
    "            ax2.plot(self.df_liste[experiment][\"t\"], self.df_liste[experiment][\"I\"])\n",
    "            ax3.plot(self.df_liste[experiment][\"t\"], self.df_liste[experiment][\"V\"])\n",
    "            ax.set_ylabel(\"$E$ vs Ref (V)\")\n",
    "            ax2.set_ylabel(\"$I$ (A)\")\n",
    "            ax3.set_ylabel(\"$V$ (V)\")\n",
    "            ax3.set_xlabel(\"$t$ (s)\")\n",
    "            ax.get_xaxis().set_visible(False)\n",
    "            ax2.get_xaxis().set_visible(False)\n",
    "            \n",
    "    def plot(self):\n",
    "        xlabel=\"$t$ (s)\"\n",
    "        ylabel=f\"$E$ vs. {self.reference} (V)\"\n",
    "        def update_plot(xlabel=xlabel, ylabel=ylabel,savename=\"CP_plot.pdf\",xcoord=(0,1.2,0.05),ycoord=(0,1.2,0.05),annotate_text=widgets.Textarea(value=f\"{e_chem.experiments[self.experiment_list[0]].electrolyte.conducting_salt_concentration} {e_chem.experiments[self.experiment_list[0]].electrolyte.conducting_salt_concentration_unit} {e_chem.experiments[self.experiment_list[0]].electrolyte.conducting_salt} {e_chem.experiments[self.experiment_list[0]].electrolyte.solvent} \\n\"),save=False,annotate=True,legend=True):\n",
    "            fig, ax = plt.subplots() #e_chem.experiments[self.experiment_list[0]].electrolyte.solvent\n",
    "            for experiment in self.experiment_list: #annotate_text=widgets.Textarea(value=f\"{self.concentration} {self.conducting_salt}/{self.substrate} \\n$v$ = {self.scan_rate}\")\n",
    "                ax.plot(self.df_liste[experiment][\"t\"], self.df_liste[experiment][\"E\"],label=e_chem.experiments[experiment].name)\n",
    "\n",
    "            ax.set_xlabel(xlabel)\n",
    "            ax.set_ylabel(ylabel)\n",
    "            if legend:\n",
    "                ax.legend(loc=\"best\",frameon=False)\n",
    "            if save:\n",
    "                fig.savefig(\"plots/\" + savename)\n",
    "            if annotate:\n",
    "                #ax.annotate((e_chem.solvent),xy=(1.,1),xycoords=\"axes fraction\")\n",
    "                ax.annotate(annotate_text,xy=(xcoord,ycoord),xycoords=\"axes fraction\")\n",
    "        widgets.interact(update_plot)\n",
    "    def end_value_fit(self,save=False):\n",
    "        def exponential_fit(x, a, b, c):\n",
    "            return a * np.exp(-b/2 * x) + c\n",
    "        fig,ax =plt.subplots()\n",
    "        names=[]\n",
    "        end_values=[]\n",
    "        for experiment in self.experiment_list:\n",
    "            t_fit = np.linspace(0, self.df_liste[experiment].shape[0], self.df_liste[experiment].shape[0])\n",
    "            popt, pcov = curve_fit(exponential_fit,self.df_liste[experiment][\"t\"], self.df_liste[experiment][\"E\"])\n",
    "            c=popt[2]\n",
    "            names.append(e_chem.experiments[experiment].name)\n",
    "            end_values.append(c)\n",
    "            ax.plot(self.df_liste[experiment][\"t\"], self.df_liste[experiment][\"E\"],label=e_chem.experiments[experiment].name)\n",
    "            ax.plot(t_fit, exponential_fit(t_fit, *popt),linewidth=3,linestyle='dotted', label=\"{} fit\".format(e_chem.experiments[experiment].name))\n",
    "            ax.legend(loc=\"best\",frameon=False)\n",
    "            df = pd.DataFrame(list(zip(names,end_values)), columns=[\"Name\",\"End value\"])   \n",
    "        return  df   \n",
    "    def end_value(self,save=False):\n",
    "        fig,ax =plt.subplots()\n",
    "        names=[]\n",
    "        end_values=[] \n",
    "        for experiment in self.experiment_list:\n",
    "            last_values = self.df_liste[experiment].tail(100)[\"E\"].values[0]\n",
    "            average = last_values.mean()\n",
    "            ax.plot(self.df_liste[experiment][\"t\"], self.df_liste[experiment][\"E\"],label=e_chem.experiments[experiment].name)\n",
    "            ax.plot(self.df_liste[experiment][\"t\"], [average] * len(self.df_liste[experiment][\"t\"]), linewidth=3,linestyle='dotted', label=\"{} average\".format(e_chem.experiments[experiment].name))\n",
    "            ax.legend(loc=\"best\",frameon=False)\n",
    "            names.append(e_chem.experiments[experiment].name)\n",
    "            end_values.append(average) \n",
    "            df = pd.DataFrame(list(zip(names,end_values)), columns=[\"Name\",\"Average (last 50 point)\"]) \n",
    "        plt.show() \n",
    "        if save:\n",
    "            plotname=input(\"Enter the name of the plot: \")\n",
    "            fig.savefig(plotname,bbox_inches='tight')  \n",
    "        return  df\n",
    "\n",
    "\n",
    "\n",
    "test=ChronoPotentiometry(e_chem,[0,1],change_reference=False)\n",
    "test.plot()\n",
    "#test.quick_plot()\n",
    "test.end_value()\n",
    "#test.end_value_fit()"
   ]
  },
  {
   "cell_type": "code",
   "execution_count": 8,
   "metadata": {},
   "outputs": [
    {
     "data": {
      "application/vnd.jupyter.widget-view+json": {
       "model_id": "2715688a0ee444a0a1c99c33d61f99f3",
       "version_major": 2,
       "version_minor": 0
      },
      "text/plain": [
       "Dropdown(options=(1, 2, 3, 4, 5, 6, 7, 8, 9, 10), value=1)"
      ]
     },
     "metadata": {},
     "output_type": "display_data"
    },
    {
     "data": {
      "application/vnd.jupyter.widget-view+json": {
       "model_id": "1f85d9ab69cb4e37b983e2820d02eb04",
       "version_major": 2,
       "version_minor": 0
      },
      "text/plain": [
       "Button(description='Auswahl bestätigen', style=ButtonStyle())"
      ]
     },
     "metadata": {},
     "output_type": "display_data"
    },
    {
     "data": {
      "application/vnd.jupyter.widget-view+json": {
       "model_id": "0fcf6019084047fe8300237704cd7089",
       "version_major": 2,
       "version_minor": 0
      },
      "text/plain": [
       "Output()"
      ]
     },
     "metadata": {},
     "output_type": "display_data"
    }
   ],
   "source": [
    "import ipywidgets as widgets\n",
    "from IPython.display import display\n",
    "\n",
    "# Erstellen Sie ein Dropdown-Menü mit Zahlen von 1 bis 10\n",
    "dropdown = widgets.Dropdown(options=list(range(1, 11)))\n",
    "\n",
    "# Erstellen Sie einen Button zum Bestätigen der Auswahl\n",
    "button = widgets.Button(description=\"Auswahl bestätigen\")\n",
    "\n",
    "# Erstellen Sie eine Ausgabefläche zum Anzeigen der ausgewählten Zahl\n",
    "output = widgets.Output()\n",
    "\n",
    "# Deklarieren Sie die Variable im globalen Gültigkeitsbereich\n",
    "selected_number = None\n",
    "\n",
    "# Funktion, die aufgerufen wird, wenn der Button geklickt wird\n",
    "def on_button_clicked(b):\n",
    "    global selected_number\n",
    "    with output:\n",
    "        # Speichern Sie die ausgewählte Zahl in der globalen Variable\n",
    "        selected_number = dropdown.value\n",
    "        print(\"Ausgewählte Zahl:\", selected_number)\n",
    "button.on_click(on_button_clicked)\n",
    "\n",
    "# Zeigen Sie das Dropdown-Menü, den Button und die Ausgabefläche an\n",
    "display(dropdown, button, output)"
   ]
  },
  {
   "cell_type": "code",
   "execution_count": 80,
   "metadata": {},
   "outputs": [
    {
     "name": "stdout",
     "output_type": "stream",
     "text": [
      "1\n"
     ]
    }
   ],
   "source": [
    "print(selected_number)"
   ]
  },
  {
   "cell_type": "code",
   "execution_count": 22,
   "metadata": {},
   "outputs": [
    {
     "data": {
      "application/vnd.jupyter.widget-view+json": {
       "model_id": "0a9d35524a474bd8a0b8daa520f16170",
       "version_major": 2,
       "version_minor": 0
      },
      "text/plain": [
       "interactive(children=(IntSlider(value=1, description='value', max=10, min=1), Output()), _dom_classes=('widget…"
      ]
     },
     "metadata": {},
     "output_type": "display_data"
    },
    {
     "data": {
      "application/vnd.jupyter.widget-view+json": {
       "model_id": "fa949e6844434e989d00fae4e5fa02d3",
       "version_major": 2,
       "version_minor": 0
      },
      "text/plain": [
       "IntSlider(value=1, max=10, min=1)"
      ]
     },
     "metadata": {},
     "output_type": "display_data"
    }
   ],
   "source": [
    "import ipywidgets as widgets\n",
    "from IPython.display import display\n",
    "\n",
    "# Die Funktion, die aufgerufen wird, wenn sich der Wert des Widgets ändert\n",
    "def handle_value_change(value):\n",
    "    global selected_number\n",
    "    selected_number = value\n",
    "    print(\"Ausgewählte Zahl:\", selected_number)\n",
    "\n",
    "# Verwenden Sie das interact()-Funktion, um die Funktion mit einem Widget zu verknüpfen\n",
    "widgets.interact(handle_value_change, value=widgets.IntSlider(min=1, max=10, value=1))\n",
    "\n",
    "# Zeigen Sie das Widget an\n",
    "display(widgets.IntSlider(min=1, max=10, value=1))"
   ]
  },
  {
   "cell_type": "code",
   "execution_count": 24,
   "metadata": {},
   "outputs": [
    {
     "name": "stdout",
     "output_type": "stream",
     "text": [
      "6\n"
     ]
    }
   ],
   "source": [
    "print(selected_number)"
   ]
  },
  {
   "cell_type": "code",
   "execution_count": 5,
   "metadata": {},
   "outputs": [
    {
     "data": {
      "text/plain": [
       "[<matplotlib.lines.Line2D at 0x7f446addcbb0>]"
      ]
     },
     "execution_count": 5,
     "metadata": {},
     "output_type": "execute_result"
    },
    {
     "data": {
      "image/png": "[encoded data removed]",
      "text/plain": [
       "<Figure size 640x480 with 1 Axes>"
      ]
     },
     "metadata": {},
     "output_type": "display_data"
    }
   ],
   "source": [
    "x=[0,1]\n",
    "y=[1,2]\n",
    "plt.plot(x,y)"
   ]
  },
  {
   "cell_type": "code",
   "execution_count": 93,
   "metadata": {},
   "outputs": [
    {
     "data": {
      "application/vnd.jupyter.widget-view+json": {
       "model_id": "832543b914844278957fb7b244ce7661",
       "version_major": 2,
       "version_minor": 0
      },
      "text/plain": [
       "interactive(children=(Dropdown(description='x', options=('SHE', 'RHE', 'Calomel (sat. KCl)', 'Calomel (3.5 M K…"
      ]
     },
     "metadata": {},
     "output_type": "display_data"
    }
   ],
   "source": [
    "import ipywidgets as widgets\n",
    "from IPython.display import display\n",
    "\n",
    "reference_values = {\n",
    "    \"SHE\": 0,\n",
    "    \"RHE\": -0.059,\n",
    "    \"Calomel (sat. KCl)\": 0.241,\n",
    "    \"Calomel (3.5 M KCl)\": 0.250,\n",
    "    \"Calomel (1 M KCl)\": 0.280,\n",
    "    \"Calomel (0.1 M KCl)\": 0.334,\n",
    "    \"Ag/AgCl (sat. KCl)\": 0.199,\n",
    "    \"Ag/AgCl (3.5 M KCl)\": 0.205,\n",
    "    \"Hg/HgO (1 M KOH)\": 0.140,\n",
    "    \"Hg/HgO (0.1 M KOH)\": 0.165,\n",
    "    \"Fc/Fc+\": 0.400\n",
    "}\n",
    "\n",
    "@widgets.interact(x=list(reference_values.keys()), y=list(reference_values.keys()), pH=\"1\", potential=\"0\")\n",
    "def display_widget(x, y, pH, potential):\n",
    "    global result\n",
    "    if x == \"RHE\" or y == \"RHE\":\n",
    "        reference_values[\"RHE\"] = -0.0592 * float(pH)\n",
    "    result = float(potential) + reference_values[y] - reference_values[x]\n",
    "    print(result)\n",
    "    return result\n",
    "\n",
    "test = display_widget\n",
    "\n"
   ]
  },
  {
   "cell_type": "code",
   "execution_count": null,
   "metadata": {},
   "outputs": [],
   "source": [
    "\n",
    "        "
   ]
  },
  {
   "cell_type": "code",
   "execution_count": 7,
   "metadata": {},
   "outputs": [
    {
     "data": {
      "application/vnd.jupyter.widget-view+json": {
       "model_id": "97ce9d6359264045a234d5f39944e34e",
       "version_major": 2,
       "version_minor": 0
      },
      "text/plain": [
       "interactive(children=(Dropdown(description='old_reference', index=6, options=('SHE', 'RHE', 'Calomel (sat. KCl…"
      ]
     },
     "metadata": {},
     "output_type": "display_data"
    },
    {
     "data": {
      "text/plain": [
       "-0.199"
      ]
     },
     "execution_count": 7,
     "metadata": {},
     "output_type": "execute_result"
    }
   ],
   "source": [
    "analysis=Analysis()\n",
    "#analysis.reference_list()\n",
    "analysis.reference_difference()\n"
   ]
  },
  {
   "cell_type": "code",
   "execution_count": 8,
   "metadata": {},
   "outputs": [
    {
     "name": "stdout",
     "output_type": "stream",
     "text": [
      "0.05099999999999999\n"
     ]
    }
   ],
   "source": [
    "print(analysis.reference_difference_value)"
   ]
  },
  {
   "cell_type": "code",
   "execution_count": 14,
   "metadata": {},
   "outputs": [
    {
     "data": {
      "application/vnd.jupyter.widget-view+json": {
       "model_id": "d292bb099fd047b3babf0255fbcde939",
       "version_major": 2,
       "version_minor": 0
      },
      "text/plain": [
       "interactive(children=(Dropdown(description='old_reference', index=6, options=('SHE', 'RHE', 'Calomel (sat. KCl…"
      ]
     },
     "metadata": {},
     "output_type": "display_data"
    }
   ],
   "source": [
    "test=Analysis()\n",
    "new=test.reference_difference()\n",
    "#print(new)"
   ]
  },
  {
   "cell_type": "code",
   "execution_count": 35,
   "metadata": {},
   "outputs": [
    {
     "data": {
      "application/vnd.jupyter.widget-view+json": {
       "model_id": "075d39e271d34b52a79346799f8dd85b",
       "version_major": 2,
       "version_minor": 0
      },
      "text/plain": [
       "interactive(children=(Dropdown(description='old_reference', index=6, options=('SHE', 'RHE', 'Calomel (sat. KCl…"
      ]
     },
     "metadata": {},
     "output_type": "display_data"
    },
    {
     "name": "stdout",
     "output_type": "stream",
     "text": [
      "-0.199\n"
     ]
    }
   ],
   "source": [
    "\n",
    "\n",
    "# Beispielaufruf\n",
    "test = Analysis()\n",
    "new = test.reference_difference()\n",
    "#print(new)"
   ]
  },
  {
   "cell_type": "code",
   "execution_count": 19,
   "metadata": {},
   "outputs": [
    {
     "data": {
      "application/vnd.jupyter.widget-view+json": {
       "model_id": "5ebaac6c92c54054bb532ddbb3aeb37f",
       "version_major": 2,
       "version_minor": 0
      },
      "text/plain": [
       "interactive(children=(Dropdown(description='old_reference', index=6, options=('SHE', 'RHE', 'Calomel (sat. KCl…"
      ]
     },
     "metadata": {},
     "output_type": "display_data"
    }
   ],
   "source": [
    "test = Analysis()\n",
    "new = test.reference_difference()"
   ]
  },
  {
   "cell_type": "code",
   "execution_count": 30,
   "metadata": {},
   "outputs": [],
   "source": [
    "\n",
    "\n",
    "  "
   ]
  },
  {
   "cell_type": "code",
   "execution_count": 2,
   "metadata": {},
   "outputs": [
    {
     "data": {
      "application/vnd.jupyter.widget-view+json": {
       "model_id": "a3e53c06e4404578885e676860112577",
       "version_major": 2,
       "version_minor": 0
      },
      "text/plain": [
       "interactive(children=(Dropdown(description='old_reference', index=6, options=('SHE', 'RHE', 'Calomel (sat. KCl…"
      ]
     },
     "metadata": {},
     "output_type": "display_data"
    }
   ],
   "source": [
    "test=Analysis()\n",
    "holla=test.reference_difference()\n"
   ]
  },
  {
   "cell_type": "code",
   "execution_count": 6,
   "metadata": {},
   "outputs": [
    {
     "data": {
      "text/plain": [
       "0.135"
      ]
     },
     "execution_count": 6,
     "metadata": {},
     "output_type": "execute_result"
    }
   ],
   "source": [
    "test.reference_difference_value"
   ]
  }
 ],
 "metadata": {
  "kernelspec": {
   "display_name": "Python 3 (ipykernel)",
   "language": "python",
   "name": "python3"
  },
  "language_info": {
   "codemirror_mode": {
    "name": "ipython",
    "version": 3
   },
   "file_extension": ".py",
   "mimetype": "text/x-python",
   "name": "python",
   "nbconvert_exporter": "python",
   "pygments_lexer": "ipython3",
   "version": "3.10.6"
  }
 },
 "nbformat": 4,
 "nbformat_minor": 4
}
