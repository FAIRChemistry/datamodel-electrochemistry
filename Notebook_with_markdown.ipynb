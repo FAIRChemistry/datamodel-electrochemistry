{
 "cells": [
  {
   "attachments": {},
   "cell_type": "markdown",
   "metadata": {},
   "source": [
    "# Workflow for e-chemistry \n",
    "Version (25.09.2023) (python version 3.10.12)\n",
    "\n",
    "This workspace is dedicated to e-chemistry, providing analysis tools for CP, CA, and CV. Please note that these tools are specifically designed to work with a particular file format.\n",
    "\n",
    "The CP class is developed and maintained by the Elias Klemm group at the University of Stuttgart. For CA and CV analysis, you can utilize the projects from the Kristina Tschulik group at the University of Bochum and the Biprajit Sarkar group at the University of Stuttgart."
   ]
  },
  {
   "attachments": {},
   "cell_type": "markdown",
   "metadata": {},
   "source": [
    "# Packages for the Analysis tools"
   ]
  },
  {
   "cell_type": "code",
   "execution_count": 5,
   "metadata": {},
   "outputs": [
    {
     "ename": "ImportError",
     "evalue": "Failed to initialize: Bad git executable.\nThe git executable must be specified in one of the following ways:\n    - be included in your $PATH\n    - be set via $GIT_PYTHON_GIT_EXECUTABLE\n    - explicitly set via git.refresh()\n\nAll git commands will error until this is rectified.\n\nThis initial warning can be silenced or aggravated in the future by setting the\n$GIT_PYTHON_REFRESH environment variable. Use one of the following values:\n    - quiet|q|silence|s|none|n|0: for no warning or exception\n    - warn|w|warning|1: for a printed warning\n    - error|e|raise|r|2: for a raised exception\n\nExample:\n    export GIT_PYTHON_REFRESH=quiet\n",
     "output_type": "error",
     "traceback": [
      "\u001b[1;31m---------------------------------------------------------------------------\u001b[0m",
      "\u001b[1;31mImportError\u001b[0m                               Traceback (most recent call last)",
      "File \u001b[1;32mc:\\Users\\dimi1\\AppData\\Local\\Programs\\Python\\Python310\\lib\\site-packages\\git\\__init__.py:89\u001b[0m\n\u001b[0;32m     88\u001b[0m \u001b[39mtry\u001b[39;00m:\n\u001b[1;32m---> 89\u001b[0m     refresh()\n\u001b[0;32m     90\u001b[0m \u001b[39mexcept\u001b[39;00m \u001b[39mException\u001b[39;00m \u001b[39mas\u001b[39;00m _exc:\n",
      "File \u001b[1;32mc:\\Users\\dimi1\\AppData\\Local\\Programs\\Python\\Python310\\lib\\site-packages\\git\\__init__.py:76\u001b[0m, in \u001b[0;36mrefresh\u001b[1;34m(path)\u001b[0m\n\u001b[0;32m     74\u001b[0m GIT_OK \u001b[39m=\u001b[39m \u001b[39mFalse\u001b[39;00m\n\u001b[1;32m---> 76\u001b[0m \u001b[39mif\u001b[39;00m \u001b[39mnot\u001b[39;00m Git\u001b[39m.\u001b[39;49mrefresh(path\u001b[39m=\u001b[39;49mpath):\n\u001b[0;32m     77\u001b[0m     \u001b[39mreturn\u001b[39;00m\n",
      "File \u001b[1;32mc:\\Users\\dimi1\\AppData\\Local\\Programs\\Python\\Python310\\lib\\site-packages\\git\\cmd.py:393\u001b[0m, in \u001b[0;36mGit.refresh\u001b[1;34m(cls, path)\u001b[0m\n\u001b[0;32m    392\u001b[0m     \u001b[39melse\u001b[39;00m:\n\u001b[1;32m--> 393\u001b[0m         \u001b[39mraise\u001b[39;00m \u001b[39mImportError\u001b[39;00m(err)\n\u001b[0;32m    394\u001b[0m \u001b[39melse\u001b[39;00m:\n",
      "\u001b[1;31mImportError\u001b[0m: Bad git executable.\nThe git executable must be specified in one of the following ways:\n    - be included in your $PATH\n    - be set via $GIT_PYTHON_GIT_EXECUTABLE\n    - explicitly set via git.refresh()\n\nAll git commands will error until this is rectified.\n\nThis initial warning can be silenced or aggravated in the future by setting the\n$GIT_PYTHON_REFRESH environment variable. Use one of the following values:\n    - quiet|q|silence|s|none|n|0: for no warning or exception\n    - warn|w|warning|1: for a printed warning\n    - error|e|raise|r|2: for a raised exception\n\nExample:\n    export GIT_PYTHON_REFRESH=quiet\n",
      "\nThe above exception was the direct cause of the following exception:\n",
      "\u001b[1;31mImportError\u001b[0m                               Traceback (most recent call last)",
      "\u001b[1;32mc:\\GitHub\\datamodel-electrochemistry\\Notebook_with_markdown.ipynb Cell 3\u001b[0m line \u001b[0;36m7\n\u001b[0;32m      <a href='vscode-notebook-cell:/c%3A/GitHub/datamodel-electrochemistry/Notebook_with_markdown.ipynb#W2sZmlsZQ%3D%3D?line=4'>5</a>\u001b[0m \u001b[39mimport\u001b[39;00m \u001b[39mcopy\u001b[39;00m\n\u001b[0;32m      <a href='vscode-notebook-cell:/c%3A/GitHub/datamodel-electrochemistry/Notebook_with_markdown.ipynb#W2sZmlsZQ%3D%3D?line=5'>6</a>\u001b[0m \u001b[39mfrom\u001b[39;00m \u001b[39mscipy\u001b[39;00m\u001b[39m.\u001b[39;00m\u001b[39moptimize\u001b[39;00m \u001b[39mimport\u001b[39;00m curve_fit\n\u001b[1;32m----> <a href='vscode-notebook-cell:/c%3A/GitHub/datamodel-electrochemistry/Notebook_with_markdown.ipynb#W2sZmlsZQ%3D%3D?line=6'>7</a>\u001b[0m \u001b[39mfrom\u001b[39;00m \u001b[39msdRDM\u001b[39;00m \u001b[39mimport\u001b[39;00m DataModel\n\u001b[0;32m      <a href='vscode-notebook-cell:/c%3A/GitHub/datamodel-electrochemistry/Notebook_with_markdown.ipynb#W2sZmlsZQ%3D%3D?line=7'>8</a>\u001b[0m \u001b[39mfrom\u001b[39;00m \u001b[39mtabulate\u001b[39;00m \u001b[39mimport\u001b[39;00m tabulate\n\u001b[0;32m      <a href='vscode-notebook-cell:/c%3A/GitHub/datamodel-electrochemistry/Notebook_with_markdown.ipynb#W2sZmlsZQ%3D%3D?line=8'>9</a>\u001b[0m \u001b[39mfrom\u001b[39;00m \u001b[39mscipy\u001b[39;00m\u001b[39m.\u001b[39;00m\u001b[39mintegrate\u001b[39;00m \u001b[39mimport\u001b[39;00m trapz\n",
      "File \u001b[1;32mc:\\github\\software-driven-rdm\\sdRDM\\__init__.py:1\u001b[0m\n\u001b[1;32m----> 1\u001b[0m \u001b[39mfrom\u001b[39;00m \u001b[39m.\u001b[39;00m\u001b[39mbase\u001b[39;00m\u001b[39m.\u001b[39;00m\u001b[39mdatamodel\u001b[39;00m \u001b[39mimport\u001b[39;00m DataModel\n\u001b[0;32m      2\u001b[0m \u001b[39mfrom\u001b[39;00m \u001b[39mpydantic\u001b[39;00m \u001b[39mimport\u001b[39;00m Field, validator\n",
      "File \u001b[1;32mc:\\github\\software-driven-rdm\\sdRDM\\base\\__init__.py:1\u001b[0m\n\u001b[1;32m----> 1\u001b[0m \u001b[39mfrom\u001b[39;00m \u001b[39m.\u001b[39;00m\u001b[39mdatamodel\u001b[39;00m \u001b[39mimport\u001b[39;00m DataModel\n",
      "File \u001b[1;32mc:\\github\\software-driven-rdm\\sdRDM\\base\\datamodel.py:43\u001b[0m\n\u001b[0;32m     41\u001b[0m \u001b[39mfrom\u001b[39;00m \u001b[39msdRDM\u001b[39;00m\u001b[39m.\u001b[39;00m\u001b[39mdatabase\u001b[39;00m\u001b[39m.\u001b[39;00m\u001b[39mutils\u001b[39;00m \u001b[39mimport\u001b[39;00m add_to_database\n\u001b[0;32m     42\u001b[0m \u001b[39mfrom\u001b[39;00m \u001b[39msdRDM\u001b[39;00m\u001b[39m.\u001b[39;00m\u001b[39mtools\u001b[39;00m\u001b[39m.\u001b[39;00m\u001b[39mutils\u001b[39;00m \u001b[39mimport\u001b[39;00m YAMLDumper\n\u001b[1;32m---> 43\u001b[0m \u001b[39mfrom\u001b[39;00m \u001b[39msdRDM\u001b[39;00m\u001b[39m.\u001b[39;00m\u001b[39mtools\u001b[39;00m\u001b[39m.\u001b[39;00m\u001b[39mgitutils\u001b[39;00m \u001b[39mimport\u001b[39;00m (\n\u001b[0;32m     44\u001b[0m     ObjectNode,\n\u001b[0;32m     45\u001b[0m     build_library_from_git_specs,\n\u001b[0;32m     46\u001b[0m     _import_library,\n\u001b[0;32m     47\u001b[0m )\n\u001b[0;32m     50\u001b[0m \u001b[39mclass\u001b[39;00m \u001b[39mDataModel\u001b[39;00m(pydantic\u001b[39m.\u001b[39mBaseModel):\n\u001b[0;32m     51\u001b[0m     \u001b[39mclass\u001b[39;00m \u001b[39mConfig\u001b[39;00m:\n",
      "File \u001b[1;32mc:\\github\\software-driven-rdm\\sdRDM\\tools\\gitutils.py:1\u001b[0m\n\u001b[1;32m----> 1\u001b[0m \u001b[39mimport\u001b[39;00m \u001b[39mgit\u001b[39;00m\n\u001b[0;32m      2\u001b[0m \u001b[39mimport\u001b[39;00m \u001b[39mglob\u001b[39;00m\n\u001b[0;32m      3\u001b[0m \u001b[39mimport\u001b[39;00m \u001b[39mimportlib\u001b[39;00m\n",
      "File \u001b[1;32mc:\\Users\\dimi1\\AppData\\Local\\Programs\\Python\\Python310\\lib\\site-packages\\git\\__init__.py:91\u001b[0m\n\u001b[0;32m     89\u001b[0m     refresh()\n\u001b[0;32m     90\u001b[0m \u001b[39mexcept\u001b[39;00m \u001b[39mException\u001b[39;00m \u001b[39mas\u001b[39;00m _exc:\n\u001b[1;32m---> 91\u001b[0m     \u001b[39mraise\u001b[39;00m \u001b[39mImportError\u001b[39;00m(\u001b[39m\"\u001b[39m\u001b[39mFailed to initialize: \u001b[39m\u001b[39m{0}\u001b[39;00m\u001b[39m\"\u001b[39m\u001b[39m.\u001b[39mformat(_exc)) \u001b[39mfrom\u001b[39;00m \u001b[39m_exc\u001b[39;00m\n\u001b[0;32m     92\u001b[0m \u001b[39m#################\u001b[39;00m\n",
      "\u001b[1;31mImportError\u001b[0m: Failed to initialize: Bad git executable.\nThe git executable must be specified in one of the following ways:\n    - be included in your $PATH\n    - be set via $GIT_PYTHON_GIT_EXECUTABLE\n    - explicitly set via git.refresh()\n\nAll git commands will error until this is rectified.\n\nThis initial warning can be silenced or aggravated in the future by setting the\n$GIT_PYTHON_REFRESH environment variable. Use one of the following values:\n    - quiet|q|silence|s|none|n|0: for no warning or exception\n    - warn|w|warning|1: for a printed warning\n    - error|e|raise|r|2: for a raised exception\n\nExample:\n    export GIT_PYTHON_REFRESH=quiet\n"
     ]
    }
   ],
   "source": [
    "import pandas as pd\n",
    "import numpy as np\n",
    "import matplotlib.pyplot as plt\n",
    "import os\n",
    "import copy\n",
    "from scipy.optimize import curve_fit\n",
    "from sdRDM import DataModel\n",
    "from tabulate import tabulate\n",
    "from scipy.integrate import trapz\n",
    "import ipywidgets as widgets\n",
    "from ipywidgets import interact, interactive, fixed, interact_manual\n",
    "from IPython.display import display\n",
    "import json\n",
    "\n",
    "################################################################\n",
    "#imports the Analysis tools from the subfolder functions. They are in a Py file called Analysis\n",
    "from tools.analysis_tools import ReferenceCalculator,Chronopotentiometry,Chronoamperometry,CyclicVoltammetry,save_data,load_data\n",
    "%load_ext autoreload\n",
    "%autoreload 2"
   ]
  },
  {
   "attachments": {},
   "cell_type": "markdown",
   "metadata": {},
   "source": [
    "# Creation of the subfolders data and plots\n",
    "By exicuting the following cell two subfolder were created called data and plots. In the data folder you can store your measurement data and the plot folder is the folder were your plots get created. The plot folder is neccasary if you want to save your plots."
   ]
  },
  {
   "cell_type": "code",
   "execution_count": null,
   "metadata": {},
   "outputs": [],
   "source": [
    "path_program=os.getcwd()\n",
    "data=\"/data\"\n",
    "plots=\"/plots\"\n",
    "\n",
    "path_data= path_program + data\n",
    "path_plots=path_program+ plots\n",
    "if not os.path.exists(path_data):\n",
    "    os.makedirs(path_data)\n",
    "if not os.path.exists(path_plots):\n",
    "    os.makedirs(path_plots)\n"
   ]
  },
  {
   "attachments": {},
   "cell_type": "markdown",
   "metadata": {},
   "source": [
    "# Datamodel from GitHub\n",
    "The following cell loads the Datamodel from GitHub and stores it in the variable lib. The Datamodel is stored in e_chem."
   ]
  },
  {
   "cell_type": "code",
   "execution_count": 2,
   "metadata": {},
   "outputs": [],
   "source": [
    "\n",
    "lib = DataModel.from_markdown(\"specifications/Electrochemistry.md\")\n",
    "#lib=DataModel.from_git(url=\"https://github.com/FAIRChemistry/datamodel-electrochemistry.git\")\n",
    "# lib = DataModel.from_git(\n",
    "#     \"https://github.com/FAIRChemistry/datamodel-electrochemistry.git\",\n",
    "#     tag=\"develop\"\n",
    "# )\n",
    "e_chem=lib.Dataset()\n",
    "\n"
   ]
  },
  {
   "cell_type": "code",
   "execution_count": 8,
   "metadata": {},
   "outputs": [
    {
     "name": "stderr",
     "output_type": "stream",
     "text": [
      "/mnt/c/Github/software-driven-rdm/sdRDM/base/datamodel.py:253: UserWarning: No 'URL' and 'Commit' specified. This model might not be re-usable.\n",
      "  warnings.warn(\n"
     ]
    }
   ],
   "source": [
    "save_data(e_chem)"
   ]
  },
  {
   "cell_type": "code",
   "execution_count": 4,
   "metadata": {},
   "outputs": [
    {
     "name": "stdout",
     "output_type": "stream",
     "text": [
      "id='dataset0' general_information=None experiments=[Experiment(id='experiment0', name='Cu 12 nm', sample=None, filename='data/Cu12nm.DTA', information=None, electrode_setup=ElectrodeSetup(id='electrodesetup4', working_electrode='Au', working_electrode_area=1.0, working_electrode_area_unit='cm^2', counter_electrode='Pt', reference_electrode='Hg/HgO', reference_electrode_salt='KCl', reference_electrode_salt_concentration=1.0, reference_electrode_salt_concentration_unit='M'), electrolyte=Electrolyte(id='electrolyte4', solvent='H$_2$O', conducting_salt='KOH', conducting_salt_concentration=1.0, conducting_salt_concentration_unit='M', pH=10.0), purging=None, analysis=Analysis(id='analysis4', cp=CP(id='cp0', measurement_potential_unit='V', measurement_time_unit='s', induced_current=[200.0], induced_current_unit='mA', time_duration=None, time_duration_unit=None, potential_end_value=[], charge_density=[], change_potential=[]), ca=None, cv=None), type='CP', date_of_work=None), Experiment(id='experiment1', name='Cu 14 nm', sample=None, filename='data/Cu14nm.DTA', information=None, electrode_setup=ElectrodeSetup(id='electrodesetup5', working_electrode='Au', working_electrode_area=1.0, working_electrode_area_unit='cm^2', counter_electrode='Pt', reference_electrode='Ag/AgCl', reference_electrode_salt='KCl', reference_electrode_salt_concentration=1.0, reference_electrode_salt_concentration_unit='M'), electrolyte=Electrolyte(id='electrolyte5', solvent='MeCN', conducting_salt='KOH', conducting_salt_concentration=1.0, conducting_salt_concentration_unit='M', pH=10.0), purging=None, analysis=Analysis(id='analysis5', cp=CP(id='cp1', measurement_potential_unit='V', measurement_time_unit='s', induced_current=[200.0], induced_current_unit='mA', time_duration=None, time_duration_unit=None, potential_end_value=[], charge_density=[], change_potential=[]), ca=None, cv=None), type='CP', date_of_work=None), Experiment(id='experiment2', name='CME', sample=None, filename='data/CA_paper1.dat', information=None, electrode_setup=ElectrodeSetup(id='electrodesetup6', working_electrode='carbon', working_electrode_area=1.0, working_electrode_area_unit='µm^2', counter_electrode='Pt', reference_electrode='Hg/HgO', reference_electrode_salt='KCl', reference_electrode_salt_concentration=1.0, reference_electrode_salt_concentration_unit='M'), electrolyte=Electrolyte(id='electrolyte6', solvent='H$_2$O', conducting_salt='KOH', conducting_salt_concentration=1.0, conducting_salt_concentration_unit='M', pH=10.0), purging=None, analysis=Analysis(id='analysis6', cp=None, ca=CA(id='ca0', measurement_current_unit='A', measurement_time_unit='s', induced_potential=[20.0], induced_potential_unit='V', time_duration=None, time_duration_unit=None, current_end_value=None), cv=None), type='CA', date_of_work=None), Experiment(id='experiment3', name='CA', sample=None, filename='data/CA_Sarkar.txt', information=None, electrode_setup=ElectrodeSetup(id='electrodesetup7', working_electrode=None, working_electrode_area=1.0, working_electrode_area_unit='cm^2', counter_electrode='Pt', reference_electrode='Ag/AgCl', reference_electrode_salt='KCl', reference_electrode_salt_concentration=1.0, reference_electrode_salt_concentration_unit='M'), electrolyte=Electrolyte(id='electrolyte7', solvent='MeCN', conducting_salt='KOH', conducting_salt_concentration=1.0, conducting_salt_concentration_unit='M', pH=10.0), purging=None, analysis=Analysis(id='analysis7', cp=None, ca=CA(id='ca1', measurement_current_unit='A', measurement_time_unit='s', induced_potential=[20.0], induced_potential_unit='V', time_duration=None, time_duration_unit=None, current_end_value=None), cv=None), type='CA', date_of_work=None), Experiment(id='experiment4', name='CV', sample=None, filename='data/SarkarCV_utf8.csv', information=None, electrode_setup=ElectrodeSetup(id='electrodesetup8', working_electrode='Au', working_electrode_area=2.0, working_electrode_area_unit='cm^2', counter_electrode='Pt', reference_electrode='Ag/AgCl', reference_electrode_salt='KCl', reference_electrode_salt_concentration=1.0, reference_electrode_salt_concentration_unit='M'), electrolyte=Electrolyte(id='electrolyte8', solvent='H$_2$O', conducting_salt='KOH', conducting_salt_concentration=1.0, conducting_salt_concentration_unit='M', pH=10.1), purging=None, analysis=Analysis(id='analysis8', cp=None, ca=None, cv=CV(id='cv4', ferrocene_potential=None, measurement_current_unit='µA', measurement_potential_unit='V', scan_rate=20.0, scan_rate_unit='mV/s', start_potential=None, stop_potential=None, potential_lower_limit=None, potential_upper_limit=None, change_potential=[], cycles=[])), type='CV', date_of_work=None), Experiment(id='experiment5', name='CV', sample=None, filename='data/CV_all2.xlsx', information=None, electrode_setup=ElectrodeSetup(id='electrodesetup9', working_electrode='Au', working_electrode_area=2.0, working_electrode_area_unit='cm^2', counter_electrode='Pt', reference_electrode='Ag/AgCl', reference_electrode_salt='KCl', reference_electrode_salt_concentration=1.0, reference_electrode_salt_concentration_unit='M'), electrolyte=Electrolyte(id='electrolyte9', solvent='MeCN', conducting_salt='[Bu$_4$N][PF$_6$]', conducting_salt_concentration=1.0, conducting_salt_concentration_unit='M', pH=10.0), purging=None, analysis=Analysis(id='analysis9', cp=None, ca=None, cv=CV(id='cv5', ferrocene_potential=None, measurement_current_unit='µA', measurement_potential_unit='V', scan_rate=20.0, scan_rate_unit='mV/s', start_potential=None, stop_potential=None, potential_lower_limit=None, potential_upper_limit=None, change_potential=[], cycles=[])), type='CV', date_of_work=None), Experiment(id='experiment6', name='CV', sample=None, filename='data/CV_all.xlsx', information=None, electrode_setup=ElectrodeSetup(id='electrodesetup10', working_electrode='Au', working_electrode_area=2.0, working_electrode_area_unit='cm^2', counter_electrode='Pt', reference_electrode='Ag/AgCl', reference_electrode_salt='KCl', reference_electrode_salt_concentration=1.0, reference_electrode_salt_concentration_unit='M'), electrolyte=Electrolyte(id='electrolyte10', solvent='H$_2$O', conducting_salt='KOH', conducting_salt_concentration=1.0, conducting_salt_concentration_unit='M', pH=10.0), purging=None, analysis=Analysis(id='analysis10', cp=None, ca=None, cv=CV(id='cv6', ferrocene_potential=None, measurement_current_unit='µA', measurement_potential_unit='V', scan_rate=20.0, scan_rate_unit='mV/s', start_potential=None, stop_potential=None, potential_lower_limit=None, potential_upper_limit=None, change_potential=[], cycles=[])), type='CV', date_of_work=None), Experiment(id='experiment7', name='Re Complex', sample=None, filename='data/Ox_100mVs.csv', information=None, electrode_setup=ElectrodeSetup(id='electrodesetup13', working_electrode='carbon', working_electrode_area=2.0, working_electrode_area_unit='cm^2', counter_electrode='Pt', reference_electrode='Ag/AgCl', reference_electrode_salt='KCl', reference_electrode_salt_concentration=1.0, reference_electrode_salt_concentration_unit='M'), electrolyte=Electrolyte(id='electrolyte13', solvent='MeCN', conducting_salt='NBu$_4$PF$_6$', conducting_salt_concentration=0.1, conducting_salt_concentration_unit='M', pH=None), purging=None, analysis=Analysis(id='analysis13', cp=None, ca=None, cv=CV(id='cv9', ferrocene_potential=None, measurement_current_unit='µA', measurement_potential_unit='V', scan_rate=100.0, scan_rate_unit='mV/s', start_potential=None, stop_potential=None, potential_lower_limit=None, potential_upper_limit=None, change_potential=[ChangePotential(id='changepotential2', change_potential_value=0.4806625, new_reference_scale_name='Fc/Fc+')], cycles=[Cycle(id='cycle9', number=1, scan_rate=100.0, scan_rate_unit='mV/s', current_vertex=None, y_unit_vertex=None, change_reference_potential=None, reference_name=None, potential_vertex=None, peaks_and_half_potential=[], peak_integration=[]), Cycle(id='cycle10', number=2, scan_rate=100.0, scan_rate_unit='mV/s', current_vertex=None, y_unit_vertex=None, change_reference_potential=None, reference_name=None, potential_vertex=None, peaks_and_half_potential=[], peak_integration=[]), Cycle(id='cycle11', number=3, scan_rate=100.0, scan_rate_unit='mV/s', current_vertex=None, y_unit_vertex=None, change_reference_potential=None, reference_name=None, potential_vertex=None, peaks_and_half_potential=[], peak_integration=[])])), type='CV', date_of_work=None), Experiment(id='experiment8', name='Fc', sample=None, filename='data/Ref_Fc_100mVs.csv', information=None, electrode_setup=ElectrodeSetup(id='electrodesetup14', working_electrode='carbon', working_electrode_area=2.0, working_electrode_area_unit='cm^2', counter_electrode='Pt', reference_electrode='Ag/AgCl', reference_electrode_salt='KCl', reference_electrode_salt_concentration=1.0, reference_electrode_salt_concentration_unit='M'), electrolyte=Electrolyte(id='electrolyte14', solvent='MeCN', conducting_salt='NBu$_4$PF$_6$', conducting_salt_concentration=0.1, conducting_salt_concentration_unit='M', pH=None), purging=None, analysis=Analysis(id='analysis14', cp=None, ca=None, cv=CV(id='cv10', ferrocene_potential=None, measurement_current_unit='µA', measurement_potential_unit='V', scan_rate=100.0, scan_rate_unit='mV/s', start_potential=None, stop_potential=None, potential_lower_limit=None, potential_upper_limit=None, change_potential=[], cycles=[Cycle(id='cycle12', number=1, scan_rate=100.0, scan_rate_unit='mV/s', current_vertex=None, y_unit_vertex=None, change_reference_potential=None, reference_name=None, potential_vertex=None, peaks_and_half_potential=[], peak_integration=[]), Cycle(id='cycle13', number=2, scan_rate=100.0, scan_rate_unit='mV/s', current_vertex=None, y_unit_vertex=None, change_reference_potential=None, reference_name=None, potential_vertex=None, peaks_and_half_potential=[], peak_integration=[]), Cycle(id='cycle14', number=3, scan_rate=100.0, scan_rate_unit='mV/s', current_vertex=None, y_unit_vertex=None, change_reference_potential=None, reference_name=None, potential_vertex=None, peaks_and_half_potential=[], peak_integration=[])])), type='CV', date_of_work=None)]\n"
     ]
    },
    {
     "data": {
      "text/plain": [
       "{'id': 'dataset0',\n",
       " 'general_information': None,\n",
       " 'experiments': [Experiment(id='experiment0', name='Cu 12 nm', sample=None, filename='data/Cu12nm.DTA', information=None, electrode_setup=ElectrodeSetup(id='electrodesetup4', working_electrode='Au', working_electrode_area=1.0, working_electrode_area_unit='cm^2', counter_electrode='Pt', reference_electrode='Hg/HgO', reference_electrode_salt='KCl', reference_electrode_salt_concentration=1.0, reference_electrode_salt_concentration_unit='M'), electrolyte=Electrolyte(id='electrolyte4', solvent='H$_2$O', conducting_salt='KOH', conducting_salt_concentration=1.0, conducting_salt_concentration_unit='M', pH=10.0), purging=None, analysis=Analysis(id='analysis4', cp=CP(id='cp0', measurement_potential_unit='V', measurement_time_unit='s', induced_current=[200.0], induced_current_unit='mA', time_duration=None, time_duration_unit=None, potential_end_value=[], charge_density=[], change_potential=[]), ca=None, cv=None), type='CP', date_of_work=None),\n",
       "  Experiment(id='experiment1', name='Cu 14 nm', sample=None, filename='data/Cu14nm.DTA', information=None, electrode_setup=ElectrodeSetup(id='electrodesetup5', working_electrode='Au', working_electrode_area=1.0, working_electrode_area_unit='cm^2', counter_electrode='Pt', reference_electrode='Ag/AgCl', reference_electrode_salt='KCl', reference_electrode_salt_concentration=1.0, reference_electrode_salt_concentration_unit='M'), electrolyte=Electrolyte(id='electrolyte5', solvent='MeCN', conducting_salt='KOH', conducting_salt_concentration=1.0, conducting_salt_concentration_unit='M', pH=10.0), purging=None, analysis=Analysis(id='analysis5', cp=CP(id='cp1', measurement_potential_unit='V', measurement_time_unit='s', induced_current=[200.0], induced_current_unit='mA', time_duration=None, time_duration_unit=None, potential_end_value=[], charge_density=[], change_potential=[]), ca=None, cv=None), type='CP', date_of_work=None),\n",
       "  Experiment(id='experiment2', name='CME', sample=None, filename='data/CA_paper1.dat', information=None, electrode_setup=ElectrodeSetup(id='electrodesetup6', working_electrode='carbon', working_electrode_area=1.0, working_electrode_area_unit='µm^2', counter_electrode='Pt', reference_electrode='Hg/HgO', reference_electrode_salt='KCl', reference_electrode_salt_concentration=1.0, reference_electrode_salt_concentration_unit='M'), electrolyte=Electrolyte(id='electrolyte6', solvent='H$_2$O', conducting_salt='KOH', conducting_salt_concentration=1.0, conducting_salt_concentration_unit='M', pH=10.0), purging=None, analysis=Analysis(id='analysis6', cp=None, ca=CA(id='ca0', measurement_current_unit='A', measurement_time_unit='s', induced_potential=[20.0], induced_potential_unit='V', time_duration=None, time_duration_unit=None, current_end_value=None), cv=None), type='CA', date_of_work=None),\n",
       "  Experiment(id='experiment3', name='CA', sample=None, filename='data/CA_Sarkar.txt', information=None, electrode_setup=ElectrodeSetup(id='electrodesetup7', working_electrode=None, working_electrode_area=1.0, working_electrode_area_unit='cm^2', counter_electrode='Pt', reference_electrode='Ag/AgCl', reference_electrode_salt='KCl', reference_electrode_salt_concentration=1.0, reference_electrode_salt_concentration_unit='M'), electrolyte=Electrolyte(id='electrolyte7', solvent='MeCN', conducting_salt='KOH', conducting_salt_concentration=1.0, conducting_salt_concentration_unit='M', pH=10.0), purging=None, analysis=Analysis(id='analysis7', cp=None, ca=CA(id='ca1', measurement_current_unit='A', measurement_time_unit='s', induced_potential=[20.0], induced_potential_unit='V', time_duration=None, time_duration_unit=None, current_end_value=None), cv=None), type='CA', date_of_work=None),\n",
       "  Experiment(id='experiment4', name='CV', sample=None, filename='data/SarkarCV_utf8.csv', information=None, electrode_setup=ElectrodeSetup(id='electrodesetup8', working_electrode='Au', working_electrode_area=2.0, working_electrode_area_unit='cm^2', counter_electrode='Pt', reference_electrode='Ag/AgCl', reference_electrode_salt='KCl', reference_electrode_salt_concentration=1.0, reference_electrode_salt_concentration_unit='M'), electrolyte=Electrolyte(id='electrolyte8', solvent='H$_2$O', conducting_salt='KOH', conducting_salt_concentration=1.0, conducting_salt_concentration_unit='M', pH=10.1), purging=None, analysis=Analysis(id='analysis8', cp=None, ca=None, cv=CV(id='cv4', ferrocene_potential=None, measurement_current_unit='µA', measurement_potential_unit='V', scan_rate=20.0, scan_rate_unit='mV/s', start_potential=None, stop_potential=None, potential_lower_limit=None, potential_upper_limit=None, change_potential=[], cycles=[])), type='CV', date_of_work=None),\n",
       "  Experiment(id='experiment5', name='CV', sample=None, filename='data/CV_all2.xlsx', information=None, electrode_setup=ElectrodeSetup(id='electrodesetup9', working_electrode='Au', working_electrode_area=2.0, working_electrode_area_unit='cm^2', counter_electrode='Pt', reference_electrode='Ag/AgCl', reference_electrode_salt='KCl', reference_electrode_salt_concentration=1.0, reference_electrode_salt_concentration_unit='M'), electrolyte=Electrolyte(id='electrolyte9', solvent='MeCN', conducting_salt='[Bu$_4$N][PF$_6$]', conducting_salt_concentration=1.0, conducting_salt_concentration_unit='M', pH=10.0), purging=None, analysis=Analysis(id='analysis9', cp=None, ca=None, cv=CV(id='cv5', ferrocene_potential=None, measurement_current_unit='µA', measurement_potential_unit='V', scan_rate=20.0, scan_rate_unit='mV/s', start_potential=None, stop_potential=None, potential_lower_limit=None, potential_upper_limit=None, change_potential=[], cycles=[])), type='CV', date_of_work=None),\n",
       "  Experiment(id='experiment6', name='CV', sample=None, filename='data/CV_all.xlsx', information=None, electrode_setup=ElectrodeSetup(id='electrodesetup10', working_electrode='Au', working_electrode_area=2.0, working_electrode_area_unit='cm^2', counter_electrode='Pt', reference_electrode='Ag/AgCl', reference_electrode_salt='KCl', reference_electrode_salt_concentration=1.0, reference_electrode_salt_concentration_unit='M'), electrolyte=Electrolyte(id='electrolyte10', solvent='H$_2$O', conducting_salt='KOH', conducting_salt_concentration=1.0, conducting_salt_concentration_unit='M', pH=10.0), purging=None, analysis=Analysis(id='analysis10', cp=None, ca=None, cv=CV(id='cv6', ferrocene_potential=None, measurement_current_unit='µA', measurement_potential_unit='V', scan_rate=20.0, scan_rate_unit='mV/s', start_potential=None, stop_potential=None, potential_lower_limit=None, potential_upper_limit=None, change_potential=[], cycles=[])), type='CV', date_of_work=None),\n",
       "  Experiment(id='experiment7', name='Re Complex', sample=None, filename='data/Ox_100mVs.csv', information=None, electrode_setup=ElectrodeSetup(id='electrodesetup13', working_electrode='carbon', working_electrode_area=2.0, working_electrode_area_unit='cm^2', counter_electrode='Pt', reference_electrode='Ag/AgCl', reference_electrode_salt='KCl', reference_electrode_salt_concentration=1.0, reference_electrode_salt_concentration_unit='M'), electrolyte=Electrolyte(id='electrolyte13', solvent='MeCN', conducting_salt='NBu$_4$PF$_6$', conducting_salt_concentration=0.1, conducting_salt_concentration_unit='M', pH=None), purging=None, analysis=Analysis(id='analysis13', cp=None, ca=None, cv=CV(id='cv9', ferrocene_potential=None, measurement_current_unit='µA', measurement_potential_unit='V', scan_rate=100.0, scan_rate_unit='mV/s', start_potential=None, stop_potential=None, potential_lower_limit=None, potential_upper_limit=None, change_potential=[ChangePotential(id='changepotential2', change_potential_value=0.4806625, new_reference_scale_name='Fc/Fc+')], cycles=[Cycle(id='cycle9', number=1, scan_rate=100.0, scan_rate_unit='mV/s', current_vertex=None, y_unit_vertex=None, change_reference_potential=None, reference_name=None, potential_vertex=None, peaks_and_half_potential=[], peak_integration=[]), Cycle(id='cycle10', number=2, scan_rate=100.0, scan_rate_unit='mV/s', current_vertex=None, y_unit_vertex=None, change_reference_potential=None, reference_name=None, potential_vertex=None, peaks_and_half_potential=[], peak_integration=[]), Cycle(id='cycle11', number=3, scan_rate=100.0, scan_rate_unit='mV/s', current_vertex=None, y_unit_vertex=None, change_reference_potential=None, reference_name=None, potential_vertex=None, peaks_and_half_potential=[], peak_integration=[])])), type='CV', date_of_work=None),\n",
       "  Experiment(id='experiment8', name='Fc', sample=None, filename='data/Ref_Fc_100mVs.csv', information=None, electrode_setup=ElectrodeSetup(id='electrodesetup14', working_electrode='carbon', working_electrode_area=2.0, working_electrode_area_unit='cm^2', counter_electrode='Pt', reference_electrode='Ag/AgCl', reference_electrode_salt='KCl', reference_electrode_salt_concentration=1.0, reference_electrode_salt_concentration_unit='M'), electrolyte=Electrolyte(id='electrolyte14', solvent='MeCN', conducting_salt='NBu$_4$PF$_6$', conducting_salt_concentration=0.1, conducting_salt_concentration_unit='M', pH=None), purging=None, analysis=Analysis(id='analysis14', cp=None, ca=None, cv=CV(id='cv10', ferrocene_potential=None, measurement_current_unit='µA', measurement_potential_unit='V', scan_rate=100.0, scan_rate_unit='mV/s', start_potential=None, stop_potential=None, potential_lower_limit=None, potential_upper_limit=None, change_potential=[], cycles=[Cycle(id='cycle12', number=1, scan_rate=100.0, scan_rate_unit='mV/s', current_vertex=None, y_unit_vertex=None, change_reference_potential=None, reference_name=None, potential_vertex=None, peaks_and_half_potential=[], peak_integration=[]), Cycle(id='cycle13', number=2, scan_rate=100.0, scan_rate_unit='mV/s', current_vertex=None, y_unit_vertex=None, change_reference_potential=None, reference_name=None, potential_vertex=None, peaks_and_half_potential=[], peak_integration=[]), Cycle(id='cycle14', number=3, scan_rate=100.0, scan_rate_unit='mV/s', current_vertex=None, y_unit_vertex=None, change_reference_potential=None, reference_name=None, potential_vertex=None, peaks_and_half_potential=[], peak_integration=[])])), type='CV', date_of_work=None)]}"
      ]
     },
     "execution_count": 4,
     "metadata": {},
     "output_type": "execute_result"
    }
   ],
   "source": [
    "\n",
    "e_chem=load_data(e_chem)\n",
    "e_chem.__dict__"
   ]
  },
  {
   "cell_type": "code",
   "execution_count": 7,
   "metadata": {},
   "outputs": [
    {
     "data": {
      "text/plain": [
       "ElectrodeSetup(id='electrodesetup0', working_electrode='carbon', working_electrode_area=7.07, working_electrode_area_unit='mm^2', counter_electrode='Pt', reference_electrode='Ag/AgCl', reference_electrode_salt='KCl', reference_electrode_salt_concentration=None, reference_electrode_salt_concentration_unit=None)"
      ]
     },
     "execution_count": 7,
     "metadata": {},
     "output_type": "execute_result"
    }
   ],
   "source": [
    "e_chem.experiments[7].electrode_setup"
   ]
  },
  {
   "cell_type": "markdown",
   "metadata": {},
   "source": [
    "# Data formats\n",
    "## Chronopotentiometry\n",
    "The Chronopotentiometry class works with the formats: \n",
    "- .DTA \n",
    "## Chronoamperometry \n",
    "The Chronoamperometry class accepts the formats:\n",
    "- .csv (group Tschulik)\n",
    "- .dat (group Tschulik)\n",
    "- .txt (group Sarkar)\n",
    "### Cyclic Voltammetry \n",
    "The CyclicVoltammetry class accepts the formats:\n",
    "- .csv (group Tschulik & Sarkar)\n",
    "- .xlsx (group Sarkar)\n",
    "  \n",
    "Please note that the CSV file needs to be saved in UTF-8 format. To ensure this, open the CSV file in an editor like Excel and save it as a UTF-8 CSV file. This step is necessary to properly handle special characters and encoding. However, this encoding consideration is not required for XLSX files.\n",
    "\n",
    "Unlike CSV files, XLSX files do not require specific encoding considerations. They inherently support a wider range of characters, including special characters, without the need for explicit encoding settings. Additionally, the data parser for XLSX files often works faster due to its utilization of the \"C\" engine."
   ]
  },
  {
   "cell_type": "markdown",
   "metadata": {},
   "source": [
    "# Input in the data model\n",
    "The following shows how to store your data in the datamodel. If you want to see which variable are in an object of the model you can use the `.__dict__` command. \n",
    "For example, if you want to see which object the electrode_setup was executed on use:\n",
    "\n",
    "`lib.ElectrodeSetup().__dict__`"
   ]
  },
  {
   "cell_type": "code",
   "execution_count": 4,
   "metadata": {},
   "outputs": [
    {
     "data": {
      "text/plain": [
       "{'id': 'electrodesetup0',\n",
       " 'working_electrode': None,\n",
       " 'working_electrode_area': None,\n",
       " 'working_electrode_area_unit': None,\n",
       " 'counter_electrode': None,\n",
       " 'reference_electrode': None,\n",
       " 'reference_electrode_salt': None,\n",
       " 'reference_electrode_salt_concentration': None,\n",
       " 'reference_electrode_salt_concentration_unit': None}"
      ]
     },
     "execution_count": 4,
     "metadata": {},
     "output_type": "execute_result"
    }
   ],
   "source": [
    "lib.ElectrodeSetup().__dict__"
   ]
  },
  {
   "cell_type": "code",
   "execution_count": 13,
   "metadata": {},
   "outputs": [
    {
     "data": {
      "text/plain": [
       "{'id': 'dataset0',\n",
       " 'general_information': GeneralInformation(id='generalinformation9', title='Test', information='This is an information.', author=[Author(id='author3', first_name='Max', last_name='Mustermann', affiliation=None, email='mustermann@gmail.com', orcid='0000')], date_of_work='24/07'),\n",
       " 'experiments': []}"
      ]
     },
     "execution_count": 13,
     "metadata": {},
     "output_type": "execute_result"
    }
   ],
   "source": [
    "lib.Dataset().__dict__\n",
    "author1=lib.Author(first_name=\"Max\",last_name=\"Mustermann\",email=\"mustermann@gmail.com\",orcid=\"0000\")\n",
    "e_chem.general_information=lib.GeneralInformation(title=\"Test\",date_of_work=\"24/07\",information=\"This is an information.\",author=[author1])\n",
    "e_chem.__dict__\n"
   ]
  },
  {
   "cell_type": "code",
   "execution_count": 42,
   "metadata": {},
   "outputs": [
    {
     "data": {
      "text/plain": [
       "{'id': 'dataset0', 'general_information': None, 'experiments': []}"
      ]
     },
     "execution_count": 42,
     "metadata": {},
     "output_type": "execute_result"
    }
   ],
   "source": []
  },
  {
   "cell_type": "markdown",
   "metadata": {},
   "source": [
    "If the filename object in lib.Experiments requires the path along with the filename, you should provide the path accordingly. Here are the guidelines:\n",
    "\n",
    "If your experiment files are located in the same directory as your notebook, you can simply use the filename without any path.\n",
    "Example: filename = \"experiment.csv\"\n",
    "\n",
    "If you store your experiment files in a subfolder named \"data\", you should include the path \"data/\" along with the filename.\n",
    "- Example: filename = \"data/experiment.csv\"\n",
    "\n",
    "Make sure to adjust the path and filename according to the actual location of your experiment files"
   ]
  },
  {
   "cell_type": "code",
   "execution_count": 3,
   "metadata": {},
   "outputs": [],
   "source": [
    "\"\"\"The following shows ho to store experiments into the list of experiments\"\"\"\n",
    "experiment0=lib.Experiment(name=\"Cu 12 nm\",filename=\"data/Cu12nm.DTA\",type=\"CP\")\n",
    "experiment1=lib.Experiment(name=\"Cu 14 nm\",filename=\"data/Cu14nm.DTA\",type=\"CP\")\n",
    "experiment2=lib.Experiment(name=\"CME\",filename=\"data/CA_paper1.dat\",type=\"CA\")\n",
    "experiment3=lib.Experiment(name=\"CA\",filename=\"data/CA_Sarkar.txt\",type=\"CA\")\n",
    "experiment4=lib.Experiment(name=\"CV\",filename=\"data/SarkarCV_utf8.csv\",type=\"CV\")\n",
    "experiment5=lib.Experiment(name=\"CV\",filename=\"data/CV_all2.xlsx\",type=\"CV\")\n",
    "experiment6=lib.Experiment(name=\"CV\",filename=\"data/CV_all.xlsx\",type=\"CV\")\n",
    "experiment7=lib.Experiment(name=\"Re Complex\",filename=\"data/Ox_100mVs.csv\",type=\"CV\")\n",
    "experiment8=lib.Experiment(name=\"Fc\",filename=\"data/Ref_Fc_100mVs.csv\",type=\"CV\")\n",
    "e_chem.experiments=[experiment0,experiment1,experiment2,experiment3,experiment4,experiment5,experiment6,experiment7,experiment8]\n",
    "#### CP\n",
    "e_chem.experiments[0].electrode_setup=lib.ElectrodeSetup(counter_electrode=\"Pt\",reference_electrode=\"Hg/HgO\",reference_electrode_salt=\"KCl\",reference_electrode_salt_concentration=1,reference_electrode_salt_concentration_unit=\"M\",working_electrode=\"Au\",working_electrode_area=1,working_electrode_area_unit=\"cm^2\")\n",
    "e_chem.experiments[1].electrode_setup=lib.ElectrodeSetup(counter_electrode=\"Pt\",reference_electrode=\"Ag/AgCl\",reference_electrode_salt=\"KCl\",reference_electrode_salt_concentration=1,reference_electrode_salt_concentration_unit=\"M\",working_electrode=\"Au\",working_electrode_area=1,working_electrode_area_unit=\"cm^2\")\n",
    "e_chem.experiments[0].electrolyte=lib.Electrolyte(solvent=\"H$_2$O\",conducting_salt=\"KOH\",conducting_salt_concentration=1,conducting_salt_concentration_unit=lib.enums.ConcentrationUnits.MOLAR,pH=10)\n",
    "e_chem.experiments[1].electrolyte=lib.Electrolyte(solvent=\"MeCN\",conducting_salt=\"KOH\",conducting_salt_concentration=1,conducting_salt_concentration_unit=\"M\",pH=10)\n",
    "e_chem.experiments[0].analysis=lib.Analysis(cp=lib.CP(induced_current=[200],induced_current_unit=\"mA\",measurement_potential_unit=\"V\",measurement_time_unit=\"s\"))\n",
    "e_chem.experiments[1].analysis=lib.Analysis(cp=lib.CP(induced_current=[200],induced_current_unit=\"mA\",measurement_potential_unit=\"V\",measurement_time_unit=\"s\"))\n",
    "#### CA\n",
    "e_chem.experiments[2].electrode_setup=lib.ElectrodeSetup(working_electrode=\"carbon\",working_electrode_area=1,working_electrode_area_unit=\"µm^2\",counter_electrode=\"Pt\",reference_electrode=\"Hg/HgO\",reference_electrode_salt=\"KCl\",reference_electrode_salt_concentration=1,reference_electrode_salt_concentration_unit=\"M\")\n",
    "e_chem.experiments[3].electrode_setup=lib.ElectrodeSetup(working_electrode_area=1,working_electrode_area_unit=\"cm^2\",counter_electrode=\"Pt\",reference_electrode=\"Ag/AgCl\",reference_electrode_salt=\"KCl\",reference_electrode_salt_concentration=1,reference_electrode_salt_concentration_unit=\"M\")\n",
    "e_chem.experiments[2].electrolyte=lib.Electrolyte(solvent=\"H$_2$O\",conducting_salt=\"KOH\",conducting_salt_concentration=1,conducting_salt_concentration_unit=\"M\",pH=10)\n",
    "e_chem.experiments[3].electrolyte=lib.Electrolyte(solvent=\"MeCN\",conducting_salt=\"KOH\",conducting_salt_concentration=1,conducting_salt_concentration_unit=\"M\",pH=10)\n",
    "e_chem.experiments[2].analysis=lib.Analysis(ca=lib.CA(induced_potential=[20],induced_potential_unit=\"V\",measurement_current_unit=\"A\",measurement_time_unit=\"s\"))\n",
    "e_chem.experiments[3].analysis=lib.Analysis(ca=lib.CA(induced_potential=[20],induced_potential_unit=\"V\",measurement_current_unit=\"A\",measurement_time_unit=\"s\"))\n",
    "#### CV\n",
    "e_chem.experiments[4].electrode_setup=lib.ElectrodeSetup(working_electrode=\"Au\",working_electrode_area=2,working_electrode_area_unit=\"cm^2\",counter_electrode=\"Pt\",reference_electrode=\"Ag/AgCl\",reference_electrode_salt=\"KCl\",reference_electrode_salt_concentration=1,reference_electrode_salt_concentration_unit=\"M\")\n",
    "e_chem.experiments[4].electrolyte=lib.Electrolyte(solvent=\"H$_2$O\",conducting_salt=\"KOH\",conducting_salt_concentration=1,conducting_salt_concentration_unit=\"M\",pH=10.1)\n",
    "e_chem.experiments[4].analysis=lib.Analysis(cv=lib.CV(scan_rate=20,scan_rate_unit=\"mV/s\",measurement_current_unit=\"µA\",measurement_potential_unit=\"V\"))\n",
    "e_chem.experiments[5].electrode_setup=lib.ElectrodeSetup(working_electrode=\"Au\",working_electrode_area=2,working_electrode_area_unit=\"cm^2\",counter_electrode=\"Pt\",reference_electrode=\"Ag/AgCl\",reference_electrode_salt=\"KCl\",reference_electrode_salt_concentration=1,reference_electrode_salt_concentration_unit=\"M\")\n",
    "e_chem.experiments[5].electrolyte=lib.Electrolyte(solvent=\"MeCN\",conducting_salt=\"[Bu$_4$N][PF$_6$]\",conducting_salt_concentration=1,conducting_salt_concentration_unit=\"M\",pH=10)\n",
    "e_chem.experiments[5].analysis=lib.Analysis(cv=lib.CV(scan_rate=20,scan_rate_unit=\"mV/s\",measurement_current_unit=\"µA\",measurement_potential_unit=\"V\"))\n",
    "e_chem.experiments[6].electrode_setup=lib.ElectrodeSetup(working_electrode=\"Au\",working_electrode_area=2,working_electrode_area_unit=\"cm^2\",counter_electrode=\"Pt\",reference_electrode=\"Ag/AgCl\",reference_electrode_salt=\"KCl\",reference_electrode_salt_concentration=1,reference_electrode_salt_concentration_unit=\"M\")\n",
    "e_chem.experiments[6].electrolyte=lib.Electrolyte(solvent=\"H$_2$O\",conducting_salt=\"KOH\",conducting_salt_concentration=1,conducting_salt_concentration_unit=\"M\",pH=10)\n",
    "e_chem.experiments[6].analysis=lib.Analysis(cv=lib.CV(scan_rate=20,scan_rate_unit=\"mV/s\",measurement_current_unit=\"µA\",measurement_potential_unit=\"V\"))\n",
    "e_chem.experiments[7].electrode_setup=lib.ElectrodeSetup(working_electrode=\"carbon\",working_electrode_area=7.07,working_electrode_area_unit=\"mm^2\",counter_electrode=\"Pt\",reference_electrode=\"Ag/AgCl\",reference_electrode_salt=\"KCl\",reference_electrode_salt_concentration=None,reference_electrode_salt_concentration_unit=None)\n",
    "e_chem.experiments[7].electrolyte=lib.Electrolyte(solvent=\"MeCN\",conducting_salt=\"NBu$_4$PF$_6$\",conducting_salt_concentration=0.1,conducting_salt_concentration_unit=\"M\")\n",
    "e_chem.experiments[7].analysis=lib.Analysis(cv=lib.CV(scan_rate=100,scan_rate_unit=\"mV/s\",measurement_current_unit=\"µA\",measurement_potential_unit=\"V\"))\n",
    "e_chem.experiments[8].electrode_setup=lib.ElectrodeSetup(working_electrode=\"carbon\",working_electrode_area=7.07,working_electrode_area_unit=\"mm^2\",counter_electrode=\"Pt\",reference_electrode=\"Ag/AgCl\",reference_electrode_salt=\"KCl\",reference_electrode_salt_concentration=1,reference_electrode_salt_concentration_unit=\"M\")\n",
    "e_chem.experiments[8].electrolyte=lib.Electrolyte(solvent=\"MeCN\",conducting_salt=\"NBu$_4$PF$_6$\",conducting_salt_concentration=0.1,conducting_salt_concentration_unit=\"M\",)\n",
    "e_chem.experiments[8].analysis=lib.Analysis(cv=lib.CV(scan_rate=100,scan_rate_unit=\"mV/s\",measurement_current_unit=\"µA\",measurement_potential_unit=\"V\"))"
   ]
  },
  {
   "cell_type": "code",
   "execution_count": 6,
   "metadata": {},
   "outputs": [],
   "source": []
  },
  {
   "cell_type": "code",
   "execution_count": 8,
   "metadata": {},
   "outputs": [
    {
     "name": "stdout",
     "output_type": "stream",
     "text": [
      "[]\n"
     ]
    }
   ],
   "source": [
    "\n",
    "#e_chem.experiments[4].analysis.cv.cycles=[]\n",
    "print(e_chem.experiments[4].analysis.cv.cycles)"
   ]
  },
  {
   "attachments": {},
   "cell_type": "markdown",
   "metadata": {},
   "source": [
    "# Change the style and parameter of the plots\n",
    "The following cell is not needed only if you want to change some parameters of your plots"
   ]
  },
  {
   "cell_type": "code",
   "execution_count": 11,
   "metadata": {},
   "outputs": [],
   "source": [
    "plt.rcParams.update({\n",
    "    'figure.figsize': (6.4,4.8),     # 4:3 aspect ratio is (6.4,4.8). You can change the figure size here\n",
    "    'font.size' : 12,                   # Set font size to 12pt\n",
    "    'axes.labelsize': 12,               # -> axis labels\n",
    "    'legend.fontsize': 12,              # -> legends\n",
    "    'font.family': 'serif',             # -> font family  \n",
    "    'font.sans-serif': 'Times New Roman',\n",
    "    'text.usetex': True,              # Latex plot rendering. If True,your plots will be rendered with Latex. But this needs extra time for rendering\n",
    "     'text.latex.preamble':            # LaTeX preamble\n",
    "         r'\\usepackage{mathptmx}'\n",
    "         #mathptmx = Times\n",
    "         #... more packages if needed\n",
    "})\n",
    "####################\n",
    "#Here u can also use an other matplotlib style, like ggplot\n",
    "#plt.style.use('ggplot') # You can choose ure matplotlib style"
   ]
  },
  {
   "attachments": {},
   "cell_type": "markdown",
   "metadata": {},
   "source": [
    "# If you prefere plotstyle like Origin use the following code:"
   ]
  },
  {
   "cell_type": "code",
   "execution_count": 18,
   "metadata": {},
   "outputs": [],
   "source": [
    "##### \"\"\"\" For Plotstyle like Origin:\n",
    "from matplotlib import  cycler\n",
    "plt.rcParams['font.family'] = 'sans-serif'\n",
    "plt.rcParams['font.sans-serif'] = ['Arial', 'Helvetica', 'Verdana', 'DejaVu Sans']\n",
    "plt.rcParams['font.size'] = 15\n",
    "plt.rcParams['axes.linewidth'] = 1.1\n",
    "plt.rcParams['axes.labelpad'] = 5.0\n",
    "plot_color_cycle = cycler('color', [ '0000FE', 'FE0000', '008001', 'FD8000', '8c564b', 'e377c2', '7f7f7f', 'bcbd22', '17becf','000000'])\n",
    "plt.rcParams['axes.prop_cycle'] = plot_color_cycle\n"
   ]
  },
  {
   "attachments": {},
   "cell_type": "markdown",
   "metadata": {},
   "source": [
    "# Analytic tools\n",
    "## ReferenceCalculator class \n",
    "The ReferenceCalculator class includes a list of different reference potentials and a reference_difference function. \n",
    "- (Reference: https://www.edaq.com/wiki/Reference_Electrode_Potentials (visited on 03.08.23),\n",
    " http://www.globalanalitik.com.tr/product/hg-hgo-reference-electrode-cs902/ (visited on 08.08.23)\n",
    "- for ferrocene: Adv. Mater. 2011, 23, 2367–2371, DOI: 10.1002/adma.201004554). \n",
    "\n",
    "This can be used to calculate the difference between two reference potentials. The reference_difference function is an interactive calculator."
   ]
  },
  {
   "cell_type": "code",
   "execution_count": 24,
   "metadata": {},
   "outputs": [
    {
     "name": "stdout",
     "output_type": "stream",
     "text": [
      "Reference                         Potential vs. (NHE) (V)\n",
      "------------------------------  -------------------------\n",
      "SHE                                                0\n",
      "RHE                                               -0.0591\n",
      "Hg/Hg2Cl2 (0.1 M KCl)                              0.334\n",
      "Hg/Hg2Cl2 (1 M KCl)                                0.28\n",
      "Hg/Hg2Cl2 (3.5 M KCl)                              0.25\n",
      "Hg/Hg2Cl2 (sat. KCl)                               0.241\n",
      "Hg/Hg2SO4 (0.5 M H2SO4)                            0.682\n",
      "Hg/Hg2SO4 (1 M H2SO4)                              0.674\n",
      "Hg/Hg2SO4 (sat. K2SO4)                             0.65\n",
      "Ag/AgCl (0.1 M KCl)                                0.2881\n",
      "Ag/AgCl (3 M KCl)                                  0.21\n",
      "Ag/AgCl (3.5 M KCl)                                0.205\n",
      "Ag/AgCl (sat. KCl)                                 0.199\n",
      "Ag/Ag2SO4 (0.5 M H2SO4)                            0.72\n",
      "Ag/Ag2SO4 (1 M H2SO4)                              0.71\n",
      "Ag/Ag2SO4 (sat. K2SO4)                             0.68\n",
      "Hg/HgO (0.1 M NaOH)                                0.165\n",
      "Hg/HgO (1 M NaOH)                                  0.14\n",
      "Hg/HgO (1 M KOH)                                   0.098\n",
      "Fc/Fc+ (0.05 M  nBu4NPF6/MeCN)                     0.64\n"
     ]
    },
    {
     "data": {
      "application/vnd.jupyter.widget-view+json": {
       "model_id": "0803cf7544464996b85faaaa7a7ad44b",
       "version_major": 2,
       "version_minor": 0
      },
      "text/plain": [
       "interactive(children=(Dropdown(description='old_reference', index=12, options=('SHE', 'RHE', 'Hg/Hg2Cl2 (0.1 M…"
      ]
     },
     "metadata": {},
     "output_type": "display_data"
    },
    {
     "name": "stdout",
     "output_type": "stream",
     "text": [
      "Potential value: -0.199 SHE was saved to experiment: 0\n",
      "Potential value: -0.199 SHE was saved to experiment: 1\n"
     ]
    }
   ],
   "source": [
    "calculator=ReferenceCalculator(e_chem=e_chem,experiment_list=[0,1])\n",
    "calculator.reference_list()\n",
    "calculator.reference_difference()"
   ]
  },
  {
   "attachments": {},
   "cell_type": "markdown",
   "metadata": {},
   "source": [
    "# Chronopotentiometry\n",
    "- Chronopotentiometry(e_chem,experiment_list,add_potential_value=None,new_reference_name=None,change_reference=False)\n",
    "\n",
    "This class specifically requires a list of Chronopotentiometry experiments as input. For example, you can pass in [0, 1] to indicate using the first and second experiments that you defined earlier. By setting change_reference=True and specifying a value in add_potential_value, you can conveniently adjust your reference and perform calculations in the new reference scale. Additionally, you have the option to customize the label of your y-axis by defining new_reference_name. It's important to note that this functionality only works when change_reference=True."
   ]
  },
  {
   "attachments": {},
   "cell_type": "markdown",
   "metadata": {},
   "source": [
    "The CP class has the following functions:\n",
    "- quick_plot() -> shows all relevant data: $E$ vs time, $I$ vs. time and $E$ of the mess cell vs time. It is only to check if your data looks good or not\n",
    "- plot() -> return a plot $E$ vs time. \n",
    "- end_value()\n",
    "- end_value_fit()"
   ]
  },
  {
   "attachments": {},
   "cell_type": "markdown",
   "metadata": {},
   "source": [
    "To determine the last potential, you have two options:\n",
    "\n",
    "Using end_value(): This function returns the average of the last 75 values of your measurement by default. However, you can also specify a different range, up to the last 200 values, based on your choice. This method is suitable for general measurements.\n",
    "\n",
    "Using end_value_fit(): This alternative method determines the last potential through a fit function. It can be particularly useful for handling oscillating measurement data or cases where a fit provides a more accurate representation of the last potential.\n",
    "\n",
    "By utilizing either end_value() or end_value_fit(), you can determine the last potential in your measurement based on your specific needs and the characteristics of your data."
   ]
  },
  {
   "cell_type": "code",
   "execution_count": 25,
   "metadata": {},
   "outputs": [
    {
     "data": {
      "application/vnd.jupyter.widget-view+json": {
       "model_id": "61b8a552063144a8807bfdadc8570fbc",
       "version_major": 2,
       "version_minor": 0
      },
      "text/plain": [
       "interactive(children=(Text(value='$t$ (s)', description='xlabel'), Text(value='$E$ vs. SHE (V)', description='…"
      ]
     },
     "metadata": {},
     "output_type": "display_data"
    }
   ],
   "source": [
    "cp=Chronopotentiometry(e_chem=e_chem,experiment_list=[0,1],change_reference_list_index=0,change_reference=True)\n",
    "# cp.quick_plot()\n",
    "cp.plot()\n",
    "#cp.end_value()\n",
    "#cp.end_value_fit()"
   ]
  },
  {
   "attachments": {},
   "cell_type": "markdown",
   "metadata": {},
   "source": [
    "# Chronoamperometry\n",
    "- Chronoamperometry(e_chem,experiment_list,current_density=False)\n",
    "\n",
    "This class is very similar to the ChronoPotentiometry class; it has the same input parameter experiment_list. However, it has an additional attribute called current_density, which is set to False by default. By setting current_density to True, you will be able to work with the current density instead of the current in your calculations or analysis."
   ]
  },
  {
   "attachments": {},
   "cell_type": "markdown",
   "metadata": {},
   "source": [
    "The CA class has the following functions:\n",
    "- plot() -> return a plot $I$ vs time\n",
    "- end_value()\n",
    "- end_value_fit()"
   ]
  },
  {
   "cell_type": "code",
   "execution_count": 27,
   "metadata": {},
   "outputs": [
    {
     "data": {
      "application/vnd.jupyter.widget-view+json": {
       "model_id": "a7517b6d9edf4e30915f0b7f341bea91",
       "version_major": 2,
       "version_minor": 0
      },
      "text/plain": [
       "interactive(children=(Text(value='$t$ (s)', description='xlabel'), Text(value='$J$ (A/µm$^2$)', description='y…"
      ]
     },
     "metadata": {},
     "output_type": "display_data"
    }
   ],
   "source": [
    "ca=Chronoamperometry(e_chem=e_chem,experiment_list=[2],current_density=True)\n",
    "ca.plot()\n",
    "#ca.end_value()\n",
    "# ca.end_value_fit()"
   ]
  },
  {
   "attachments": {},
   "cell_type": "markdown",
   "metadata": {},
   "source": [
    "# CyclicVoltammetry \n",
    "- CyclicVoltammetry(e_chem,experiment,cycles,add_potential_value,new_reference_name,current_density=False,change_reference=False)\n",
    "\n",
    "The CyclicVoltammetry class is for Cyclic Voltammetry. By set cycles=`None` it automatically uses all cycles which are in your datafile.\n",
    "It has the following methods:\n",
    "- plot()\n",
    "- peaks() \n",
    "- integration() \n",
    "- ferrocene_reference(experiment2) # This method requires a second experiment. This experiment should involve using your sample without the ferrocene measurement, while using the ferrocene experiment as the initialization step.\n"
   ]
  },
  {
   "cell_type": "code",
   "execution_count": 20,
   "metadata": {},
   "outputs": [
    {
     "data": {
      "application/vnd.jupyter.widget-view+json": {
       "model_id": "a46623fc4c9c4b57859e1ff80c64a852",
       "version_major": 2,
       "version_minor": 0
      },
      "text/plain": [
       "interactive(children=(Text(value='$E$ vs. Ag/AgCl (V)', description='xlabel'), Text(value='$I$ (µA)', descript…"
      ]
     },
     "metadata": {},
     "output_type": "display_data"
    }
   ],
   "source": [
    "\n",
    "cv=CyclicVoltammetry(e_chem=e_chem,experiment=4,cycles=[1],change_reference_list_index=0,current_density=False,change_reference=False)\n",
    "cv.plot()\n",
    "#cv.peaks()\n",
    "#cv.integration()\n",
    "#cv.ferrocene_reference(experiment2=6)\n",
    "#cv.integration()\n"
   ]
  },
  {
   "cell_type": "code",
   "execution_count": 35,
   "metadata": {},
   "outputs": [
    {
     "data": {
      "text/plain": [
       "[Cycle(id='cycle0', number=1, scan_rate=20.0, scan_rate_unit='mV/s', current_vertex=-9.09213, y_unit_vertex='µA', change_reference_potential=0.0, reference_name='Ag/AgCl', potential_vertex=-9.09213, peaks_and_half_potential=[], peak_integration=[]),\n",
       " Cycle(id='cycle1', number=2, scan_rate=20.0, scan_rate_unit='mV/s', current_vertex=None, y_unit_vertex=None, change_reference_potential=None, reference_name=None, potential_vertex=None, peaks_and_half_potential=[], peak_integration=[])]"
      ]
     },
     "execution_count": 35,
     "metadata": {},
     "output_type": "execute_result"
    }
   ],
   "source": [
    "e_chem.experiments[4].analysis.cv.cycles"
   ]
  },
  {
   "cell_type": "code",
   "execution_count": 21,
   "metadata": {},
   "outputs": [
    {
     "data": {
      "application/vnd.jupyter.widget-view+json": {
       "model_id": "e0f36a5cd17c49038d24223c5aabee09",
       "version_major": 2,
       "version_minor": 0
      },
      "text/plain": [
       "interactive(children=(Text(value='$E$ vs. Fc / Fc$^{+}$ (V)', description='xlabel'), Text(value='$J$ (µA / cm$…"
      ]
     },
     "metadata": {},
     "output_type": "display_data"
    }
   ],
   "source": [
    "# cv=CyclicVoltammetry(e_chem=e_chem,experiment=6,cycles=[1],add_potential_value=-0.360544,change_reference=True,current_density=True)\n",
    "# cv.plot()"
   ]
  },
  {
   "cell_type": "code",
   "execution_count": 10,
   "metadata": {},
   "outputs": [
    {
     "data": {
      "application/vnd.jupyter.widget-view+json": {
       "model_id": "55db2dfac1f248eb8197076964653b77",
       "version_major": 2,
       "version_minor": 0
      },
      "text/plain": [
       "interactive(children=(FloatSlider(value=0.2, description='E_min_Fc', max=1.40192, min=-0.096055, step=0.05), F…"
      ]
     },
     "metadata": {},
     "output_type": "display_data"
    }
   ],
   "source": [
    "cv=CyclicVoltammetry(e_chem=e_chem,experiment=5,cycles=[1],change_reference_list_index=0,current_density=False,change_reference=False)\n",
    "#cv.plot()\n",
    "cv.ferrocene_reference(experiment2=6)"
   ]
  },
  {
   "cell_type": "code",
   "execution_count": 5,
   "metadata": {},
   "outputs": [
    {
     "name": "stderr",
     "output_type": "stream",
     "text": [
      "/home/dimitrios/.local/lib/python3.10/site-packages/numpy/core/fromnumeric.py:59: FutureWarning: 'DataFrame.swapaxes' is deprecated and will be removed in a future version. Please use 'DataFrame.transpose' instead.\n",
      "  return bound(*args, **kwds)\n",
      "/home/dimitrios/.local/lib/python3.10/site-packages/numpy/core/fromnumeric.py:59: FutureWarning: 'DataFrame.swapaxes' is deprecated and will be removed in a future version. Please use 'DataFrame.transpose' instead.\n",
      "  return bound(*args, **kwds)\n"
     ]
    },
    {
     "data": {
      "application/vnd.jupyter.widget-view+json": {
       "model_id": "462c0fa9baad47ea8c90d57a2ae09c74",
       "version_major": 2,
       "version_minor": 0
      },
      "text/plain": [
       "interactive(children=(FloatSlider(value=0.2, description='E_min_Fc', max=0.696995, min=-1.49801, step=0.05), F…"
      ]
     },
     "metadata": {},
     "output_type": "display_data"
    },
    {
     "name": "stdout",
     "output_type": "stream",
     "text": [
      "(0.4806625, 'Fc/Fc+')\n",
      "Potential saved\n"
     ]
    }
   ],
   "source": [
    "cv=CyclicVoltammetry(e_chem=e_chem,experiment=8,cycles=[1],change_reference_list_index=0,current_density=False,change_reference=False)\n",
    "#cv.plot()\n",
    "cv.ferrocene_reference(experiment2=7)"
   ]
  },
  {
   "cell_type": "code",
   "execution_count": 42,
   "metadata": {},
   "outputs": [
    {
     "name": "stderr",
     "output_type": "stream",
     "text": [
      "/home/dimitrios/.local/lib/python3.10/site-packages/numpy/core/fromnumeric.py:59: FutureWarning: 'DataFrame.swapaxes' is deprecated and will be removed in a future version. Please use 'DataFrame.transpose' instead.\n",
      "  return bound(*args, **kwds)\n"
     ]
    },
    {
     "data": {
      "application/vnd.jupyter.widget-view+json": {
       "model_id": "cf915e62d62a4f1a964491722e29d3c9",
       "version_major": 2,
       "version_minor": 0
      },
      "text/plain": [
       "interactive(children=(FloatSlider(value=-2.1708675, description='E_Min', max=2.0828925, min=-2.1708675), Float…"
      ]
     },
     "metadata": {},
     "output_type": "display_data"
    }
   ],
   "source": [
    "cv=CyclicVoltammetry(e_chem=e_chem,experiment=7,cycles=[1,3],change_reference_list_index=0,current_density=True,change_reference=True)\n",
    "cv.peaks()"
   ]
  },
  {
   "cell_type": "code",
   "execution_count": 43,
   "metadata": {},
   "outputs": [
    {
     "data": {
      "text/plain": [
       "[Cycle(id='cycle0', number=1, scan_rate=100.0, scan_rate_unit='mV/s', current_vertex=2.8368599717114567, y_unit_vertex='µA/mm^2', change_reference_potential=0.4806625, reference_name='Fc/Fc+', potential_vertex=2.8368599717114567, peaks_and_half_potential=[], peak_integration=[]),\n",
       " Cycle(id='cycle1', number=2, scan_rate=100.0, scan_rate_unit='mV/s', current_vertex=None, y_unit_vertex=None, change_reference_potential=None, reference_name=None, potential_vertex=None, peaks_and_half_potential=[], peak_integration=[]),\n",
       " Cycle(id='cycle2', number=3, scan_rate=100.0, scan_rate_unit='mV/s', current_vertex=3.086676096181047, y_unit_vertex='µA/mm^2', change_reference_potential=0.4806625, reference_name='Fc/Fc+', potential_vertex=3.086676096181047, peaks_and_half_potential=[], peak_integration=[])]"
      ]
     },
     "execution_count": 43,
     "metadata": {},
     "output_type": "execute_result"
    }
   ],
   "source": [
    "e_chem.experiments[7].analysis.cv.cycles"
   ]
  }
 ],
 "metadata": {
  "kernelspec": {
   "display_name": "Python 3 (ipykernel)",
   "language": "python",
   "name": "python3"
  },
  "language_info": {
   "codemirror_mode": {
    "name": "ipython",
    "version": 3
   },
   "file_extension": ".py",
   "mimetype": "text/x-python",
   "name": "python",
   "nbconvert_exporter": "python",
   "pygments_lexer": "ipython3",
   "version": "3.10.0"
  }
 },
 "nbformat": 4,
 "nbformat_minor": 4
}
