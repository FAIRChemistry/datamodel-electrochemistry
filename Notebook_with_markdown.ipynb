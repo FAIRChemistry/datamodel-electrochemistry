{
 "cells": [
  {
   "attachments": {},
   "cell_type": "markdown",
   "metadata": {},
   "source": [
    "# Workspace for e-chemistry \n",
    "Version (10.07.2023)\n",
    "This workspace is dedicated to e-chemistry, providing analysis tools for CP, CA, and CV. Please note that these tools are specifically designed to work with a particular file format.\n",
    "\n",
    "The CP class is developed and maintained by the Elias Klemm group at the University of Stuttgart. For CA and CV analysis, you can utilize the projects from the Kristina Tschulik group at the University of Bochum and the Biprajit Sarkar group at the University of Stuttgart."
   ]
  },
  {
   "attachments": {},
   "cell_type": "markdown",
   "metadata": {},
   "source": [
    "# Packages for the Analysis tools"
   ]
  },
  {
   "cell_type": "code",
   "execution_count": 3,
   "metadata": {},
   "outputs": [],
   "source": [
    "import pandas as pd\n",
    "import numpy as np\n",
    "import matplotlib.pyplot as plt\n",
    "import os\n",
    "import datetime\n",
    "import copy\n",
    "from scipy.optimize import curve_fit\n",
    "from sdRDM import DataModel\n",
    "from tabulate import tabulate\n",
    "from scipy.integrate import trapz\n",
    "import ipywidgets as widgets\n",
    "from ipywidgets import interact, interactive, fixed, interact_manual\n",
    "\n",
    "\n",
    "################################################################\n",
    "#imports the Analysis tools from the subfolder functions. They are in a Py file called Analysis\n",
    "from functions.Analysis import ReferenceCalculator,Chronopotentiometry,Chronoamperometry"
   ]
  },
  {
   "attachments": {},
   "cell_type": "markdown",
   "metadata": {},
   "source": [
    "# Creation of the subfolders data and plots\n",
    "By exicuting the following cell two subfolder were created called data and plots. In the data folder you can store your measurement data and the plot folder is the folder were your plots get created. "
   ]
  },
  {
   "cell_type": "code",
   "execution_count": null,
   "metadata": {},
   "outputs": [],
   "source": [
    "path_program=os.getcwd()\n",
    "data=\"/data\"\n",
    "plots=\"/plots\"\n",
    "\n",
    "path_data= path_program + data\n",
    "\n",
    "path_plots=path_program+ plots\n",
    "if not os.path.exists(path_data):\n",
    "    os.makedirs(path_data)\n",
    "if not os.path.exists(path_plots):\n",
    "    os.makedirs(path_plots)\n"
   ]
  },
  {
   "attachments": {},
   "cell_type": "markdown",
   "metadata": {},
   "source": [
    "# Datamodel from GitHub\n",
    "The following cell loads the Datamodel from GitHub and stores it in the variable lib."
   ]
  },
  {
   "cell_type": "code",
   "execution_count": 2,
   "metadata": {},
   "outputs": [],
   "source": [
    "\n",
    "lib = DataModel.from_markdown(\"specifications/Electrochemistry.md\")\n",
    "#lib=DataModel.from_git(url=\"https://github.com/FAIRChemistry/datamodel-electrochemistry.git\")\n",
    "e_chem=lib.Dataset()\n",
    "\n"
   ]
  },
  {
   "cell_type": "markdown",
   "metadata": {},
   "source": [
    "# Data formats\n",
    "## Chronopotentiometry\n",
    "The Chronopotentiometry class works with the formats: \n",
    "- .DTA \n",
    "## Chronoamperometry \n",
    "The Chronoamperometry class accepts the formats:\n",
    "- .csv (group Tschulik)\n",
    "- .dat (group Tschulik)\n",
    "- .txt (group Sarkar)\n",
    "### Cyclic Voltammetry \n",
    "The CyclicVoltammetry class accepts the formats:\n",
    "- .csv (group Tschulik & Sarkar)\n",
    "- .xlsx (group Sarkar)\n",
    "  \n",
    "Please note that the CSV file needs to be saved in UTF-8 format. To ensure this, open the CSV file in an editor like Excel and save it as a UTF-8 CSV file. This step is necessary to properly handle special characters and encoding. However, this encoding consideration is not required for XLSX files.\n",
    "\n",
    "Unlike CSV files, XLSX files do not require specific encoding considerations. They inherently support a wider range of characters, including special characters, without the need for explicit encoding settings. Additionally, the data parser for XLSX files often works faster due to its utilization of the \"C\" engine."
   ]
  },
  {
   "cell_type": "code",
   "execution_count": 4,
   "metadata": {},
   "outputs": [],
   "source": [
    "\"\"\"The following shows ho to store experiments into the list of experiments\"\"\"\n",
    "experiment0=lib.Experiment(name=\"Cu 12 nm\",filename=\"data/Cu12nm.DTA\",type=lib.enums.Experiment_type.CP.value)\n",
    "experiment1=lib.Experiment(name=\"Cu 14 nm\",filename=\"data/Cu14nm.DTA\",type=lib.enums.Experiment_type.CP.value)\n",
    "experiment2=lib.Experiment(name=\"CA1\",filename=\"data/CA1.dat\",type=lib.enums.Experiment_type.CA.value)\n",
    "experiment3=lib.Experiment(name=\"CA_Sarkar\",filename=\"data/CA_Sarkar.txt\",type=lib.enums.Experiment_type.CA.value)\n",
    "experiment4=lib.Experiment(name=\"CV\",filename=\"data/SarkarCV_utf8.csv\",type=lib.enums.Experiment_type.CV.value)\n",
    "experiment5=lib.Experiment(name=\"CV\",filename=\"data/CV_all2.xlsx\",type=lib.enums.Experiment_type.CV.value)\n",
    "experiment6=lib.Experiment(name=\"CV\",filename=\"data/CV_all.xlsx\",type=lib.enums.Experiment_type.CV.value)\n",
    "experiment7=lib.Experiment(name=\"Re Complex\",filename=\"data/Ox_100mVs.csv\",type=lib.enums.Experiment_type.CV.value)\n",
    "experiment8=lib.Experiment(name=\"Fc\",filename=\"data/Ref_Fc_100mVs.csv\",type=lib.enums.Experiment_type.CV.value)\n",
    "e_chem.experiments=[experiment0,experiment1,experiment2,experiment3,experiment4,experiment5,experiment6,experiment7,experiment8]\n",
    "#### CP\n",
    "e_chem.experiments[0].electrode_setup=lib.ElectrodeSetup(counter_electrode=\"Pt\",reference_electrode=\"Hg/HgO\",reference_electrode_salt=\"KCl\",reference_electrode_salt_concentration=1,reference_electrode_salt_concentration_unit=lib.enums.ConcentrationUnits.MOLAR.value,working_electrode=\"Au\",working_electrode_area=1,working_electrode_area_unit=lib.enums.AreaUnits.SQUARE_CM)\n",
    "e_chem.experiments[1].electrode_setup=lib.ElectrodeSetup(counter_electrode=\"Pt\",reference_electrode=\"Ag/AgCl\",reference_electrode_salt=\"KCl\",reference_electrode_salt_concentration=1,reference_electrode_salt_concentration_unit=lib.enums.ConcentrationUnits.MOLAR.value,working_electrode=\"Au\",working_electrode_area=1,working_electrode_area_unit=lib.enums.AreaUnits.SQUARE_CM)\n",
    "e_chem.experiments[0].electrolyte=lib.Electrolyte(solvent=\"H$_2$O\",conducting_salt=\"KOH\",conducting_salt_concentration=1,conducting_salt_concentration_unit=lib.enums.ConcentrationUnits.MOLAR,pH=10)\n",
    "e_chem.experiments[1].electrolyte=lib.Electrolyte(solvent=\"MeCN\",conducting_salt=\"KOH\",conducting_salt_concentration=1,conducting_salt_concentration_unit=lib.enums.ConcentrationUnits.MOLAR,pH=10)\n",
    "e_chem.experiments[0].analysis=lib.Analysis(cp=lib.CP(induced_current=[200],induced_current_unit=\"mA\",measurement_potential_unit=\"V\",measurement_time_unit=\"s\"))\n",
    "e_chem.experiments[1].analysis=lib.Analysis(cp=lib.CP(induced_current=[200],induced_current_unit=\"mA\",measurement_potential_unit=\"V\",measurement_time_unit=\"s\"))\n",
    "#### CA\n",
    "e_chem.experiments[2].electrode_setup=lib.ElectrodeSetup(working_electrode_area=1,working_electrode_area_unit=lib.enums.AreaUnits.SQUARE_CM,counter_electrode=\"Pt\",reference_electrode=\"Hg/HgO\",reference_electrode_salt=\"KCl\",reference_electrode_salt_concentration=1,reference_electrode_salt_concentration_unit=lib.enums.ConcentrationUnits.MOLAR.value)\n",
    "e_chem.experiments[3].electrode_setup=lib.ElectrodeSetup(working_electrode_area=1,working_electrode_area_unit=lib.enums.AreaUnits.SQUARE_CM,counter_electrode=\"Pt\",reference_electrode=\"Ag/AgCl\",reference_electrode_salt=\"KCl\",reference_electrode_salt_concentration=1,reference_electrode_salt_concentration_unit=lib.enums.ConcentrationUnits.MOLAR.value)\n",
    "e_chem.experiments[2].electrolyte=lib.Electrolyte(solvent=\"H$_2$O\",conducting_salt=\"KOH\",conducting_salt_concentration=1,conducting_salt_concentration_unit=lib.enums.ConcentrationUnits.MOLAR,pH=10)\n",
    "e_chem.experiments[3].electrolyte=lib.Electrolyte(solvent=\"MeCN\",conducting_salt=\"KOH\",conducting_salt_concentration=1,conducting_salt_concentration_unit=lib.enums.ConcentrationUnits.MOLAR,pH=10)\n",
    "e_chem.experiments[2].analysis=lib.Analysis(ca=lib.CA(induced_potential=[20],induced_potential_unit=\"V\",measurement_current_unit=\"A\",measurement_time_unit=\"s\"))\n",
    "e_chem.experiments[3].analysis=lib.Analysis(ca=lib.CA(induced_potential=[20],induced_potential_unit=\"V\",measurement_current_unit=\"A\",measurement_time_unit=\"s\"))\n",
    "#### CV\n",
    "e_chem.experiments[4].electrode_setup=lib.ElectrodeSetup(working_electrode=\"Au\",working_electrode_area=2,working_electrode_area_unit=lib.enums.AreaUnits.SQUARE_CM,counter_electrode=\"Pt\",reference_electrode=\"Ag/AgCl\",reference_electrode_salt=\"KCl\",reference_electrode_salt_concentration=1,reference_electrode_salt_concentration_unit=lib.enums.ConcentrationUnits.MOLAR.value)\n",
    "e_chem.experiments[4].electrolyte=lib.Electrolyte(solvent=\"H$_2$O\",conducting_salt=\"KOH\",conducting_salt_concentration=1,conducting_salt_concentration_unit=lib.enums.ConcentrationUnits.MOLAR,pH=10)\n",
    "e_chem.experiments[4].analysis=lib.Analysis(cv=lib.CV(scan_rate=20,scan_rate_unit=\"mV/s\"))\n",
    "e_chem.experiments[5].electrode_setup=lib.ElectrodeSetup(working_electrode=\"Au\",working_electrode_area=2,working_electrode_area_unit=lib.enums.AreaUnits.SQUARE_CM,counter_electrode=\"Pt\",reference_electrode=\"Ag/AgCl\",reference_electrode_salt=\"KCl\",reference_electrode_salt_concentration=1,reference_electrode_salt_concentration_unit=lib.enums.ConcentrationUnits.MOLAR.value)\n",
    "e_chem.experiments[5].electrolyte=lib.Electrolyte(solvent=\"H$_2$O\",conducting_salt=\"KOH\",conducting_salt_concentration=1,conducting_salt_concentration_unit=lib.enums.ConcentrationUnits.MOLAR,pH=10)\n",
    "e_chem.experiments[5].analysis=lib.Analysis(cv=lib.CV(scan_rate=20,scan_rate_unit=\"mV/s\"))\n",
    "e_chem.experiments[6].electrode_setup=lib.ElectrodeSetup(working_electrode=\"Au\",working_electrode_area=2,working_electrode_area_unit=lib.enums.AreaUnits.SQUARE_CM,counter_electrode=\"Pt\",reference_electrode=\"Ag/AgCl\",reference_electrode_salt=\"KCl\",reference_electrode_salt_concentration=1,reference_electrode_salt_concentration_unit=lib.enums.ConcentrationUnits.MOLAR.value)\n",
    "e_chem.experiments[6].electrolyte=lib.Electrolyte(solvent=\"H$_2$O\",conducting_salt=\"KOH\",conducting_salt_concentration=1,conducting_salt_concentration_unit=lib.enums.ConcentrationUnits.MOLAR,pH=10)\n",
    "e_chem.experiments[6].analysis=lib.Analysis(cv=lib.CV(scan_rate=20,scan_rate_unit=\"mV/s\"))\n",
    "e_chem.experiments[7].electrode_setup=lib.ElectrodeSetup(working_electrode=\"Au\",working_electrode_area=2,working_electrode_area_unit=lib.enums.AreaUnits.SQUARE_CM,counter_electrode=\"Pt\",reference_electrode=\"Ag/AgCl\",reference_electrode_salt=\"KCl\",reference_electrode_salt_concentration=1,reference_electrode_salt_concentration_unit=lib.enums.ConcentrationUnits.MOLAR.value)\n",
    "e_chem.experiments[7].electrolyte=lib.Electrolyte(solvent=\"H$_2$O\",conducting_salt=\"KOH\",conducting_salt_concentration=1,conducting_salt_concentration_unit=lib.enums.ConcentrationUnits.MOLAR,pH=10)\n",
    "e_chem.experiments[7].analysis=lib.Analysis(cv=lib.CV(scan_rate=100,scan_rate_unit=\"mV/s\"))\n",
    "e_chem.experiments[8].electrode_setup=lib.ElectrodeSetup(working_electrode=\"Au\",working_electrode_area=2,working_electrode_area_unit=lib.enums.AreaUnits.SQUARE_CM,counter_electrode=\"Pt\",reference_electrode=\"Ag/AgCl\",reference_electrode_salt=\"KCl\",reference_electrode_salt_concentration=1,reference_electrode_salt_concentration_unit=lib.enums.ConcentrationUnits.MOLAR.value)\n",
    "e_chem.experiments[8].electrolyte=lib.Electrolyte(solvent=\"H$_2$O\",conducting_salt=\"KOH\",conducting_salt_concentration=1,conducting_salt_concentration_unit=lib.enums.ConcentrationUnits.MOLAR,pH=10)\n",
    "e_chem.experiments[8].analysis=lib.Analysis(cv=lib.CV(scan_rate=100,scan_rate_unit=\"mV/s\"))"
   ]
  },
  {
   "attachments": {},
   "cell_type": "markdown",
   "metadata": {},
   "source": [
    "# Change the style and parameter of the plots\n",
    "The following cell is not needed only if you want to change some parameters of your plots"
   ]
  },
  {
   "cell_type": "code",
   "execution_count": 9,
   "metadata": {},
   "outputs": [],
   "source": [
    "plt.rcParams.update({\n",
    "    'figure.figsize': (6.4,4.8),     # 4:3 aspect ratio. You can change the figure size here\n",
    "    'font.size' : 12,                   # Set font size to 12pt\n",
    "    'axes.labelsize': 12,               # -> axis labels\n",
    "    'legend.fontsize': 12,              # -> legends\n",
    "    'font.family': 'serif',             # -> font family  \n",
    "    'font.sans-serif': 'Times New Roman',\n",
    "    'text.usetex': False,              # Latex plot rendering. If True,your plots will be rendered with Latex. But this needs extra time for rendering\n",
    "     'text.latex.preamble':            # LaTeX preamble\n",
    "         r'\\usepackage{mathptmx}'\n",
    "         #... more packages if needed\n",
    "})\n",
    "####################\n",
    "\"\"\" Here u can also use an other matplotlib style, like ggplot\"\"\"\n",
    "#plt.style.use('ggplot') # You can choose ure matplotlib style"
   ]
  },
  {
   "attachments": {},
   "cell_type": "markdown",
   "metadata": {},
   "source": [
    "# If you prefere plotstyle like Origin use the following code:"
   ]
  },
  {
   "cell_type": "code",
   "execution_count": 18,
   "metadata": {},
   "outputs": [],
   "source": [
    "##### \"\"\"\" For Plotstyle like Origin:\n",
    "from matplotlib import  cycler\n",
    "plt.rcParams['font.family'] = 'sans-serif'\n",
    "plt.rcParams['font.sans-serif'] = ['Arial', 'Helvetica', 'Verdana', 'DejaVu Sans']\n",
    "plt.rcParams['font.size'] = 15\n",
    "plt.rcParams['axes.linewidth'] = 1.1\n",
    "plt.rcParams['axes.labelpad'] = 5.0\n",
    "plot_color_cycle = cycler('color', [ '0000FE', 'FE0000', '008001', 'FD8000', '8c564b', 'e377c2', '7f7f7f', 'bcbd22', '17becf','000000'])\n",
    "plt.rcParams['axes.prop_cycle'] = plot_color_cycle\n"
   ]
  },
  {
   "attachments": {},
   "cell_type": "markdown",
   "metadata": {},
   "source": [
    "# Analytic tools\n",
    "## ReferenceCalculator class \n",
    "The ReferenceCalculator class includes a list of different reference potentials and a reference_difference function. This can be used to calculate the difference between two reference potentials. The reference_difference function is an interactive calculator."
   ]
  },
  {
   "cell_type": "code",
   "execution_count": 5,
   "metadata": {},
   "outputs": [
    {
     "name": "stdout",
     "output_type": "stream",
     "text": [
      "Reference              Potential (V)\n",
      "-------------------  ---------------\n",
      "SHE                           0\n",
      "RHE                          -0.0592\n",
      "Calomel (sat. KCl)            0.241\n",
      "Calomel (3.5 M KCl)           0.25\n",
      "Calomel (1 M KCl)             0.28\n",
      "Calomel (0.1 M KCl)           0.334\n",
      "Ag/AgCl (sat. KCl)            0.199\n",
      "Ag/AgCl (3.5 M KCl)           0.205\n",
      "Hg/HgO (1 M KOH)              0.14\n",
      "Hg/HgO (0.1 M KOH)            0.165\n",
      "Fc/Fc+                        0.4\n"
     ]
    },
    {
     "data": {
      "application/vnd.jupyter.widget-view+json": {
       "model_id": "4f2e89ec63644ef285d58b5341c74457",
       "version_major": 2,
       "version_minor": 0
      },
      "text/plain": [
       "interactive(children=(Dropdown(description='old_reference', index=6, options=('SHE', 'RHE', 'Calomel (sat. KCl…"
      ]
     },
     "metadata": {},
     "output_type": "display_data"
    }
   ],
   "source": [
    "calculator=ReferenceCalculator()\n",
    "calculator.reference_list()\n",
    "calculator.reference_difference()"
   ]
  },
  {
   "attachments": {},
   "cell_type": "markdown",
   "metadata": {},
   "source": [
    "### Chronopotentiometry(experiment_list,add_potential_value=None,new_reference_name=None,change_reference=False)\n",
    "This class specifically requires a list of Chronopotentiometry experiments as input. For example, you can pass in [0, 1] to indicate using the first and second experiments that you defined earlier. By setting change_reference=True and specifying a value in add_potential_value, you can conveniently adjust your reference and perform calculations in the new reference scale. Additionally, you have the option to customize the label of your y-axis by defining new_reference_name. It's important to note that this functionality only works when change_reference=True."
   ]
  },
  {
   "attachments": {},
   "cell_type": "markdown",
   "metadata": {},
   "source": [
    "The CP class has the following functions:\n",
    "- quick_plot() -> shows all relevant data: $E$ vs time, $I$ vs. time and $E$ of the mess cell vs time. It is only to check if your data looks good or not\n",
    "- plot() -> return a plot $E$ vs time. \n",
    "- end_value()\n",
    "- end_value_fit()"
   ]
  },
  {
   "attachments": {},
   "cell_type": "markdown",
   "metadata": {},
   "source": [
    "To determine the last potential, you have two options:\n",
    "\n",
    "Using end_value(): This function returns the average of the last 75 values of your measurement by default. However, you can also specify a different range, up to the last 200 values, based on your choice. This method is suitable for general measurements.\n",
    "\n",
    "Using end_value_fit(): This alternative method determines the last potential through a fit function. It can be particularly useful for handling oscillating measurement data or cases where a fit provides a more accurate representation of the last potential.\n",
    "\n",
    "By utilizing either end_value() or end_value_fit(), you can determine the last potential in your measurement based on your specific needs and the characteristics of your data."
   ]
  },
  {
   "attachments": {},
   "cell_type": "markdown",
   "metadata": {},
   "source": [
    "# ChronoAmperometry class/ ChronoAmperometry(metadata,current_density=False)\n",
    "This class is very similar to the ChronoPotentiometry class it has the same input but another attribute current_density=False. By setting this on True you will be able to work with the current density instead of the current."
   ]
  },
  {
   "attachments": {},
   "cell_type": "markdown",
   "metadata": {},
   "source": [
    "The CA class has the following functions:\n",
    "- plot(save=False,label=False) -> return a plot $I$ vs time. It can be saved by setting save=True. The x and y labels can also be changed with label=True\n",
    "- end_value()\n",
    "- end_value_fit()"
   ]
  },
  {
   "attachments": {},
   "cell_type": "markdown",
   "metadata": {},
   "source": [
    "# CyclicVoltammetry class\n",
    "## CyclicVoltammetry(metadata,[cycles]=None,change_reference=False,current_density=False)\n",
    "The CyclicVoltammetry class is for Cyclic Voltammetry and needs also a metadata as input. An optional input are the cycles as a list. If you don't give a cycle as input then all cycles will be used. It has also the change_reference and current_density attributes as previously mentioned. The functions are:\n",
    "- plot(legendposition(x,y),save=False,label=False)\n",
    "- peaks(range=None) # By default it will be used the whole electrochemical windows, but you can put a range here.\n",
    "- integration() # This integrates the for- and back cycle separately\n"
   ]
  },
  {
   "attachments": {},
   "cell_type": "markdown",
   "metadata": {},
   "source": [
    "# CV Interactive"
   ]
  },
  {
   "attachments": {},
   "cell_type": "markdown",
   "metadata": {},
   "source": [
    "# CV Datamodel"
   ]
  },
  {
   "cell_type": "code",
   "execution_count": 14,
   "metadata": {},
   "outputs": [],
   "source": [
    "\n",
    "class CyclicVoltammetry:\n",
    "    def __init__(self,experiment,e_chem=e_chem,cycles=None,add_potential_value=None,new_reference_name=None,current_density=False,change_reference=False):\n",
    "        if e_chem.experiments[experiment].type==\"CV\"  and e_chem.experiments[experiment].filename.endswith(\".csv\"):\n",
    "            self.df = pd.read_csv(e_chem.experiments[experiment].filename,header=5,skipfooter=1,engine=\"python\")#\n",
    "        elif e_chem.experiments[experiment].type==\"CV\"  and e_chem.experiments[experiment].filename.endswith(\".xlsx\"):\n",
    "            self.df=pd.read_excel(e_chem.experiments[experiment].filename,header=1)\n",
    "        else:\n",
    "            print(\"This is not a CV data\")  \n",
    "        self.total_cycles=len(self.df.columns) // 2\n",
    "        self.all_cycles_list= [i for i in range(1,self.total_cycles+1)]\n",
    "        self.cycles= cycles if cycles is not None else self.all_cycles_list\n",
    "        self.electrolyte= f\"{e_chem.experiments[experiment].electrolyte.conducting_salt_concentration}  {e_chem.experiments[experiment].electrolyte.conducting_salt_concentration_unit} {e_chem.experiments[experiment].electrolyte.conducting_salt}  {e_chem.experiments[experiment].electrolyte.solvent}\"\n",
    "        self.name= e_chem.experiments[experiment].name \n",
    "        self.substrate= e_chem.experiments[experiment].electrode_setup.working_electrode\n",
    "        self.scan_rate= f\"{e_chem.experiments[experiment].analysis.cv.scan_rate} {e_chem.experiments[experiment].analysis.cv.scan_rate_unit}\"\n",
    "        self.reference = e_chem.experiments[experiment].electrode_setup.reference_electrode if e_chem.experiments[experiment].electrode_setup.reference_electrode is not None else \"Ag/AgCl\"\n",
    "        mapping_dict={\"cm^2\":\"cm$^2$\",\n",
    "                      \"mm^2\":\"mm$^2$\"}\n",
    "        area_unit=mapping_dict[e_chem.experiments[experiment].electrode_setup.working_electrode_area_unit]\n",
    "        self.E = [\"E\" for i in range(self.total_cycles)]\n",
    "        self.I = [\"I\" for i in range(self.total_cycles)]\n",
    "        self.df.columns = [name for pair in zip(self.E, self.I) for name in pair]\n",
    "        self.num_cycles = int(self.df.shape[1] / 2)\n",
    "        self.cycle_df = np.array_split(self.df, self.num_cycles, axis=1)\n",
    "        self.cycles = [cycle -1 for cycle in self.cycles]\n",
    "        self.experiment=experiment\n",
    "        new_reference_name=new_reference_name if new_reference_name is not None else \"Fc/Fc$^{+}$\"\n",
    "        if change_reference:\n",
    "            delta_E=add_potential_value\n",
    "            self.reference=new_reference_name\n",
    "            for df in self.cycle_df:\n",
    "                df['E'] = df['E'] + delta_E\n",
    "        self.xlabel= f\"$E$ vs. {self.reference}  (V)\"\n",
    "        self.ylabel= r\"$I$  ($\\mathrm{\\mu}$A)\" ### \\textmu if latex rendering\n",
    "        if current_density:\n",
    "            self.ylabel=f\"$J$ ($\\mathrm{{\\mu}}$A / {area_unit})\"\n",
    "            for df in self.cycle_df:\n",
    "                df[\"I\"] = df[\"I\"] / e_chem.experiments[experiment].electrode_setup.working_electrode_area\n",
    "    def plot(self):\n",
    "        xlabel=self.xlabel\n",
    "        ylabel=self.ylabel\n",
    "        if e_chem.experiments[self.experiment].electrolyte.solvent==\"H$_2$O\":\n",
    "            annotate_text=f\"{self.electrolyte}/pH={e_chem.experiments[self.experiment].electrolyte.pH}/{self.substrate}\\n$v$={self.scan_rate}\"\n",
    "        else:\n",
    "            annotate_text=f\"{self.electrolyte}/{self.substrate}\\n$v$={self.scan_rate}\"\n",
    "        def interactive(xlabel=xlabel, ylabel=ylabel,savename=\"CV_plot.pdf\",text_xcoord=0.7,text_ycoord=0.05,annotate_text=widgets.Textarea(value=annotate_text),save=False,annotate=True,legend=True,arrow=True,y_arrow_position=self.cycle_df[0]['I'][0]+2,arrow_end=15): #\n",
    "            fig, ax = plt.subplots()\n",
    "            for i in self.cycles: \n",
    "                ax.plot(self.cycle_df[i][\"E\"],self.cycle_df[i][\"I\"],label=\"Cycle: {}\".format(i+1))\n",
    "                ax.set_xlabel(xlabel)\n",
    "                ax.set_ylabel(ylabel)\n",
    "            if legend:\n",
    "                ax.legend(loc=\"best\",frameon=False)\n",
    "           \n",
    "            if annotate:\n",
    "                ax.annotate(annotate_text, xy=(text_xcoord,text_ycoord), xycoords=\"axes fraction\")\n",
    "            if arrow:\n",
    "                self.cycle_df[0]['E'] = self.cycle_df[0]['E'].astype(float)\n",
    "                self.cycle_df[0]['I'] = self.cycle_df[0]['I'].astype(float)\n",
    "                ax.arrow(self.cycle_df[0]['E'][0],y_arrow_position, dx=self.cycle_df[0]['E'][arrow_end]-self.cycle_df[0]['E'][0], dy=0, head_width=(self.cycle_df[0]['I'].max()--self.cycle_df[0]['I'].min())/10, head_length=(self.cycle_df[0]['E'].max()-self.cycle_df[0]['E'].min())/12, fc='black', ec='black')\n",
    "            if save:\n",
    "                fig.savefig(\"plots/\" + savename,bbox_inches='tight')\n",
    "        widgets.interact(interactive,text_xcoord=(0,1.2,0.05),text_ycoord=(0,1.2,0.05),y_arrow_position=(self.cycle_df[0]['I'].min(),self.cycle_df[0]['I'].max()),arrow_end=(1,100,1))\n",
    "    def peaks(self):\n",
    "        x_max = self.cycle_df[0]['E'].max()\n",
    "        x_min = self.cycle_df[0]['E'].min()\n",
    "        xlabel=self.xlabel\n",
    "        ylabel=self.ylabel\n",
    "        def interactive(E_Min=x_min,E_Max=x_max,vertex_line=False, E_hwp_average=False,savename=\"CV_peaks.pdf\",save=False): \n",
    "            E_min=[]\n",
    "            E_max=[]\n",
    "            E_hwp=[]\n",
    "            E_hwp_mean=[]\n",
    "            Cycles=[]\n",
    "            I_max=[]\n",
    "            I_min=[]\n",
    "            I_vertex_list=[]\n",
    "            for i in self.cycles:\n",
    "                fig, ax=plt.subplots()\n",
    "                ax.set_xlabel(xlabel)\n",
    "                ax.set_ylabel(ylabel)\n",
    "                ax.plot(self.cycle_df[i][\"E\"],self.cycle_df[i][\"I\"],label=\"Cycle: {}\".format(i+1))\n",
    "                Cycles.append(\"Cycle: {}\".format(i+1))\n",
    "                indices = np.where((self.cycle_df[i][\"E\"] >= E_Min) & (self.cycle_df[i][\"E\"] <= E_Max))[0]\n",
    "                max_index = indices[np.argmax(self.cycle_df[i][\"I\"][indices])]\n",
    "                pot_at_max = self.cycle_df[i][\"E\"][max_index]\n",
    "                current_at_max = self.cycle_df[i][\"I\"][max_index]\n",
    "                min_index = indices[np.argmin(self.cycle_df[i][\"I\"][indices])]\n",
    "                pot_at_min = self.cycle_df[i][\"E\"][min_index]\n",
    "                current_at_min = self.cycle_df[i][\"I\"][min_index]\n",
    "                max_E= np.argmax(self.cycle_df[i][\"E\"])\n",
    "                min_E= np.argmin(self.cycle_df[i][\"E\"])\n",
    "                I_at_max_E=self.cycle_df[i][\"I\"][max_E]\n",
    "                I_at_min_E=self.cycle_df[i][\"I\"][min_E]\n",
    "                I_start=self.cycle_df[i][\"I\"][0]\n",
    "                ax.axvline(x=(pot_at_max+pot_at_min)/2 , color='red', linestyle='--',linewidth=2)\n",
    "                ax.axvline(x=pot_at_min , color='darkgreen', linestyle=':',linewidth=2)\n",
    "                ax.axvline(x=pot_at_max , color='orange', linestyle=':')\n",
    "                ax.legend(frameon=False)\n",
    "                if self.cycle_df[0][\"E\"][0]< self.cycle_df[0][\"E\"][10]:\n",
    "                    I_vertex=I_at_max_E\n",
    "                else:\n",
    "                    I_vertex=I_at_min_E\n",
    "                E_max.append(pot_at_max)\n",
    "                E_min.append(pot_at_min)\n",
    "                E_hwp.append((pot_at_max+pot_at_min)/2 )\n",
    "                average_hwp = np.average(E_hwp)\n",
    "                I_min.append(current_at_min)\n",
    "                I_max.append(current_at_max)\n",
    "                I_vertex_list.append(I_vertex)\n",
    "                if vertex_line:\n",
    "                    ax.axhline(y=I_vertex , color='black', linestyle='-')\n",
    "            if E_hwp_average:\n",
    "                print(average_hwp)\n",
    "            self.df_peaks = pd.DataFrame(list(zip(Cycles,E_min,I_min,E_max,I_max,E_hwp,I_vertex_list)), columns=[\"Cycles\",'E_at_min',\"I min\",'E_at_max',\"I max\",\"E1/2\",\"I_vertex\"])  \n",
    "            if save:\n",
    "                fig.savefig(\"plots/\" +\"Cycle{}_\".format(i+1)+savename)\n",
    "\n",
    "            return self.df_peaks\n",
    "        widgets.interact(interactive,E_Min=(x_min,x_max),E_Max=(x_min,x_max))\n",
    "        \n",
    "        return \n",
    "    def integration(self):\n",
    "        x_max = self.cycle_df[0]['E'].max()\n",
    "        x_min = self.cycle_df[0]['E'].min()\n",
    "        xlabel=self.xlabel\n",
    "        ylabel=self.ylabel\n",
    "        def interactive(E_min=(x_min-0.1,x_max,0.01),E_max=(x_min,x_max,0.01),E_min_back=(x_min-0.1,x_max,0.01),E_max_back=(x_min,x_max,0.01),savename=\"integration_plot.pdf\",save=False):\n",
    "            Cycles=[]\n",
    "            Integral_forward=[]\n",
    "            Integral_backward=[]\n",
    "            for i in self.cycles:\n",
    "                    Cycles.append(\"Cycle: {}\".format(i+1)) \n",
    "                    fig,ax=plt.subplots()\n",
    "                    df=self.cycle_df[i]\n",
    "                    half= len(df)//2\n",
    "                    forward_cycle=df.iloc[:half,:]\n",
    "                    backward_cycle=df.iloc[half:,:]\n",
    "                    forward_cycle_peak = forward_cycle[(forward_cycle['E'] >= E_min) & (forward_cycle['E'] <= E_max)]\n",
    "                    #new regression\n",
    "                    start_value = forward_cycle_peak.iloc[0]['E']\n",
    "                    end_value = forward_cycle_peak.iloc[-1]['E']\n",
    "                    forward_slope = (forward_cycle_peak.iloc[-1]['I'] - forward_cycle_peak.iloc[0]['I']) / (end_value - start_value)\n",
    "                    intercept = forward_cycle_peak.iloc[0]['I'] - forward_slope * start_value\n",
    "                    def line_func(x):\n",
    "                        return forward_slope * x + intercept\n",
    "                    y_pred1 = line_func(forward_cycle_peak['E'].values)\n",
    "                    area_forward = trapz(forward_cycle_peak['I'] - y_pred1.flatten(), forward_cycle_peak['E'])\n",
    "                    ax.plot(forward_cycle_peak['E'], y_pred1.flatten(),color=\"black\", linestyle='--')\n",
    "                    #ax.fill_between(forward_cycle_peak['E'], forward_cycle_peak['I'], y_pred1.flatten(), where=(forward_cycle_peak['I'] > y_pred1.flatten()), alpha=0.3)\n",
    "                    ax.fill_between(forward_cycle_peak['E'], forward_cycle_peak['I'], y_pred1.flatten(), alpha=0.3)\n",
    "                    backward_cycle_peak = backward_cycle[(backward_cycle['E'] >= E_min_back) & (backward_cycle['E'] <= E_max_back)]\n",
    "                    start_value_back = backward_cycle_peak.iloc[0]['E']\n",
    "                    end_value_back = backward_cycle_peak.iloc[-1]['E']\n",
    "                    backward_slope = (backward_cycle_peak.iloc[-1]['I'] - backward_cycle_peak.iloc[0]['I']) / (end_value_back - start_value_back)\n",
    "                    intercept_back = backward_cycle_peak.iloc[0]['I'] - backward_slope * start_value_back\n",
    "                    def line_func_back(x):\n",
    "                        return backward_slope * x + intercept_back\n",
    "                    y_pred2 = line_func_back(backward_cycle_peak['E'].values)\n",
    "                    area_backward = trapz(backward_cycle_peak['I'] - y_pred2.flatten(), backward_cycle_peak['E'])\n",
    "                    ax.plot(backward_cycle_peak['E'], y_pred2.flatten(), color='black', linestyle='--')\n",
    "                    ax.fill_between(backward_cycle_peak['E'], backward_cycle_peak['I'], y_pred2.flatten(), where=(backward_cycle_peak['I'] > y_pred2.flatten()), alpha=0.3)\n",
    "                    backward_cycle_peak = backward_cycle[(backward_cycle['E'] >= E_min_back) & (backward_cycle['E'] <= E_max_back)]\n",
    "                    start_value_back = backward_cycle_peak.iloc[0]['E']\n",
    "                    end_value_back = backward_cycle_peak.iloc[-1]['E']\n",
    "                    backward_slope = (backward_cycle_peak.iloc[-1]['I'] - backward_cycle_peak.iloc[0]['I']) / (end_value_back - start_value_back)\n",
    "                    intercept_back = backward_cycle_peak.iloc[0]['I'] - backward_slope * start_value_back\n",
    "\n",
    "                    ax.fill_between(backward_cycle_peak['E'], backward_cycle_peak['I'], y_pred2.flatten(), alpha=0.3)# where=(backward_cycle_peak['I'] < y_pred2.flatten())\n",
    "   \n",
    "                    Integral_forward.append(area_forward)\n",
    "                    Integral_backward.append(area_backward)\n",
    "\n",
    "                    ax.plot(df[\"E\"],df[\"I\"],label=\"Cycle: {}\".format(i+1))\n",
    "                    ax.set_xlabel(xlabel)\n",
    "                    ax.set_ylabel(ylabel)\n",
    "                    ax.legend(frameon=False)\n",
    "                    if save:\n",
    "                        fig.savefig(\"plots/\" +\"Cycle{}_\".format(i+1)+savename)\n",
    "\n",
    "                    df= pd.DataFrame(zip(Cycles,Integral_forward,Integral_backward), columns=[\"Cycles\",\"Integration Area forward\",\"Integration Area backward\"])\n",
    "\n",
    "            return df\n",
    "\n",
    "        widgets.interact(interactive)\n",
    "    def ferrocene_reference(self,experiment2,cycles2=None):\n",
    "        if e_chem.experiments[experiment2].type==\"CV\"  and e_chem.experiments[experiment2].filename.endswith(\".csv\"):\n",
    "            self.df2 = pd.read_csv(e_chem.experiments[experiment2].filename,header=5,skipfooter=1,engine=\"python\")\n",
    "        elif e_chem.experiments[experiment2].type==\"CV\"  and e_chem.experiments[experiment2].filename.endswith(\".xlsx\"):\n",
    "            self.df2=pd.read_excel(e_chem.experiments[experiment2].filename,header=1)\n",
    "        self.total_cycles2=len(self.df2.columns) // 2\n",
    "        self.all_cycles_list2= [i for i in range(1,self.total_cycles2+1)]\n",
    "        self.cycles2= cycles2 if cycles2 is not None else self.all_cycles_list2\n",
    "        self.E2 = [\"E\" for i in range(self.total_cycles)]\n",
    "        self.I2 = [\"I\" for i in range(self.total_cycles)]\n",
    "        self.df2.columns = [name for pair in zip(self.E2, self.I2) for name in pair]\n",
    "        self.num_cycles2 = int(self.df2.shape[1] / 2)\n",
    "        self.cycle_df2 = np.array_split(self.df2, self.num_cycles2, axis=1)\n",
    "        self.cycles2 = [cycle -1 for cycle in self.cycles2]\n",
    "        x_max_sec = self.cycle_df2[0]['E'].max()\n",
    "        x_min_sec = self.cycle_df2[0]['E'].min()\n",
    "\n",
    "        x_max = self.cycle_df[0]['E'].max()\n",
    "        x_min = self.cycle_df[0]['E'].min()\n",
    "        xlabel=self.xlabel\n",
    "        ylabel=self.ylabel\n",
    "        def interactive(E_min_Fc=0.2,E_max_Fc=0.6,sample_point= 'half-wave potential',E_min_sample=x_min-0.45,E_max_sample=x_max-0.4,E_min_sec=x_min_sec,E_max_sec=x_max_sec): \n",
    "            E_min_ferrocene=[]\n",
    "            E_max_ferrocene=[]\n",
    "            E_hwp_ferrocene=[]\n",
    "            E_min_sample_list=[]\n",
    "            E_max_sample_list=[]\n",
    "            E_hwp_sample_list=[]\n",
    "            E_min_sec_list=[]\n",
    "            E_max_sec_list=[]\n",
    "            E_hwp_sec_list=[]\n",
    "            delta_E_min_list=[]\n",
    "            delta_E_max_list=[]\n",
    "            delta_E_hwp_list=[]\n",
    "            Cycles=[]\n",
    "            self.cycle_df_ferrocene = copy.deepcopy(self.cycle_df)\n",
    "            for i in self.cycles:\n",
    "                fig, ax=plt.subplots()\n",
    "                ax.set_xlabel(xlabel)\n",
    "                ax.set_ylabel(ylabel)\n",
    "                ax.set_title(\"measurement without ferrocene calibration \")\n",
    "                ax.plot(self.cycle_df[i][\"E\"],self.cycle_df[i][\"I\"],label=\"Cycle: {}\".format(i+1))\n",
    "                Cycles.append(\"Cycle: {}\".format(i+1))\n",
    "                indices = np.where((self.cycle_df[i][\"E\"] >= E_min_Fc) & (self.cycle_df[i][\"E\"] <= E_max_Fc))[0]\n",
    "                max_index = indices[np.argmax(self.cycle_df[i][\"I\"][indices])]\n",
    "                pot_at_max = self.cycle_df[i][\"E\"][max_index]\n",
    "                current_at_max = self.cycle_df[i][\"I\"][max_index]\n",
    "                min_index = indices[np.argmin(self.cycle_df[i][\"I\"][indices])]\n",
    "                pot_at_min = self.cycle_df[i][\"E\"][min_index]\n",
    "                current_at_min = self.cycle_df[i][\"I\"][min_index]\n",
    "                ax.axvline(x=(pot_at_max+pot_at_min)/2 , color='red', linestyle='--',linewidth=2)\n",
    "                ax.axvline(x=pot_at_min , color='darkgreen', linestyle=':',linewidth=2)\n",
    "                ax.axvline(x=pot_at_max , color='orange', linestyle=':')\n",
    "                ax.legend(frameon=False)\n",
    "                E_max_ferrocene.append(pot_at_max)\n",
    "                E_min_ferrocene.append(pot_at_min)\n",
    "                E_hwp_ferrocene.append((pot_at_max+pot_at_min)/2 )\n",
    "                average_hwp_ferrocene = np.average(E_hwp_ferrocene)\n",
    "                for df in self.cycle_df_ferrocene:\n",
    "                    df['E'] = df['E'] - ((pot_at_max+pot_at_min)/2)\n",
    "                    \n",
    "\n",
    "             \n",
    "           \n",
    "\n",
    "            for i in self.cycles:\n",
    "                fig, ax=plt.subplots()\n",
    "                ax.set_xlabel(\"$E$ vs. Fc/Fc$^+$ (V)\")\n",
    "                ax.set_ylabel(ylabel)\n",
    "                ax.set_title(\"measurement with ferrocene calibration \")\n",
    "                ax.plot(self.cycle_df_ferrocene[i][\"E\"],self.cycle_df_ferrocene[i][\"I\"],label=\"Cycle: {}\".format(i+1))\n",
    "\n",
    "                ax.legend(frameon=False)\n",
    "                indices_sample = np.where((self.cycle_df_ferrocene[i][\"E\"] >= E_min_sample) & (self.cycle_df_ferrocene[i][\"E\"] <= E_max_sample))[0]\n",
    "                max_index_sample = indices_sample[np.argmax(self.cycle_df_ferrocene[i][\"I\"][indices_sample])]\n",
    "                pot_at_max_sample = self.cycle_df_ferrocene[i][\"E\"][max_index_sample]\n",
    "                current_at_max_sample = self.cycle_df_ferrocene[i][\"I\"][max_index_sample]\n",
    "                min_index_sample = indices_sample[np.argmin(self.cycle_df_ferrocene[i][\"I\"][indices_sample])]\n",
    "                pot_at_min_sample = self.cycle_df_ferrocene[i][\"E\"][min_index_sample]\n",
    "                current_at_min_sample = self.cycle_df_ferrocene[i][\"I\"][min_index_sample]\n",
    "                E_max_sample_list.append(pot_at_max_sample)\n",
    "                E_min_sample_list.append(pot_at_min_sample)\n",
    "                E_hwp_sample_list.append((pot_at_max_sample+pot_at_min_sample)/2 )\n",
    "                if sample_point=='half-wave potential':\n",
    "                    ax.axvline(x=(pot_at_max_sample+pot_at_min_sample)/2 , color='red', linestyle='--',linewidth=2)\n",
    "                    \n",
    "                if sample_point=='peak minimum':\n",
    "                    ax.axvline(x=pot_at_min_sample , color='darkgreen', linestyle=':',linewidth=2)\n",
    "                if sample_point=='peak maximum':\n",
    "                    ax.axvline(x=pot_at_max_sample , color='orange', linestyle=':')\n",
    "            \n",
    "            for i in self.cycles:\n",
    "                fig, ax=plt.subplots()\n",
    "                ax.set_xlabel(xlabel)\n",
    "                ax.set_ylabel(ylabel)\n",
    "                ax.set_title(\"Second measurement\")\n",
    "                ax.plot(self.cycle_df2[i][\"E\"],self.cycle_df2[i][\"I\"],label=\"Cycle: {}\".format(i+1))\n",
    "                ax.legend(frameon=False)\n",
    "                indices_sec = np.where((self.cycle_df2[i][\"E\"] >= E_min_sec) & (self.cycle_df2[i][\"E\"] <= E_max_sec))[0]\n",
    "                max_index_sec = indices_sec[np.argmax(self.cycle_df2[i][\"I\"][indices_sec])]\n",
    "                pot_at_max_sec = self.cycle_df2[i][\"E\"][max_index_sec]\n",
    "                #current_at_max_sec = self.cycle_df2[i][\"I\"][max_index_sec]\n",
    "                min_index_sec = indices_sec[np.argmin(self.cycle_df2[i][\"I\"][indices_sec])]\n",
    "                pot_at_min_sec = self.cycle_df2[i][\"E\"][min_index_sec]\n",
    "                #current_at_min_sec = self.cycle_df2[i][\"I\"][min_index_sec]\n",
    "                E_max_sec_list.append(pot_at_max_sec)\n",
    "                E_min_sec_list.append(pot_at_min_sec)\n",
    "                E_hwp_sec_list.append((pot_at_max_sec+pot_at_min_sec)/2 )\n",
    "                delta_E_min_list.append(pot_at_min_sec-pot_at_min_sample)\n",
    "                delta_E_max_list.append(pot_at_max_sec-pot_at_max_sample)\n",
    "                delta_E_hwp_list.append(((pot_at_max_sec+pot_at_min_sec)/2)-((pot_at_max_sample+pot_at_min_sample)/2))\n",
    "                if sample_point=='half-wave potential':\n",
    "                    ax.axvline(x=(pot_at_max_sec+pot_at_min_sec)/2 , color='red', linestyle='--',linewidth=2)\n",
    "                if sample_point=='peak minimum':\n",
    "                    ax.axvline(x=pot_at_min_sec , color='darkgreen', linestyle=':',linewidth=2)\n",
    "                if sample_point=='peak maximum':\n",
    "                    ax.axvline(x=pot_at_max_sec , color='orange', linestyle=':')\n",
    "            if sample_point=='peak minimum':\n",
    "                self.df_reference = pd.DataFrame(list(zip(Cycles,E_min_sample_list,E_min_sec_list,delta_E_min_list)), columns=[\"Cycles \",\"E_at_min/Fc measurement\",\"E_at_min/without Fc\",\"Delta_E\"])\n",
    "            if sample_point=='peak maximum':\n",
    "                print(\"peak max\")\n",
    "                self.df_reference = pd.DataFrame(list(zip(Cycles,E_max_sample_list,E_max_sec_list,delta_E_max_list)), columns=[\"Cycles\",\"E_at_max/Fc measurement\",\"E_at_max/Fc measurement/without Fc\",\"Delta_E\"])\n",
    "            if sample_point=='half-wave potential':\n",
    "                self.df_reference = pd.DataFrame(list(zip(Cycles,E_hwp_sample_list,E_hwp_sec_list,delta_E_hwp_list)), columns=[\"Cycles\",\"E1/2/Fc measurement\",\"E1/2/without Fc measurement\",\"Delta_E\"])\n",
    "            return self.df_reference\n",
    "        widgets.interact(interactive,E_min_Fc=(x_min,x_max,0.05),E_max_Fc=(x_min,x_max,0.05),E_min_sample=(x_min-0.45,x_max-0.4,0.05),E_max_sample=(x_min-0.45,x_max-0.3,0.05),E_min_sec=(x_min_sec,x_max_sec,0.05),E_max_sec=(x_min_sec,x_max_sec,0.05),sample_point= ['peak minimum', 'peak maximum', 'half-wave potential'])\n",
    "cv=CyclicVoltammetry(experiment=5,cycles=[3,4],add_potential_value=None,new_reference_name=None,current_density=False,change_reference=False)\n",
    "#cv.integration()\n",
    "#cv.plot()\n",
    "#cv.peaks()\n",
    "#cv.ferrocene_reference(experiment2=6)\n",
    "#cv.integration()\n"
   ]
  },
  {
   "cell_type": "code",
   "execution_count": 15,
   "metadata": {},
   "outputs": [
    {
     "data": {
      "application/vnd.jupyter.widget-view+json": {
       "model_id": "1c471d76fe0c40369023147e6a023f27",
       "version_major": 2,
       "version_minor": 0
      },
      "text/plain": [
       "interactive(children=(Text(value='$E$ vs. Fc/Fc$^{+}$  (V)', description='xlabel'), Text(value='$J$ ($\\\\mathrm…"
      ]
     },
     "metadata": {},
     "output_type": "display_data"
    }
   ],
   "source": [
    "cv=CyclicVoltammetry(experiment=6,cycles=[1],add_potential_value=-0.360544,change_reference=True,current_density=True)#\n",
    "cv.plot()"
   ]
  },
  {
   "cell_type": "code",
   "execution_count": 11,
   "metadata": {},
   "outputs": [
    {
     "name": "stdout",
     "output_type": "stream",
     "text": [
      "None\n"
     ]
    }
   ],
   "source": [
    "print(e_chem.experiments[4].analysis.cv.cycles)"
   ]
  },
  {
   "cell_type": "code",
   "execution_count": 43,
   "metadata": {},
   "outputs": [
    {
     "data": {
      "application/vnd.jupyter.widget-view+json": {
       "model_id": "45a0b27ff60440209b04b7928523f294",
       "version_major": 2,
       "version_minor": 0
      },
      "text/plain": [
       "interactive(children=(Text(value='$E$ vs. Fc/Fc$^{+}$  (V)', description='xlabel'), Text(value='$J$ ($\\\\mathrm…"
      ]
     },
     "metadata": {},
     "output_type": "display_data"
    }
   ],
   "source": [
    "cv=CyclicVoltammetry(e_chem,6,[1],-0.336484,current_density=True,change_reference=True)\n",
    "cv.plot()\n",
    "#cv.peaks()\n"
   ]
  },
  {
   "cell_type": "code",
   "execution_count": 17,
   "metadata": {},
   "outputs": [
    {
     "data": {
      "application/vnd.jupyter.widget-view+json": {
       "model_id": "0684c2af6fd645198468ebab02ea59e4",
       "version_major": 2,
       "version_minor": 0
      },
      "text/plain": [
       "interactive(children=(FloatSlider(value=-1.49903, description='E_Min', max=0.299962, min=-1.49903), FloatSlide…"
      ]
     },
     "metadata": {},
     "output_type": "display_data"
    }
   ],
   "source": [
    "\n",
    "cv=CyclicVoltammetry(experiment=4,cycles=[1],add_potential_value=None,new_reference_name=None,current_density=False,change_reference=False)\n",
    "cv.peaks()\n",
    "#cv.plot()"
   ]
  },
  {
   "cell_type": "code",
   "execution_count": 12,
   "metadata": {},
   "outputs": [
    {
     "data": {
      "application/vnd.jupyter.widget-view+json": {
       "model_id": "8b002307cef140d8a4c482b1da26c15d",
       "version_major": 2,
       "version_minor": 0
      },
      "text/plain": [
       "interactive(children=(Text(value='$t$ (s)', description='xlabel'), Text(value='$E$ vs. Hg/HgO (V)', descriptio…"
      ]
     },
     "metadata": {},
     "output_type": "display_data"
    }
   ],
   "source": [
    "\n",
    "class Chronopotentiometry:\n",
    "    def __init__(self,e_chem,experiment_list,add_potential_value=None,new_reference_name=None,change_reference=False):\n",
    "        self.reference = e_chem.experiments[experiment_list[0]].electrode_setup.reference_electrode\n",
    "        self.e_chem = e_chem\n",
    "        self.experiment_list=experiment_list\n",
    "        self.df_liste=[]\n",
    "        self.xlabel=f\"$t$ ({e_chem.experiments[experiment_list[0]].analysis.cp.measurement_time_unit})\"\n",
    "        self.ylabel=f\"$E$ vs. {self.reference} ({e_chem.experiments[experiment_list[0]].analysis.cp.measurement_potential_unit})\"\n",
    "        self.induced_current_density=e_chem.experiments[experiment_list[0]].analysis.cp.induced_current[0]/ e_chem.experiments[experiment_list[0]].electrode_setup.working_electrode_area\n",
    "        mapping_dict={\"cm^2\":\"cm$^2$\",\n",
    "                      \"mm^2\":\"mm$^2$\"}\n",
    "        area_unit=mapping_dict[e_chem.experiments[experiment_list[0]].electrode_setup.working_electrode_area_unit]\n",
    "        self.induced_current_density_unit=e_chem.experiments[experiment_list[0]].analysis.cp.induced_current_unit + \"/\"+ area_unit\n",
    "        for experiment in range(0,len(e_chem.experiments)):\n",
    "            if e_chem.experiments[experiment].type==\"CP\":\n",
    "                df = pd.read_csv(e_chem.experiments[experiment].filename, sep=\"\\t\", header=56, skiprows=[57], usecols=[2,3,4,5],names=[\"t\",\"E\",\"I\",\"V\"])\n",
    "                self.df_liste.append(df)\n",
    "            else:\n",
    "                self.df_liste.append(None)\n",
    "        if change_reference:\n",
    "            self.delta_E=add_potential_value\n",
    "            self.reference=new_reference_name\n",
    "            self.ylabel=f\"$E$ vs. {self.reference} ({e_chem.experiments[experiment_list[0]].analysis.cp.measurement_potential_unit})\"\n",
    "            for df in self.df_liste:\n",
    "                if df is not None:\n",
    "                    df['E'] = df['E'] + self.delta_E\n",
    "        else:\n",
    "            pass\n",
    "    def quick_plot(self):\n",
    "        for experiment in self.experiment_list:\n",
    "            f, (ax,ax2,ax3) = plt.subplots(3,1)\n",
    "            f.suptitle(e_chem.experiments[experiment].name)\n",
    "            ax.plot(self.df_liste[experiment][\"t\"], self.df_liste[experiment][\"E\"])\n",
    "            ax2.plot(self.df_liste[experiment][\"t\"], self.df_liste[experiment][\"I\"])\n",
    "            ax3.plot(self.df_liste[experiment][\"t\"], self.df_liste[experiment][\"V\"])\n",
    "            ax.set_ylabel(\"$E$ vs Ref (V)\")\n",
    "            ax2.set_ylabel(\"$I$ (A)\")\n",
    "            ax3.set_ylabel(\"$V$ (V)\")\n",
    "            ax3.set_xlabel(\"$t$ (s)\")\n",
    "            ax.get_xaxis().set_visible(False)\n",
    "            ax2.get_xaxis().set_visible(False)\n",
    "            \n",
    "    def plot(self):\n",
    "        if e_chem.experiments[self.experiment_list[0]].electrolyte.solvent==\"H$_2$O\":\n",
    "            annotate_text=f\"{e_chem.experiments[self.experiment_list[0]].electrolyte.conducting_salt_concentration} {e_chem.experiments[self.experiment_list[0]].electrolyte.conducting_salt_concentration_unit} {e_chem.experiments[self.experiment_list[0]].electrolyte.conducting_salt} {e_chem.experiments[self.experiment_list[0]].electrolyte.solvent} pH={e_chem.experiments[self.experiment_list[0]].electrolyte.pH} \\n$J$={self.induced_current_density} {self.induced_current_density_unit}\"\n",
    "        else:\n",
    "            annotate_text=f\"{e_chem.experiments[self.experiment_list[0]].electrolyte.conducting_salt_concentration} {e_chem.experiments[self.experiment_list[0]].electrolyte.conducting_salt_concentration_unit} {e_chem.experiments[self.experiment_list[0]].electrolyte.conducting_salt} {e_chem.experiments[self.experiment_list[0]].electrolyte.solvent} \\n$J$={self.induced_current_density} {self.induced_current_density_unit}\"\n",
    "        def update_plot(xlabel=self.xlabel, ylabel=self.ylabel,savename=\"CP_plot.pdf\",xcoord=(0,1.2,0.05),ycoord=(0,1.2,0.05),annotate_text=widgets.Textarea(value=annotate_text),save=False,annotate=True,legend=True):\n",
    "            fig, ax = plt.subplots() \n",
    "            for experiment in self.experiment_list:\n",
    "                ax.plot(self.df_liste[experiment][\"t\"], self.df_liste[experiment][\"E\"],label=e_chem.experiments[experiment].name)\n",
    "            ax.set_xlabel(xlabel)\n",
    "            ax.set_ylabel(ylabel)\n",
    "            if legend:\n",
    "                ax.legend(loc=\"best\",frameon=False)\n",
    "            if annotate:\n",
    "                ax.annotate(annotate_text,xy=(xcoord,ycoord),xycoords=\"axes fraction\")\n",
    "            if save:\n",
    "                fig.savefig(\"plots/\" + savename,bbox_inches='tight')\n",
    "        widgets.interact(update_plot)\n",
    "\n",
    "    def end_value(self):\n",
    "        def interactive(xlabel=self.xlabel, ylabel=self.ylabel,savename=\"CP_plot.pdf\",last_points=75,save=False):\n",
    "            names=[]\n",
    "            end_values=[] \n",
    "            fig,ax =plt.subplots()\n",
    "            for experiment in self.experiment_list:\n",
    "                last_values = self.df_liste[experiment].tail(last_points)[\"E\"].values[0]\n",
    "                average = last_values.mean()\n",
    "                ax.set_xlabel(xlabel)\n",
    "                ax.set_ylabel(ylabel)\n",
    "                ax.plot(self.df_liste[experiment][\"t\"], self.df_liste[experiment][\"E\"],label=e_chem.experiments[experiment].name)\n",
    "                ax.plot(self.df_liste[experiment][\"t\"], [average] * len(self.df_liste[experiment][\"t\"]), linewidth=3,linestyle='dotted', label=\"{} average\".format(e_chem.experiments[experiment].name))\n",
    "                ax.legend(loc=\"best\",frameon=False)\n",
    "                names.append(e_chem.experiments[experiment].name)\n",
    "                end_values.append(average) \n",
    "                if save:\n",
    "                    fig.savefig(\"plots/\" + savename,bbox_inches='tight') \n",
    "            self.end_value_df = pd.DataFrame(list(zip(names,end_values)), columns=[\"Name\",\"Average\"]) \n",
    "            return  self.end_value_df\n",
    "        widgets.interact(interactive,last_points=(1,200))\n",
    "    def end_value_fit(self):\n",
    "        def exponential_fit(x, a, b, c):\n",
    "            return a * np.exp(-b/2 * x) + c\n",
    "        names=[]\n",
    "        end_values=[]\n",
    "        #ylabel=r\"$I$  ($\\mathrm{\\mu}$A)\" use $\\mathrm{\\mu} if Latex rendering\n",
    "        def interactive(xlabel=self.xlabel, ylabel=self.ylabel,savename=\"CA_plot.pdf\",save=False):\n",
    "            fig,ax =plt.subplots()\n",
    "            for experiment in self.experiment_list:\n",
    "                t_fit = np.linspace(0, self.df_liste[experiment][\"t\"].max(), self.df_liste[experiment].shape[0])\n",
    "                popt, pcov = curve_fit(exponential_fit,self.df_liste[experiment][\"t\"], self.df_liste[experiment][\"E\"])\n",
    "                c=popt[2]\n",
    "                names.append(e_chem.experiments[experiment].name)\n",
    "                end_values.append(c)\n",
    "                ax.set_xlabel(xlabel)\n",
    "                ax.set_ylabel(ylabel)\n",
    "                ax.plot(self.df_liste[experiment][\"t\"], self.df_liste[experiment][\"E\"],label=e_chem.experiments[experiment].name)\n",
    "                ax.plot(t_fit, exponential_fit(t_fit, *popt),linewidth=3,linestyle='dotted', label=\"{} fit\".format(e_chem.experiments[experiment].name))\n",
    "                ax.legend(loc=\"best\",frameon=False)\n",
    "                if save:\n",
    "                    fig.savefig(\"plots/\" + savename,bbox_inches='tight')\n",
    "                self.end_value_fit_df = pd.DataFrame(list(zip(names,end_values)), columns=[\"Name\",\"End value\"])   \n",
    "            return  self.end_value_fit_df\n",
    "        widgets.interact(interactive)\n",
    "\n",
    "cp=Chronopotentiometry(e_chem,experiment_list=[0],add_potential_value=None,new_reference_name=None,change_reference=False)\n",
    "\n",
    "# cp.quick_plot()\n",
    "cp.plot()\n",
    "# cp.end_value()\n",
    "# cp.end_value_fit()"
   ]
  },
  {
   "cell_type": "code",
   "execution_count": 11,
   "metadata": {},
   "outputs": [],
   "source": [
    "#e_chem.experiments[0].electrolyte.solvent\n",
    "cp=Chronopotentiometry(e_chem,experiment_list=[0],add_potential_value=-0.732,new_reference_name=\"RHE\",change_reference=False)\n",
    "\n",
    "#cp.quick_plot()\n",
    "#cp.plot()\n",
    "#cp.end_value()"
   ]
  },
  {
   "cell_type": "code",
   "execution_count": 5,
   "metadata": {},
   "outputs": [
    {
     "data": {
      "text/plain": [
       "'H$_2$O'"
      ]
     },
     "execution_count": 5,
     "metadata": {},
     "output_type": "execute_result"
    }
   ],
   "source": [
    "e_chem.experiments[0].electrolyte.solvent"
   ]
  },
  {
   "cell_type": "code",
   "execution_count": null,
   "metadata": {},
   "outputs": [],
   "source": []
  },
  {
   "cell_type": "code",
   "execution_count": null,
   "metadata": {},
   "outputs": [],
   "source": []
  },
  {
   "cell_type": "code",
   "execution_count": 15,
   "metadata": {},
   "outputs": [
    {
     "data": {
      "application/vnd.jupyter.widget-view+json": {
       "model_id": "a0157b11d5b44ad2b8022dc53a456361",
       "version_major": 2,
       "version_minor": 0
      },
      "text/plain": [
       "interactive(children=(Text(value='$t$ (s)', description='xlabel'), Text(value='$J$ (A/cm$^2$)', description='y…"
      ]
     },
     "metadata": {},
     "output_type": "display_data"
    },
    {
     "data": {
      "application/vnd.jupyter.widget-view+json": {
       "model_id": "416bc3bf063343969426506e4a15a310",
       "version_major": 2,
       "version_minor": 0
      },
      "text/plain": [
       "interactive(children=(Text(value='$t$ (s)', description='xlabel'), Text(value='$J$ (A/cm$^2$)', description='y…"
      ]
     },
     "metadata": {},
     "output_type": "display_data"
    }
   ],
   "source": [
    "\n",
    "class Chronoamperometry:\n",
    "    def __init__(self,experiment_list,current_density=False,e_chem=e_chem):\n",
    "        self.induced_potential= e_chem.experiments[experiment_list[0]].analysis.ca.induced_potential[0]\n",
    "        self.e_chem = e_chem\n",
    "        self.experiment_list=experiment_list\n",
    "        self.df_liste=[]\n",
    "        mapping_dict_current = {\"A\": \"A\",\n",
    "                                \"mA\": \"mA\",\n",
    "                                \"µA\": \"$\\mathrm{\\mu}$A\",   \n",
    "                                \"nA\": \"nA\"}\n",
    "        current_label=mapping_dict_current[e_chem.experiments[experiment_list[0]].analysis.ca.measurement_current_unit]\n",
    "        self.xlabel=f\"$t$ ({e_chem.experiments[experiment_list[0]].analysis.ca.measurement_time_unit})\"\n",
    "        self.ylabel=f\"$I$ ({current_label})\" \n",
    "        mapping_dict={\"cm^2\":\"cm$^2$\",\n",
    "                      \"mm^2\":\"mm$^2$\"}\n",
    "        area_unit=mapping_dict[e_chem.experiments[experiment_list[0]].electrode_setup.working_electrode_area_unit]\n",
    "        for experiment in range(0,len(e_chem.experiments)):\n",
    "            if e_chem.experiments[experiment].type==\"CA\" and e_chem.experiments[experiment].filename.endswith(\".dat\"):\n",
    "                df = pd.read_csv(e_chem.experiments[experiment].filename, sep=\"\\s\", header=0, names=[\"t\", \"I\"],engine=\"python\")\n",
    "                self.df_liste.append(df)\n",
    "            elif e_chem.experiments[experiment].type==\"CA\" and e_chem.experiments[experiment].filename.endswith(\".txt\"):\n",
    "                df=pd.read_csv(e_chem.experiments[experiment].filename,header=0,sep=\";\",decimal=',',usecols=[0,2],names=[\"t\",\"I\"])\n",
    "                self.df_liste.append(df)\n",
    "            elif e_chem.experiments[experiment].type==\"CA\" and e_chem.experiments[experiment].filename.endswith(\".csv\"):\n",
    "                df = pd.read_csv(e_chem.experiments[experiment].filename, sep=\",\", header=4, skipfooter=1, names=[\"t\", \"I\"])\n",
    "                self.df_liste.append(df)\n",
    "            else:\n",
    "                self.df_liste.append(None)\n",
    "                pass \n",
    "        if current_density:\n",
    "            self.ylabel=f\"$J$ ({e_chem.experiments[experiment_list[0]].analysis.ca.measurement_current_unit}/{area_unit})\"\n",
    "            for df in self.df_liste:\n",
    "                if df is not None:\n",
    "                    for experiment in range(len(e_chem.experiments)):\n",
    "                        df[\"I\"] = df[\"I\"] / e_chem.experiments[experiment].electrode_setup.working_electrode_area\n",
    "    def plot(self):\n",
    "        if e_chem.experiments[self.experiment_list[0]].electrolyte.solvent==\"H$_2$O\":\n",
    "            annotate_text=f\"{e_chem.experiments[self.experiment_list[0]].electrolyte.conducting_salt_concentration} {e_chem.experiments[self.experiment_list[0]].electrolyte.conducting_salt_concentration_unit} {e_chem.experiments[self.experiment_list[0]].electrolyte.conducting_salt} {e_chem.experiments[self.experiment_list[0]].electrolyte.solvent} pH={e_chem.experiments[self.experiment_list[0]].electrolyte.pH} \\n$E$={e_chem.experiments[self.experiment_list[0]].analysis.ca.induced_potential[0]} {e_chem.experiments[self.experiment_list[0]].analysis.ca.induced_potential_unit}\"\n",
    "        else:\n",
    "            annotate_text=f\"{e_chem.experiments[self.experiment_list[0]].electrolyte.conducting_salt_concentration} {e_chem.experiments[self.experiment_list[0]].electrolyte.conducting_salt_concentration_unit} {e_chem.experiments[self.experiment_list[0]].electrolyte.conducting_salt} {e_chem.experiments[self.experiment_list[0]].electrolyte.solvent}  \\n$E$={e_chem.experiments[self.experiment_list[0]].analysis.ca.induced_potential[0]} {e_chem.experiments[self.experiment_list[0]].analysis.ca.induced_potential_unit}\"\n",
    "        def interactive(xlabel=self.xlabel, ylabel=self.ylabel,savename=\"CA_plot.pdf\",xcoord=(0,1.2,0.05),ycoord=(0,1.2,0.05),annotate_text=widgets.Textarea(value=annotate_text),save=False,annotate=True,legend=True):\n",
    "            fig, ax = plt.subplots() \n",
    "            for experiment in self.experiment_list:\n",
    "                ax.plot(self.df_liste[experiment][\"t\"], self.df_liste[experiment][\"I\"], label=e_chem.experiments[experiment].name)\n",
    "\n",
    "            ax.set_xlabel(xlabel)\n",
    "            ax.set_ylabel(ylabel)\n",
    "            if legend:\n",
    "                ax.legend(loc=\"best\",frameon=False)\n",
    "            if save:\n",
    "                fig.savefig(\"plots/\" + savename,savename,bbox_inches='tight')\n",
    "            if annotate:\n",
    "                ax.annotate(annotate_text,xy=(xcoord,ycoord),xycoords=\"axes fraction\")\n",
    "        widgets.interact(interactive)\n",
    "    def end_value_fit(self):\n",
    "        def exponential_fit(x, a, b, c):\n",
    "            return a * np.exp(-b/2 * x) + c\n",
    "        names=[]\n",
    "        end_values=[]\n",
    "        #ylabel=r\"$I$  ($\\mathrm{\\mu}$A)\" use $\\mathrm{\\mu} if Latex rendering\n",
    "        def interactive(xlabel=self.xlabel, ylabel=self.ylabel,savename=\"CA_plot.pdf\",save=False):\n",
    "            fig,ax =plt.subplots()\n",
    "            for experiment in self.experiment_list:\n",
    "                t_fit = np.linspace(0, self.df_liste[experiment][\"t\"].max(), self.df_liste[experiment].shape[0])\n",
    "                popt, pcov = curve_fit(exponential_fit,self.df_liste[experiment][\"t\"], self.df_liste[experiment][\"I\"])\n",
    "                c=popt[2]\n",
    "                names.append(e_chem.experiments[experiment].name)\n",
    "                end_values.append(c)\n",
    "                ax.set_xlabel(xlabel)\n",
    "                ax.set_ylabel(ylabel)\n",
    "                ax.plot(self.df_liste[experiment][\"t\"], self.df_liste[experiment][\"I\"],label=e_chem.experiments[experiment].name)\n",
    "                ax.plot(t_fit, exponential_fit(t_fit, *popt),linewidth=3,linestyle='dotted', label=\"{} fit\".format(e_chem.experiments[experiment].name))\n",
    "                ax.legend(loc=\"best\",frameon=False)\n",
    "                if save:\n",
    "                    fig.savefig(\"plots/\" + savename,bbox_inches='tight')\n",
    "                self.end_value_fit_df = pd.DataFrame(list(zip(names,end_values)), columns=[\"Name\",\"End value\"])   \n",
    "            return  self.end_value_fit_df\n",
    "        widgets.interact(interactive)\n",
    "    def end_value(self):\n",
    "\n",
    "        def interactive(xlabel=self.xlabel, ylabel=self.ylabel,savename=\"CP_plot.pdf\",last_points=75,save=False):\n",
    "            names=[]\n",
    "            end_values=[] \n",
    "            fig,ax =plt.subplots()\n",
    "            for experiment in self.experiment_list:\n",
    "                last_values = self.df_liste[experiment].tail(last_points)[\"I\"].values[0]\n",
    "                average = last_values.mean()\n",
    "                ax.set_xlabel(xlabel)\n",
    "                ax.set_ylabel(ylabel)\n",
    "                ax.plot(self.df_liste[experiment][\"t\"], self.df_liste[experiment][\"I\"],label=e_chem.experiments[experiment].name)\n",
    "                ax.plot(self.df_liste[experiment][\"t\"], [average] * len(self.df_liste[experiment][\"t\"]), linewidth=3,linestyle='dotted', label=\"{} average\".format(e_chem.experiments[experiment].name))\n",
    "                ax.legend(loc=\"best\",frameon=False)\n",
    "                names.append(e_chem.experiments[experiment].name)\n",
    "                end_values.append(average) \n",
    "                if save:\n",
    "                    fig.savefig(\"plots/\" + savename,bbox_inches='tight') \n",
    "            self.end_value_df = pd.DataFrame(list(zip(names,end_values)), columns=[\"Name\",f\"Average of {last_points}\"]) \n",
    "            return  self.end_value_df\n",
    "        widgets.interact(interactive,last_points=(1,200))\n",
    "\n",
    "ca=Chronoamperometry([3],current_density=True)\n",
    "ca.plot()\n",
    "ca.end_value()"
   ]
  },
  {
   "cell_type": "code",
   "execution_count": 15,
   "metadata": {},
   "outputs": [
    {
     "data": {
      "text/plain": [
       "20.0"
      ]
     },
     "execution_count": 15,
     "metadata": {},
     "output_type": "execute_result"
    }
   ],
   "source": [
    "e_chem.experiments[3].analysis.ca.induced_potential[0]"
   ]
  },
  {
   "cell_type": "code",
   "execution_count": 14,
   "metadata": {},
   "outputs": [
    {
     "data": {
      "image/png": "[encoded data removed]",
      "text/plain": [
       "<Figure size 640x480 with 1 Axes>"
      ]
     },
     "metadata": {},
     "output_type": "display_data"
    },
    {
     "data": {
      "application/vnd.jupyter.widget-view+json": {
       "model_id": "8528cc622ddc4ff7bdd91d007a932511",
       "version_major": 2,
       "version_minor": 0
      },
      "text/plain": [
       "interactive(children=(Text(value='$t$ (s)', description='xlabel'), Text(value='$I$ (A)', description='ylabel')…"
      ]
     },
     "metadata": {},
     "output_type": "display_data"
    }
   ],
   "source": [
    "ca=Chronoamperometry(e_chem=e_chem,experiment_list=[3],current_density=False)\n",
    "ca.end_value_fit()\n",
    "#ca.plot()"
   ]
  },
  {
   "cell_type": "code",
   "execution_count": null,
   "metadata": {},
   "outputs": [],
   "source": []
  },
  {
   "cell_type": "code",
   "execution_count": 4,
   "metadata": {},
   "outputs": [
    {
     "data": {
      "application/vnd.jupyter.widget-view+json": {
       "model_id": "b7fbefcf08cb4ce78bbf7bc94804cda9",
       "version_major": 2,
       "version_minor": 0
      },
      "text/plain": [
       "interactive(children=(Dropdown(description='x', options=('SHE', 'RHE', 'Calomel (sat. KCl)', 'Calomel (3.5 M K…"
      ]
     },
     "metadata": {},
     "output_type": "display_data"
    }
   ],
   "source": [
    "import ipywidgets as widgets\n",
    "from IPython.display import display\n",
    "\n",
    "reference_values = {\n",
    "    \"SHE\": 0,\n",
    "    \"RHE\": -0.059,\n",
    "    \"Calomel (sat. KCl)\": 0.241,\n",
    "    \"Calomel (3.5 M KCl)\": 0.250,\n",
    "    \"Calomel (1 M KCl)\": 0.280,\n",
    "    \"Calomel (0.1 M KCl)\": 0.334,\n",
    "    \"Ag/AgCl (sat. KCl)\": 0.199,\n",
    "    \"Ag/AgCl (3.5 M KCl)\": 0.205,\n",
    "    \"Hg/HgO (1 M KOH)\": 0.140,\n",
    "    \"Hg/HgO (0.1 M KOH)\": 0.165,\n",
    "    \"Fc/Fc+\": 0.400\n",
    "}\n",
    "\n",
    "@widgets.interact(x=list(reference_values.keys()), y=list(reference_values.keys()), pH=\"1\", potential=\"0\")\n",
    "def display_widget(x, y, pH, potential):\n",
    "    global result\n",
    "    if x == \"RHE\" or y == \"RHE\":\n",
    "        reference_values[\"RHE\"] = -0.0592 * float(pH)\n",
    "    result = float(potential) + reference_values[y] - reference_values[x]\n",
    "    print(result)\n",
    "    return result\n",
    "\n",
    "test = display_widget\n",
    "\n"
   ]
  },
  {
   "cell_type": "code",
   "execution_count": null,
   "metadata": {},
   "outputs": [],
   "source": []
  },
  {
   "cell_type": "code",
   "execution_count": 27,
   "metadata": {},
   "outputs": [
    {
     "data": {
      "application/vnd.jupyter.widget-view+json": {
       "model_id": "769753e6c6a74e7eb1b573ae831baa77",
       "version_major": 2,
       "version_minor": 0
      },
      "text/plain": [
       "interactive(children=(Dropdown(description='old_reference', index=6, options=('SHE', 'RHE', 'Calomel (sat. KCl…"
      ]
     },
     "metadata": {},
     "output_type": "display_data"
    }
   ],
   "source": [
    "analysis=Analysis()\n",
    "#analysis.reference_list()\n",
    "analysis.reference_difference()\n"
   ]
  },
  {
   "cell_type": "code",
   "execution_count": 9,
   "metadata": {},
   "outputs": [
    {
     "name": "stdout",
     "output_type": "stream",
     "text": [
      "-0.334\n"
     ]
    }
   ],
   "source": [
    "print(analysis.reference_difference_value)"
   ]
  },
  {
   "cell_type": "code",
   "execution_count": 11,
   "metadata": {},
   "outputs": [
    {
     "data": {
      "image/png": "[encoded data removed]",
      "text/plain": [
       "<Figure size 640x480 with 1 Axes>"
      ]
     },
     "metadata": {},
     "output_type": "display_data"
    }
   ],
   "source": [
    "\n",
    "df=pd.read_csv(\"data/CA_Sarkar.txt\",header=0,sep=\";\",decimal=',',usecols=[0,2],names=[\"t\",\"I\"])\n",
    "plt.plot(df[\"t\"],df[\"I\"])\n",
    "plt.show()\n"
   ]
  },
  {
   "cell_type": "code",
   "execution_count": null,
   "metadata": {},
   "outputs": [],
   "source": []
  },
  {
   "cell_type": "code",
   "execution_count": 9,
   "metadata": {},
   "outputs": [
    {
     "name": "stdout",
     "output_type": "stream",
     "text": [
      "-0.199\n"
     ]
    }
   ],
   "source": [
    "print(a)\n",
    "\n",
    "  "
   ]
  },
  {
   "cell_type": "code",
   "execution_count": 2,
   "metadata": {},
   "outputs": [
    {
     "data": {
      "application/vnd.jupyter.widget-view+json": {
       "model_id": "d8d2b963272741ca837a44471237fdc5",
       "version_major": 2,
       "version_minor": 0
      },
      "text/plain": [
       "interactive(children=(Dropdown(description='old_reference', index=6, options=('SHE', 'RHE', 'Calomel (sat. KCl…"
      ]
     },
     "metadata": {},
     "output_type": "display_data"
    }
   ],
   "source": [
    "test=Analysis()\n",
    "test.reference_difference()\n",
    "\n"
   ]
  },
  {
   "cell_type": "code",
   "execution_count": 3,
   "metadata": {},
   "outputs": [
    {
     "data": {
      "text/plain": [
       "0.08100000000000002"
      ]
     },
     "execution_count": 3,
     "metadata": {},
     "output_type": "execute_result"
    }
   ],
   "source": [
    "test.reference_difference_value"
   ]
  },
  {
   "cell_type": "code",
   "execution_count": 15,
   "metadata": {},
   "outputs": [],
   "source": [
    "#cv=CyclicVoltammetry(e_chem,[5],[1])"
   ]
  },
  {
   "cell_type": "code",
   "execution_count": 27,
   "metadata": {},
   "outputs": [
    {
     "data": {
      "application/vnd.jupyter.widget-view+json": {
       "model_id": "e4502c09b28646e58af6c45ae8d972ff",
       "version_major": 2,
       "version_minor": 0
      },
      "text/plain": [
       "interactive(children=(Text(value='Title', description='title'), Text(value='y label', description='y_label'), …"
      ]
     },
     "metadata": {},
     "output_type": "display_data"
    },
    {
     "data": {
      "text/plain": [
       "<function __main__.update_plot(title='Title', y_label='y label', x_value=(0, 10, 0.1), save=False)>"
      ]
     },
     "execution_count": 27,
     "metadata": {},
     "output_type": "execute_result"
    }
   ],
   "source": []
  },
  {
   "cell_type": "code",
   "execution_count": 24,
   "metadata": {},
   "outputs": [
    {
     "ename": "NameError",
     "evalue": "name 'x_value' is not defined",
     "output_type": "error",
     "traceback": [
      "\u001b[0;31m---------------------------------------------------------------------------\u001b[0m",
      "\u001b[0;31mNameError\u001b[0m                                 Traceback (most recent call last)",
      "Cell \u001b[0;32mIn[24], line 1\u001b[0m\n\u001b[0;32m----> 1\u001b[0m x_value \u001b[39m=\u001b[39m [\u001b[39m0\u001b[39m, \u001b[39m1\u001b[39m, x_value]\n\u001b[1;32m      2\u001b[0m y \u001b[39m=\u001b[39m [\u001b[39m1\u001b[39m, \u001b[39m3\u001b[39m, \u001b[39m5\u001b[39m]\n\u001b[1;32m      4\u001b[0m \u001b[39mdef\u001b[39;00m \u001b[39mupdate_plot\u001b[39m(title\u001b[39m=\u001b[39m\u001b[39m\"\u001b[39m\u001b[39mTitle\u001b[39m\u001b[39m\"\u001b[39m, y_label\u001b[39m=\u001b[39m\u001b[39m\"\u001b[39m\u001b[39my label\u001b[39m\u001b[39m\"\u001b[39m, x_value\u001b[39m=\u001b[39m(\u001b[39m0\u001b[39m, \u001b[39m10\u001b[39m, \u001b[39m0.1\u001b[39m), save\u001b[39m=\u001b[39m\u001b[39mFalse\u001b[39;00m):\n",
      "\u001b[0;31mNameError\u001b[0m: name 'x_value' is not defined"
     ]
    }
   ],
   "source": []
  }
 ],
 "metadata": {
  "kernelspec": {
   "display_name": "Python 3 (ipykernel)",
   "language": "python",
   "name": "python3"
  },
  "language_info": {
   "codemirror_mode": {
    "name": "ipython",
    "version": 3
   },
   "file_extension": ".py",
   "mimetype": "text/x-python",
   "name": "python",
   "nbconvert_exporter": "python",
   "pygments_lexer": "ipython3",
   "version": "3.10.6"
  }
 },
 "nbformat": 4,
 "nbformat_minor": 4
}
