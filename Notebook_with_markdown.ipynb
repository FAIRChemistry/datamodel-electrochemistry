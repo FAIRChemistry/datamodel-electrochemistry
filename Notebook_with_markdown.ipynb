{
 "cells": [
  {
   "attachments": {},
   "cell_type": "markdown",
   "metadata": {},
   "source": [
    "# Workflow for e-chemistry \n",
    "Version (10.07.2023) (python version 3.10.6)\n",
    "\n",
    "This workspace is dedicated to e-chemistry, providing analysis tools for CP, CA, and CV. Please note that these tools are specifically designed to work with a particular file format.\n",
    "\n",
    "The CP class is developed and maintained by the Elias Klemm group at the University of Stuttgart. For CA and CV analysis, you can utilize the projects from the Kristina Tschulik group at the University of Bochum and the Biprajit Sarkar group at the University of Stuttgart."
   ]
  },
  {
   "attachments": {},
   "cell_type": "markdown",
   "metadata": {},
   "source": [
    "# Packages for the Analysis tools"
   ]
  },
  {
   "cell_type": "code",
   "execution_count": 1,
   "metadata": {},
   "outputs": [],
   "source": [
    "import pandas as pd\n",
    "import numpy as np\n",
    "import matplotlib.pyplot as plt\n",
    "import os\n",
    "import datetime\n",
    "import copy\n",
    "from scipy.optimize import curve_fit\n",
    "from sdRDM import DataModel\n",
    "from tabulate import tabulate\n",
    "from scipy.integrate import trapz\n",
    "import ipywidgets as widgets\n",
    "from ipywidgets import interact, interactive, fixed, interact_manual\n",
    "from IPython.display import display\n",
    "\n",
    "################################################################\n",
    "#imports the Analysis tools from the subfolder functions. They are in a Py file called Analysis\n",
    "from tools.analysis_tools import ReferenceCalculator,Chronopotentiometry,Chronoamperometry,CyclicVoltammetry\n",
    "%load_ext autoreload\n",
    "%autoreload 2"
   ]
  },
  {
   "attachments": {},
   "cell_type": "markdown",
   "metadata": {},
   "source": [
    "# Creation of the subfolders data and plots\n",
    "By exicuting the following cell two subfolder were created called data and plots. In the data folder you can store your measurement data and the plot folder is the folder were your plots get created. The plot folder is neccasary if you want to save your plots."
   ]
  },
  {
   "cell_type": "code",
   "execution_count": null,
   "metadata": {},
   "outputs": [],
   "source": [
    "path_program=os.getcwd()\n",
    "data=\"/data\"\n",
    "plots=\"/plots\"\n",
    "\n",
    "path_data= path_program + data\n",
    "path_plots=path_program+ plots\n",
    "if not os.path.exists(path_data):\n",
    "    os.makedirs(path_data)\n",
    "if not os.path.exists(path_plots):\n",
    "    os.makedirs(path_plots)\n"
   ]
  },
  {
   "attachments": {},
   "cell_type": "markdown",
   "metadata": {},
   "source": [
    "# Datamodel from GitHub\n",
    "The following cell loads the Datamodel from GitHub and stores it in the variable lib. The Datamodel is stored in e_chem."
   ]
  },
  {
   "cell_type": "code",
   "execution_count": 2,
   "metadata": {},
   "outputs": [],
   "source": [
    "\n",
    "lib = DataModel.from_markdown(\"specifications/Electrochemistry.md\")\n",
    "#lib=DataModel.from_git(url=\"https://github.com/FAIRChemistry/datamodel-electrochemistry.git\")\n",
    "e_chem=lib.Dataset()\n",
    "\n"
   ]
  },
  {
   "cell_type": "markdown",
   "metadata": {},
   "source": [
    "# Data formats\n",
    "## Chronopotentiometry\n",
    "The Chronopotentiometry class works with the formats: \n",
    "- .DTA \n",
    "## Chronoamperometry \n",
    "The Chronoamperometry class accepts the formats:\n",
    "- .csv (group Tschulik)\n",
    "- .dat (group Tschulik)\n",
    "- .txt (group Sarkar)\n",
    "### Cyclic Voltammetry \n",
    "The CyclicVoltammetry class accepts the formats:\n",
    "- .csv (group Tschulik & Sarkar)\n",
    "- .xlsx (group Sarkar)\n",
    "  \n",
    "Please note that the CSV file needs to be saved in UTF-8 format. To ensure this, open the CSV file in an editor like Excel and save it as a UTF-8 CSV file. This step is necessary to properly handle special characters and encoding. However, this encoding consideration is not required for XLSX files.\n",
    "\n",
    "Unlike CSV files, XLSX files do not require specific encoding considerations. They inherently support a wider range of characters, including special characters, without the need for explicit encoding settings. Additionally, the data parser for XLSX files often works faster due to its utilization of the \"C\" engine."
   ]
  },
  {
   "cell_type": "markdown",
   "metadata": {},
   "source": [
    "# Input in the data model\n",
    "The following shows how to store your data in the datamodel. If you want to see which variable are in an object of the model you can use the `.__dict__` command. \n",
    "For example, if you want to see which object the electrode_setup was executed on use:\n",
    "\n",
    "`lib.ElectrodeSetup().__dict__`"
   ]
  },
  {
   "cell_type": "code",
   "execution_count": 4,
   "metadata": {},
   "outputs": [
    {
     "data": {
      "text/plain": [
       "{'id': 'electrodesetup0',\n",
       " 'working_electrode': None,\n",
       " 'working_electrode_area': None,\n",
       " 'working_electrode_area_unit': None,\n",
       " 'counter_electrode': None,\n",
       " 'reference_electrode': None,\n",
       " 'reference_electrode_salt': None,\n",
       " 'reference_electrode_salt_concentration': None,\n",
       " 'reference_electrode_salt_concentration_unit': None}"
      ]
     },
     "execution_count": 4,
     "metadata": {},
     "output_type": "execute_result"
    }
   ],
   "source": [
    "lib.ElectrodeSetup().__dict__"
   ]
  },
  {
   "cell_type": "markdown",
   "metadata": {},
   "source": [
    "If the filename object in lib.Experiments requires the path along with the filename, you should provide the path accordingly. Here are the guidelines:\n",
    "\n",
    "If your experiment files are located in the same directory as your notebook, you can simply use the filename without any path.\n",
    "Example: filename = \"experiment.csv\"\n",
    "\n",
    "If you store your experiment files in a subfolder named \"data\", you should include the path \"data/\" along with the filename.\n",
    "- Example: filename = \"data/experiment.csv\"\n",
    "\n",
    "Make sure to adjust the path and filename according to the actual location of your experiment files"
   ]
  },
  {
   "cell_type": "code",
   "execution_count": 3,
   "metadata": {},
   "outputs": [],
   "source": [
    "\"\"\"The following shows ho to store experiments into the list of experiments\"\"\"\n",
    "experiment0=lib.Experiment(name=\"Cu 12 nm\",filename=\"data/Cu12nm.DTA\",type=\"CP\")\n",
    "experiment1=lib.Experiment(name=\"Cu 14 nm\",filename=\"data/Cu14nm.DTA\",type=\"CP\")\n",
    "experiment2=lib.Experiment(name=\"CA1\",filename=\"data/CA1.dat\",type=\"CA\")\n",
    "experiment3=lib.Experiment(name=\"CA\",filename=\"data/CA_Sarkar.txt\",type=\"CA\")\n",
    "experiment4=lib.Experiment(name=\"CV\",filename=\"data/SarkarCV_utf8.csv\",type=\"CV\")\n",
    "experiment5=lib.Experiment(name=\"CV\",filename=\"data/CV_all2.xlsx\",type=\"CV\")\n",
    "experiment6=lib.Experiment(name=\"CV\",filename=\"data/CV_all.xlsx\",type=\"CV\")\n",
    "experiment7=lib.Experiment(name=\"Re Complex\",filename=\"data/Ox_100mVs.csv\",type=\"CV\")\n",
    "experiment8=lib.Experiment(name=\"Fc\",filename=\"data/Ref_Fc_100mVs.csv\",type=\"CV\")\n",
    "e_chem.experiments=[experiment0,experiment1,experiment2,experiment3,experiment4,experiment5,experiment6,experiment7,experiment8]\n",
    "#### CP\n",
    "e_chem.experiments[0].electrode_setup=lib.ElectrodeSetup(counter_electrode=\"Pt\",reference_electrode=\"Hg/HgO\",reference_electrode_salt=\"KCl\",reference_electrode_salt_concentration=1,reference_electrode_salt_concentration_unit=\"M\",working_electrode=\"Au\",working_electrode_area=1,working_electrode_area_unit=\"cm^2\")\n",
    "e_chem.experiments[1].electrode_setup=lib.ElectrodeSetup(counter_electrode=\"Pt\",reference_electrode=\"Ag/AgCl\",reference_electrode_salt=\"KCl\",reference_electrode_salt_concentration=1,reference_electrode_salt_concentration_unit=\"M\",working_electrode=\"Au\",working_electrode_area=1,working_electrode_area_unit=\"cm^2\")\n",
    "e_chem.experiments[0].electrolyte=lib.Electrolyte(solvent=\"H$_2$O\",conducting_salt=\"KOH\",conducting_salt_concentration=1,conducting_salt_concentration_unit=lib.enums.ConcentrationUnits.MOLAR,pH=10)\n",
    "e_chem.experiments[1].electrolyte=lib.Electrolyte(solvent=\"MeCN\",conducting_salt=\"KOH\",conducting_salt_concentration=1,conducting_salt_concentration_unit=lib.enums.ConcentrationUnits.MOLAR,pH=10)\n",
    "e_chem.experiments[0].analysis=lib.Analysis(cp=lib.CP(induced_current=[200],induced_current_unit=\"mA\",measurement_potential_unit=\"V\",measurement_time_unit=\"s\"))\n",
    "e_chem.experiments[1].analysis=lib.Analysis(cp=lib.CP(induced_current=[200],induced_current_unit=\"mA\",measurement_potential_unit=\"V\",measurement_time_unit=\"s\"))\n",
    "#### CA\n",
    "e_chem.experiments[2].electrode_setup=lib.ElectrodeSetup(working_electrode_area=1,working_electrode_area_unit=\"cm^2\",counter_electrode=\"Pt\",reference_electrode=\"Hg/HgO\",reference_electrode_salt=\"KCl\",reference_electrode_salt_concentration=1,reference_electrode_salt_concentration_unit=\"M\")\n",
    "e_chem.experiments[3].electrode_setup=lib.ElectrodeSetup(working_electrode_area=1,working_electrode_area_unit=\"cm^2\",counter_electrode=\"Pt\",reference_electrode=\"Ag/AgCl\",reference_electrode_salt=\"KCl\",reference_electrode_salt_concentration=1,reference_electrode_salt_concentration_unit=\"M\")\n",
    "e_chem.experiments[2].electrolyte=lib.Electrolyte(solvent=\"H$_2$O\",conducting_salt=\"KOH\",conducting_salt_concentration=1,conducting_salt_concentration_unit=\"M\",pH=10)\n",
    "e_chem.experiments[3].electrolyte=lib.Electrolyte(solvent=\"MeCN\",conducting_salt=\"KOH\",conducting_salt_concentration=1,conducting_salt_concentration_unit=\"M\",pH=10)\n",
    "e_chem.experiments[2].analysis=lib.Analysis(ca=lib.CA(induced_potential=[20],induced_potential_unit=\"V\",measurement_current_unit=\"A\",measurement_time_unit=\"s\"))\n",
    "e_chem.experiments[3].analysis=lib.Analysis(ca=lib.CA(induced_potential=[20],induced_potential_unit=\"V\",measurement_current_unit=\"A\",measurement_time_unit=\"s\"))\n",
    "#### CV\n",
    "e_chem.experiments[4].electrode_setup=lib.ElectrodeSetup(working_electrode=\"Au\",working_electrode_area=2,working_electrode_area_unit=\"cm^2\",counter_electrode=\"Pt\",reference_electrode=\"Ag/AgCl\",reference_electrode_salt=\"KCl\",reference_electrode_salt_concentration=1,reference_electrode_salt_concentration_unit=\"M\")\n",
    "e_chem.experiments[4].electrolyte=lib.Electrolyte(solvent=\"H$_2$O\",conducting_salt=\"KOH\",conducting_salt_concentration=1,conducting_salt_concentration_unit=\"M\",pH=10)\n",
    "e_chem.experiments[4].analysis=lib.Analysis(cv=lib.CV(scan_rate=20,scan_rate_unit=\"mV/s\",measurement_current_unit=\"µA\",measurement_potential_unit=\"V\"))\n",
    "e_chem.experiments[5].electrode_setup=lib.ElectrodeSetup(working_electrode=\"Au\",working_electrode_area=2,working_electrode_area_unit=\"cm^2\",counter_electrode=\"Pt\",reference_electrode=\"Ag/AgCl\",reference_electrode_salt=\"KCl\",reference_electrode_salt_concentration=1,reference_electrode_salt_concentration_unit=\"M\")\n",
    "e_chem.experiments[5].electrolyte=lib.Electrolyte(solvent=\"MeCN\",conducting_salt=\"[Bu$_4$N][PF$_6$]\",conducting_salt_concentration=1,conducting_salt_concentration_unit=\"M\",pH=10)\n",
    "e_chem.experiments[5].analysis=lib.Analysis(cv=lib.CV(scan_rate=20,scan_rate_unit=\"mV/s\",measurement_current_unit=\"µA\",measurement_potential_unit=\"V\"))\n",
    "e_chem.experiments[6].electrode_setup=lib.ElectrodeSetup(working_electrode=\"Au\",working_electrode_area=2,working_electrode_area_unit=\"cm^2\",counter_electrode=\"Pt\",reference_electrode=\"Ag/AgCl\",reference_electrode_salt=\"KCl\",reference_electrode_salt_concentration=1,reference_electrode_salt_concentration_unit=\"M\")\n",
    "e_chem.experiments[6].electrolyte=lib.Electrolyte(solvent=\"H$_2$O\",conducting_salt=\"KOH\",conducting_salt_concentration=1,conducting_salt_concentration_unit=\"M\",pH=10)\n",
    "e_chem.experiments[6].analysis=lib.Analysis(cv=lib.CV(scan_rate=20,scan_rate_unit=\"mV/s\",measurement_current_unit=\"µA\",measurement_potential_unit=\"V\"))\n",
    "e_chem.experiments[7].electrode_setup=lib.ElectrodeSetup(working_electrode=\"Au\",working_electrode_area=2,working_electrode_area_unit=\"cm^2\",counter_electrode=\"Pt\",reference_electrode=\"Ag/AgCl\",reference_electrode_salt=\"KCl\",reference_electrode_salt_concentration=1,reference_electrode_salt_concentration_unit=\"M\")\n",
    "e_chem.experiments[7].electrolyte=lib.Electrolyte(solvent=\"H$_2$O\",conducting_salt=\"KOH\",conducting_salt_concentration=1,conducting_salt_concentration_unit=\"M\",pH=10)\n",
    "e_chem.experiments[7].analysis=lib.Analysis(cv=lib.CV(scan_rate=100,scan_rate_unit=\"mV/s\",measurement_current_unit=\"µA\",measurement_potential_unit=\"V\"))\n",
    "e_chem.experiments[8].electrode_setup=lib.ElectrodeSetup(working_electrode=\"Au\",working_electrode_area=2,working_electrode_area_unit=\"cm^2\",counter_electrode=\"Pt\",reference_electrode=\"Ag/AgCl\",reference_electrode_salt=\"KCl\",reference_electrode_salt_concentration=1,reference_electrode_salt_concentration_unit=\"M\")\n",
    "e_chem.experiments[8].electrolyte=lib.Electrolyte(solvent=\"H$_2$O\",conducting_salt=\"KOH\",conducting_salt_concentration=1,conducting_salt_concentration_unit=\"M\",pH=10)\n",
    "e_chem.experiments[8].analysis=lib.Analysis(cv=lib.CV(scan_rate=100,scan_rate_unit=\"mV/s\",measurement_current_unit=\"µA\",measurement_potential_unit=\"V\"))"
   ]
  },
  {
   "cell_type": "code",
   "execution_count": 27,
   "metadata": {},
   "outputs": [
    {
     "data": {
      "text/plain": [
       "[]"
      ]
     },
     "execution_count": 27,
     "metadata": {},
     "output_type": "execute_result"
    }
   ],
   "source": [
    "e_chem.experiments[0].analysis.cp.potential_end_value"
   ]
  },
  {
   "cell_type": "code",
   "execution_count": 20,
   "metadata": {},
   "outputs": [
    {
     "name": "stdout",
     "output_type": "stream",
     "text": [
      "[]\n"
     ]
    }
   ],
   "source": [
    "\n",
    "e_chem.experiments[5].analysis.cv.cycles=[]\n",
    "print(e_chem.experiments[5].analysis.cv.cycles)"
   ]
  },
  {
   "cell_type": "code",
   "execution_count": 10,
   "metadata": {},
   "outputs": [
    {
     "data": {
      "text/plain": [
       "True"
      ]
     },
     "execution_count": 10,
     "metadata": {},
     "output_type": "execute_result"
    }
   ],
   "source": [
    "e_chem.experiments[0].type==\"CP\""
   ]
  },
  {
   "attachments": {},
   "cell_type": "markdown",
   "metadata": {},
   "source": [
    "# Change the style and parameter of the plots\n",
    "The following cell is not needed only if you want to change some parameters of your plots"
   ]
  },
  {
   "cell_type": "code",
   "execution_count": 4,
   "metadata": {},
   "outputs": [],
   "source": [
    "plt.rcParams.update({\n",
    "    'figure.figsize': (6.4,4.8),     # 4:3 aspect ratio. You can change the figure size here\n",
    "    'font.size' : 12,                   # Set font size to 12pt\n",
    "    'axes.labelsize': 12,               # -> axis labels\n",
    "    'legend.fontsize': 12,              # -> legends\n",
    "    'font.family': 'serif',             # -> font family  \n",
    "    'font.sans-serif': 'Times New Roman',\n",
    "    'text.usetex': False,              # Latex plot rendering. If True,your plots will be rendered with Latex. But this needs extra time for rendering\n",
    "     'text.latex.preamble':            # LaTeX preamble\n",
    "         r'\\usepackage{mlmodern}'\n",
    "         #mathptmx = Times\n",
    "         #... more packages if needed\n",
    "})\n",
    "####################\n",
    "#Here u can also use an other matplotlib style, like ggplot\n",
    "#plt.style.use('ggplot') # You can choose ure matplotlib style"
   ]
  },
  {
   "attachments": {},
   "cell_type": "markdown",
   "metadata": {},
   "source": [
    "# If you prefere plotstyle like Origin use the following code:"
   ]
  },
  {
   "cell_type": "code",
   "execution_count": 18,
   "metadata": {},
   "outputs": [],
   "source": [
    "##### \"\"\"\" For Plotstyle like Origin:\n",
    "from matplotlib import  cycler\n",
    "plt.rcParams['font.family'] = 'sans-serif'\n",
    "plt.rcParams['font.sans-serif'] = ['Arial', 'Helvetica', 'Verdana', 'DejaVu Sans']\n",
    "plt.rcParams['font.size'] = 15\n",
    "plt.rcParams['axes.linewidth'] = 1.1\n",
    "plt.rcParams['axes.labelpad'] = 5.0\n",
    "plot_color_cycle = cycler('color', [ '0000FE', 'FE0000', '008001', 'FD8000', '8c564b', 'e377c2', '7f7f7f', 'bcbd22', '17becf','000000'])\n",
    "plt.rcParams['axes.prop_cycle'] = plot_color_cycle\n"
   ]
  },
  {
   "attachments": {},
   "cell_type": "markdown",
   "metadata": {},
   "source": [
    "# Analytic tools\n",
    "## ReferenceCalculator class \n",
    "The ReferenceCalculator class includes a list of different reference potentials and a reference_difference function (Reference: https://www.edaq.com/wiki/Reference_Electrode_Potentials (visited on 03.08.23)). This can be used to calculate the difference between two reference potentials. The reference_difference function is an interactive calculator."
   ]
  },
  {
   "cell_type": "code",
   "execution_count": 56,
   "metadata": {},
   "outputs": [
    {
     "name": "stdout",
     "output_type": "stream",
     "text": [
      "Reference                  Potential vs. (NHE) (V)\n",
      "-----------------------  -------------------------\n",
      "SHE                                         0\n",
      "RHE                                        -0.0591\n",
      "Hg/Hg2Cl2 (0.1 M KCl)                       0.334\n",
      "Hg/Hg2Cl2 (1 M KCl)                         0.28\n",
      "Hg/Hg2Cl2 (3.5 M KCl)                       0.25\n",
      "Hg/Hg2Cl2 (sat. KCl)                        0.241\n",
      "Hg/Hg2SO4 (0.5 M H2SO4)                     0.682\n",
      "Hg/Hg2SO4 (1 M H2SO4)                       0.674\n",
      "Hg/Hg2SO4 (sat. K2SO4)                      0.65\n",
      "Ag/AgCl (0.1 M KCl)                         0.2881\n",
      "Ag/AgCl (3 M KCl)                           0.21\n",
      "Ag/AgCl (3.5 M KCl)                         0.205\n",
      "Ag/AgCl (sat. KCl)                          0.199\n",
      "Ag/Ag2SO4 (0.5 M H2SO4)                     0.72\n",
      "Ag/Ag2SO4 (1 M H2SO4)                       0.71\n",
      "Ag/Ag2SO4 (sat. K2SO4)                      0.68\n",
      "Hg/HgO (0.1 M NaOH)                         0.165\n",
      "Hg/HgO (1 M NaOH)                           0.14\n"
     ]
    },
    {
     "data": {
      "application/vnd.jupyter.widget-view+json": {
       "model_id": "e848d3c099204bc6956e037aa904c0bf",
       "version_major": 2,
       "version_minor": 0
      },
      "text/plain": [
       "interactive(children=(Dropdown(description='old_reference', index=12, options=('SHE', 'RHE', 'Hg/Hg2Cl2 (0.1 M…"
      ]
     },
     "metadata": {},
     "output_type": "display_data"
    }
   ],
   "source": [
    "calculator=ReferenceCalculator(e_chem=e_chem,experiment_list=[0])\n",
    "calculator.reference_list()\n",
    "calculator.reference_difference()"
   ]
  },
  {
   "attachments": {},
   "cell_type": "markdown",
   "metadata": {},
   "source": [
    "# Chronopotentiometry\n",
    "- Chronopotentiometry(e_chem,experiment_list,add_potential_value=None,new_reference_name=None,change_reference=False)\n",
    "\n",
    "This class specifically requires a list of Chronopotentiometry experiments as input. For example, you can pass in [0, 1] to indicate using the first and second experiments that you defined earlier. By setting change_reference=True and specifying a value in add_potential_value, you can conveniently adjust your reference and perform calculations in the new reference scale. Additionally, you have the option to customize the label of your y-axis by defining new_reference_name. It's important to note that this functionality only works when change_reference=True."
   ]
  },
  {
   "attachments": {},
   "cell_type": "markdown",
   "metadata": {},
   "source": [
    "The CP class has the following functions:\n",
    "- quick_plot() -> shows all relevant data: $E$ vs time, $I$ vs. time and $E$ of the mess cell vs time. It is only to check if your data looks good or not\n",
    "- plot() -> return a plot $E$ vs time. \n",
    "- end_value()\n",
    "- end_value_fit()"
   ]
  },
  {
   "attachments": {},
   "cell_type": "markdown",
   "metadata": {},
   "source": [
    "To determine the last potential, you have two options:\n",
    "\n",
    "Using end_value(): This function returns the average of the last 75 values of your measurement by default. However, you can also specify a different range, up to the last 200 values, based on your choice. This method is suitable for general measurements.\n",
    "\n",
    "Using end_value_fit(): This alternative method determines the last potential through a fit function. It can be particularly useful for handling oscillating measurement data or cases where a fit provides a more accurate representation of the last potential.\n",
    "\n",
    "By utilizing either end_value() or end_value_fit(), you can determine the last potential in your measurement based on your specific needs and the characteristics of your data."
   ]
  },
  {
   "cell_type": "code",
   "execution_count": 38,
   "metadata": {},
   "outputs": [
    {
     "data": {
      "application/vnd.jupyter.widget-view+json": {
       "model_id": "4ed610dd40f1449ebecf345aa4c6b7b3",
       "version_major": 2,
       "version_minor": 0
      },
      "text/plain": [
       "interactive(children=(Text(value='$t$ (s)', description='xlabel'), Text(value='$E$ vs. Hg/HgO (V)', descriptio…"
      ]
     },
     "metadata": {},
     "output_type": "display_data"
    },
    {
     "name": "stdout",
     "output_type": "stream",
     "text": [
      "id='potentialendvalue0' method='average over  last values' end_value=-1.60056 reference_name='Hg/HgO' change_reference_potential=0.0 last_average_points=100 fit_function=None\n",
      "Potential was added to the datamodel\n",
      "id='potentialendvalue1' method='average over  last values' end_value=-1.81256 reference_name='Hg/HgO' change_reference_potential=0.0 last_average_points=100 fit_function=None\n",
      "Potential was added to the datamodel\n"
     ]
    }
   ],
   "source": [
    "cp=Chronopotentiometry(e_chem=e_chem,experiment_list=[0,1],change_reference_list_index=0,change_reference=False)\n",
    "# cp.quick_plot()\n",
    "#cp.plot()\n",
    "cp.end_value()\n",
    "# cp.end_value_fit()"
   ]
  },
  {
   "attachments": {},
   "cell_type": "markdown",
   "metadata": {},
   "source": [
    "# Chronoamperometry\n",
    "- Chronoamperometry(e_chem,experiment_list,current_density=False)\n",
    "\n",
    "This class is very similar to the ChronoPotentiometry class; it has the same input parameter experiment_list. However, it has an additional attribute called current_density, which is set to False by default. By setting current_density to True, you will be able to work with the current density instead of the current in your calculations or analysis."
   ]
  },
  {
   "attachments": {},
   "cell_type": "markdown",
   "metadata": {},
   "source": [
    "The CA class has the following functions:\n",
    "- plot() -> return a plot $I$ vs time\n",
    "- end_value()\n",
    "- end_value_fit()"
   ]
  },
  {
   "cell_type": "code",
   "execution_count": 11,
   "metadata": {},
   "outputs": [
    {
     "data": {
      "application/vnd.jupyter.widget-view+json": {
       "model_id": "7c5ce1d9ba6a4e49b963e380edc9699b",
       "version_major": 2,
       "version_minor": 0
      },
      "text/plain": [
       "interactive(children=(Text(value='$t$ (s)', description='xlabel'), Text(value='$J$ (A/cm$^2$)', description='y…"
      ]
     },
     "metadata": {},
     "output_type": "display_data"
    }
   ],
   "source": [
    "ca=Chronoamperometry(e_chem=e_chem,experiment_list=[3],current_density=True)\n",
    "ca.plot()\n",
    "# ca.end_value()\n",
    "# ca.end_value_fit()"
   ]
  },
  {
   "attachments": {},
   "cell_type": "markdown",
   "metadata": {},
   "source": [
    "# CyclicVoltammetry \n",
    "- CyclicVoltammetry(e_chem,experiment,cycles,add_potential_value,new_reference_name,current_density=False,change_reference=False)\n",
    "\n",
    "The CyclicVoltammetry class is for Cyclic Voltammetry. By set cycles=`None` it automatically uses all cycles which are in your datafile.\n",
    "It has the following methods:\n",
    "- plot()\n",
    "- peaks() \n",
    "- integration() \n",
    "- ferrocene_reference(experiment2) # This method requires a second experiment. This experiment should involve using your sample without the ferrocene measurement, while using the ferrocene experiment as the initialization step.\n"
   ]
  },
  {
   "cell_type": "code",
   "execution_count": 40,
   "metadata": {},
   "outputs": [
    {
     "data": {
      "application/vnd.jupyter.widget-view+json": {
       "model_id": "db77d59552434e10966efa25e208b9bc",
       "version_major": 2,
       "version_minor": 0
      },
      "text/plain": [
       "interactive(children=(FloatSlider(value=-1.49903, description='E_Min', max=0.299962, min=-1.49903), FloatSlide…"
      ]
     },
     "metadata": {},
     "output_type": "display_data"
    }
   ],
   "source": [
    "\n",
    "cv=CyclicVoltammetry(e_chem=e_chem,experiment=4,cycles=None,change_reference_list_index=None,current_density=True,change_reference=False)\n",
    "#cv.plot()\n",
    "cv.peaks()\n",
    "#cv.integration()\n",
    "#cv.ferrocene_reference(experiment2=6)\n",
    "#cv.integration()\n"
   ]
  },
  {
   "cell_type": "code",
   "execution_count": null,
   "metadata": {},
   "outputs": [],
   "source": []
  },
  {
   "cell_type": "code",
   "execution_count": 21,
   "metadata": {},
   "outputs": [
    {
     "data": {
      "application/vnd.jupyter.widget-view+json": {
       "model_id": "e0f36a5cd17c49038d24223c5aabee09",
       "version_major": 2,
       "version_minor": 0
      },
      "text/plain": [
       "interactive(children=(Text(value='$E$ vs. Fc / Fc$^{+}$ (V)', description='xlabel'), Text(value='$J$ (µA / cm$…"
      ]
     },
     "metadata": {},
     "output_type": "display_data"
    }
   ],
   "source": [
    "cv=CyclicVoltammetry(e_chem=e_chem,experiment=6,cycles=[1],add_potential_value=-0.360544,change_reference=True,current_density=True)\n",
    "cv.plot()"
   ]
  },
  {
   "cell_type": "code",
   "execution_count": 12,
   "metadata": {},
   "outputs": [
    {
     "name": "stdout",
     "output_type": "stream",
     "text": [
      "[Cycle(id='cycle0', cycle_number=[], peak_maxima=[], peak_minima=[], half_wave_potential=[])]\n",
      "[Cycle(id='cycle0', cycle_number=[], peak_maxima=[], peak_minima=[], half_wave_potential=[]), Cycle(id='cycle1', cycle_number=[], peak_maxima=[], peak_minima=[], half_wave_potential=[])]\n"
     ]
    },
    {
     "data": {
      "application/vnd.jupyter.widget-view+json": {
       "model_id": "bde3df73297a464ca85cfbfa05a6a934",
       "version_major": 2,
       "version_minor": 0
      },
      "text/plain": [
       "interactive(children=(FloatSlider(value=-1.49903, description='E_Min', max=0.299962, min=-1.49903), FloatSlide…"
      ]
     },
     "metadata": {},
     "output_type": "display_data"
    }
   ],
   "source": [
    "cv=CyclicVoltammetry(e_chem=e_chem,experiment=4,cycles=[1],add_potential_value=None,new_reference_name=None,current_density=True,change_reference=False)\n",
    "#cv.plot()\n",
    "cv.peaks()"
   ]
  },
  {
   "cell_type": "code",
   "execution_count": 5,
   "metadata": {},
   "outputs": [
    {
     "ename": "NameError",
     "evalue": "name 'json_files' is not defined",
     "output_type": "error",
     "traceback": [
      "\u001b[0;31m---------------------------------------------------------------------------\u001b[0m",
      "\u001b[0;31mNameError\u001b[0m                                 Traceback (most recent call last)",
      "Cell \u001b[0;32mIn[5], line 1\u001b[0m\n\u001b[0;32m----> 1\u001b[0m \u001b[39mwith\u001b[39;00m \u001b[39mopen\u001b[39m(json_files[index_dataset], \u001b[39m\"\u001b[39m\u001b[39mw\u001b[39m\u001b[39m\"\u001b[39m) \u001b[39mas\u001b[39;00m f:\n\u001b[1;32m      2\u001b[0m   f\u001b[39m.\u001b[39mwrite(dataset\u001b[39m.\u001b[39mjson())\n",
      "\u001b[0;31mNameError\u001b[0m: name 'json_files' is not defined"
     ]
    }
   ],
   "source": [
    "# with open(json_files[index_dataset], \"w\") as f:\n",
    "#   f.write(dataset.json())"
   ]
  }
 ],
 "metadata": {
  "kernelspec": {
   "display_name": "Python 3 (ipykernel)",
   "language": "python",
   "name": "python3"
  },
  "language_info": {
   "codemirror_mode": {
    "name": "ipython",
    "version": 3
   },
   "file_extension": ".py",
   "mimetype": "text/x-python",
   "name": "python",
   "nbconvert_exporter": "python",
   "pygments_lexer": "ipython3",
   "version": "3.10.6"
  }
 },
 "nbformat": 4,
 "nbformat_minor": 4
}
